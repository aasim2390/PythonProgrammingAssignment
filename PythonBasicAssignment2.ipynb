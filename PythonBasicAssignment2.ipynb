{
  "nbformat": 4,
  "nbformat_minor": 0,
  "metadata": {
    "colab": {
      "name": "PythonBasicAssignment2.ipynb",
      "provenance": []
    },
    "kernelspec": {
      "name": "python3",
      "display_name": "Python 3"
    },
    "language_info": {
      "name": "python"
    }
  },
  "cells": [
    {
      "cell_type": "markdown",
      "source": [
        "###Programming Basic python Assignment 02"
      ],
      "metadata": {
        "id": "vc5BGSIu4htz"
      }
    },
    {
      "cell_type": "markdown",
      "source": [
        "**1.\tWrite a Python program to convert kilometers to miles?**"
      ],
      "metadata": {
        "id": "jcJiqKpF4sLx"
      }
    },
    {
      "cell_type": "code",
      "execution_count": 5,
      "metadata": {
        "colab": {
          "base_uri": "https://localhost:8080/"
        },
        "id": "fyAOHsAG4cGh",
        "outputId": "a6f15197-fc66-48ea-c78e-33af34ae4094"
      },
      "outputs": [
        {
          "output_type": "stream",
          "name": "stdout",
          "text": [
            "Enter the value in km : 10\n",
            "10 km =  6.2 miles\n"
          ]
        }
      ],
      "source": [
        "km = eval(input(\"Enter the value in km : \"))\n",
        "print(km,\"km = \",round(0.6213,2) * km,\"miles\")\n"
      ]
    },
    {
      "cell_type": "markdown",
      "source": [
        "**2.\tWrite a Python program to convert Celsius to Fahrenheit?**"
      ],
      "metadata": {
        "id": "UZjTaKM-5ZsI"
      }
    },
    {
      "cell_type": "code",
      "source": [
        "cel = eval(input(\"Enter the value in celsius : \"))\n",
        "f = (cel * (9/5)) +32\n",
        "print(f\"{cel} Celsius = {f} Fahrenheit\")"
      ],
      "metadata": {
        "colab": {
          "base_uri": "https://localhost:8080/"
        },
        "id": "icib0A8E5jWt",
        "outputId": "91874018-9ccb-4958-9666-7f90826b7121"
      },
      "execution_count": 7,
      "outputs": [
        {
          "output_type": "stream",
          "name": "stdout",
          "text": [
            "Enter the value in celsius : 20\n",
            "20 Celsius = 68.0 Fahrenheit\n"
          ]
        }
      ]
    },
    {
      "cell_type": "markdown",
      "source": [
        "**3.\tWrite a Python program to display calendar?**"
      ],
      "metadata": {
        "id": "C7-NLHjE6NM6"
      }
    },
    {
      "cell_type": "code",
      "source": [
        "import calendar\n",
        "\n",
        "# To take month and year input from the user\n",
        "yy = int(input(\"Enter year: \"))\n",
        "mm = int(input(\"Enter month: \"))\n",
        "\n",
        "# display the calendar\n",
        "print(\"\\n\",calendar.month(yy, mm))"
      ],
      "metadata": {
        "colab": {
          "base_uri": "https://localhost:8080/"
        },
        "id": "iAdV_-c96fhH",
        "outputId": "6a286567-b042-46e6-c121-d772fcb53c01"
      },
      "execution_count": 9,
      "outputs": [
        {
          "output_type": "stream",
          "name": "stdout",
          "text": [
            "Enter year: 2021\n",
            "Enter month: 12\n",
            "\n",
            "    December 2021\n",
            "Mo Tu We Th Fr Sa Su\n",
            "       1  2  3  4  5\n",
            " 6  7  8  9 10 11 12\n",
            "13 14 15 16 17 18 19\n",
            "20 21 22 23 24 25 26\n",
            "27 28 29 30 31\n",
            "\n"
          ]
        }
      ]
    },
    {
      "cell_type": "markdown",
      "source": [
        "**4.\tWrite a Python program to solve quadratic equation?**\n"
      ],
      "metadata": {
        "id": "EamA3XGw6egD"
      }
    },
    {
      "cell_type": "code",
      "source": [
        "#The standard form of a quadratic equation is:\n",
        "#ax2 + bx + c = 0, where\n",
        "#a, b and c are real numbers and\n",
        "#a ≠ 0\n",
        "\n",
        "\n",
        "#The solutions of this quadratic equation is given by:\n",
        "#(-b ± (b ** 2 - 4 * a * c) ** 0.5) / (2 * a)\n",
        "\n",
        "import cmath #module to perform complex square root.\n",
        "\n",
        "a = 1\n",
        "b = 5\n",
        "c = 6\n",
        "\n",
        "# calculate the discriminant\n",
        "d = (b**2) - (4*a*c)  # D=b^2 - 4ac\n",
        "\n",
        "# find two solutions\n",
        "sol1 = (-b-cmath.sqrt(d))/(2*a)\n",
        "sol2 = (-b+cmath.sqrt(d))/(2*a)\n",
        "\n",
        "print(f'The solution are {sol1} and {sol2}')"
      ],
      "metadata": {
        "colab": {
          "base_uri": "https://localhost:8080/"
        },
        "id": "IUv9TgBp7Kmf",
        "outputId": "220a93b3-5b49-4719-f5b0-cef0e4f72d7b"
      },
      "execution_count": 13,
      "outputs": [
        {
          "output_type": "stream",
          "name": "stdout",
          "text": [
            "The solution are (-3+0j) and (-2+0j)\n"
          ]
        }
      ]
    },
    {
      "cell_type": "markdown",
      "source": [
        "**5.\tWrite a Python program to swap two variables without temp variable?**"
      ],
      "metadata": {
        "id": "oNmmGnUO7-Ig"
      }
    },
    {
      "cell_type": "code",
      "source": [
        "a=5\n",
        "b=10\n",
        "\n",
        "\n",
        "print(f\"Before: value of a = {a} and b = {b}\")\n",
        "a,b = b,a\n",
        "\n",
        "print(f\"After: value of a = {a} and b = {b}\")"
      ],
      "metadata": {
        "colab": {
          "base_uri": "https://localhost:8080/"
        },
        "id": "2rwFDpjq8BWz",
        "outputId": "4620141b-365a-4aee-a19a-20e291ce0f57"
      },
      "execution_count": 14,
      "outputs": [
        {
          "output_type": "stream",
          "name": "stdout",
          "text": [
            "Before: value of a = 5 and b = 10\n",
            "After: value of a = 10 and b = 5\n"
          ]
        }
      ]
    }
  ]
}