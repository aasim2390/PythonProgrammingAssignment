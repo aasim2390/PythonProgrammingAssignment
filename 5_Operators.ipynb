{
  "nbformat": 4,
  "nbformat_minor": 0,
  "metadata": {
    "colab": {
      "provenance": [],
      "authorship_tag": "ABX9TyOShNLnQ+Dd8qi1KD82HVpT",
      "include_colab_link": true
    },
    "kernelspec": {
      "name": "python3",
      "display_name": "Python 3"
    },
    "language_info": {
      "name": "python"
    }
  },
  "cells": [
    {
      "cell_type": "markdown",
      "metadata": {
        "id": "view-in-github",
        "colab_type": "text"
      },
      "source": [
        "<a href=\"https://colab.research.google.com/github/aasim2390/PythonProgrammingAssignment/blob/main/5_Operators.ipynb\" target=\"_parent\"><img src=\"https://colab.research.google.com/assets/colab-badge.svg\" alt=\"Open In Colab\"/></a>"
      ]
    },
    {
      "cell_type": "markdown",
      "source": [
        "**Ques1** - Write a python script to remove the last digit from a given number. (for example, if\n",
        "user enters 2534 then your output should be 253)"
      ],
      "metadata": {
        "id": "uFVxlcY7zVYA"
      }
    },
    {
      "cell_type": "code",
      "execution_count": 4,
      "metadata": {
        "colab": {
          "base_uri": "https://localhost:8080/"
        },
        "id": "zWtqANJ4zRkB",
        "outputId": "14bb669c-84e6-4052-9d8d-5932fc53a7a0"
      },
      "outputs": [
        {
          "output_type": "stream",
          "name": "stdout",
          "text": [
            "Enter a integer number:23.65\n",
            "You have entered incorrect format. Try again!!\n",
            "Enter a integer number:23659\n",
            "Required number is  2365\n"
          ]
        }
      ],
      "source": [
        "while(True):\n",
        "  num = eval(input(\"Enter a integer number:\"))\n",
        "  if type(num) is not int:\n",
        "    print(\"You have entered incorrect format. Try again!!\")\n",
        "    continue\n",
        "  \n",
        "  num = int(num/10)\n",
        "  print(\"Required number is \",num)\n",
        "  break\n",
        "\n"
      ]
    },
    {
      "cell_type": "markdown",
      "source": [
        "**Ques2** - Write a python script to get the last digit from a given number. (for example, if user\n",
        "enters 2089 then your output should be 9)"
      ],
      "metadata": {
        "id": "2RRDdZb10zc5"
      }
    },
    {
      "cell_type": "code",
      "source": [
        "while(True):\n",
        "  num = eval(input(\"Enter a integer number:\"))\n",
        "  if type(num) is not int:\n",
        "    print(\"You have entered incorrect format. Try again!!\")\n",
        "    continue\n",
        "  \n",
        "  num = num%10\n",
        "  print(\"Required number is \",num)\n",
        "  break\n",
        "\n"
      ],
      "metadata": {
        "colab": {
          "base_uri": "https://localhost:8080/"
        },
        "id": "MahlFItK03GE",
        "outputId": "10e7a4c0-3acc-425a-cd6d-4875a86ab1c3"
      },
      "execution_count": 6,
      "outputs": [
        {
          "output_type": "stream",
          "name": "stdout",
          "text": [
            "Enter a integer number:2089\n",
            "Required number is  9\n"
          ]
        }
      ]
    },
    {
      "cell_type": "markdown",
      "source": [
        "**Ques3** - Write a python script to swap data of two variables"
      ],
      "metadata": {
        "id": "U9gCE0w-1ON8"
      }
    },
    {
      "cell_type": "code",
      "source": [
        "a,b = 5,6\n",
        "print(f\"Before a = {a}, b={b}\")\n",
        "b,a = a,b\n",
        "print(f\"After a = {a}, b={b}\")"
      ],
      "metadata": {
        "colab": {
          "base_uri": "https://localhost:8080/"
        },
        "id": "tj_oZ9Jh1CaH",
        "outputId": "2dec8ea2-03ad-4fe1-d9fb-db01fdfe7172"
      },
      "execution_count": 7,
      "outputs": [
        {
          "output_type": "stream",
          "name": "stdout",
          "text": [
            "Before a = 5, b=6\n",
            "After a = 6, b=5\n"
          ]
        }
      ]
    },
    {
      "cell_type": "markdown",
      "source": [
        "**Ques4** - Write a python script to find x power y, where values of x and y are given by user"
      ],
      "metadata": {
        "id": "6MjHK7aN1i1y"
      }
    },
    {
      "cell_type": "code",
      "source": [
        "x = eval(input(\"x = \"))\n",
        "y = eval(input(\"y = \"))\n",
        "\n",
        "print(f\"{x} power {y} is {x**y}\")"
      ],
      "metadata": {
        "colab": {
          "base_uri": "https://localhost:8080/"
        },
        "id": "cIuZHYEG1uHg",
        "outputId": "5a8b5ce4-cefb-4831-f612-0846d69f07a9"
      },
      "execution_count": 8,
      "outputs": [
        {
          "output_type": "stream",
          "name": "stdout",
          "text": [
            "x = 2\n",
            "y = 3\n",
            "2 power 3 is 8\n"
          ]
        }
      ]
    },
    {
      "cell_type": "markdown",
      "source": [
        "**Ques5** - Write a python script which takes a three digit number from the user and displays\n",
        "only its first digit."
      ],
      "metadata": {
        "id": "C9jgpBnl2CWS"
      }
    },
    {
      "cell_type": "code",
      "source": [
        "x = int(input(\"Enter 3 digit number\"))\n",
        "int(x/100)"
      ],
      "metadata": {
        "colab": {
          "base_uri": "https://localhost:8080/"
        },
        "id": "m0a1YoLG2GKA",
        "outputId": "66d37524-74f4-4767-d4d8-5f250daa8e4e"
      },
      "execution_count": 9,
      "outputs": [
        {
          "name": "stdout",
          "output_type": "stream",
          "text": [
            "Enter 3 digit number123\n"
          ]
        },
        {
          "output_type": "execute_result",
          "data": {
            "text/plain": [
              "1"
            ]
          },
          "metadata": {},
          "execution_count": 9
        }
      ]
    },
    {
      "cell_type": "markdown",
      "source": [
        "**Ques6** - Write a python script which takes a three digit number from the user and displays\n",
        "only its middle digit."
      ],
      "metadata": {
        "id": "PSI-1p704E25"
      }
    },
    {
      "cell_type": "code",
      "source": [
        "x = int(input(\"Enter 3 digit number\"))\n",
        "y = int(x/10)\n",
        "y%10"
      ],
      "metadata": {
        "colab": {
          "base_uri": "https://localhost:8080/"
        },
        "id": "Log8WGJE4JKA",
        "outputId": "7daf4770-51b0-41bd-85d7-1e8d06eb2df8"
      },
      "execution_count": 11,
      "outputs": [
        {
          "name": "stdout",
          "output_type": "stream",
          "text": [
            "Enter 3 digit number123\n"
          ]
        },
        {
          "output_type": "execute_result",
          "data": {
            "text/plain": [
              "2"
            ]
          },
          "metadata": {},
          "execution_count": 11
        }
      ]
    },
    {
      "cell_type": "markdown",
      "source": [
        "**Ques7** - Write a python script which takes a three digit number from the user and displays\n",
        "only its last digit."
      ],
      "metadata": {
        "id": "hB79aeAj4X0B"
      }
    },
    {
      "cell_type": "code",
      "source": [
        "x = int(input(\"Enter 3 digit number\"))\n",
        "x%10"
      ],
      "metadata": {
        "colab": {
          "base_uri": "https://localhost:8080/"
        },
        "id": "iQYzWFex4avv",
        "outputId": "9b7c4543-e348-40d8-a734-25282d72f77e"
      },
      "execution_count": 12,
      "outputs": [
        {
          "name": "stdout",
          "output_type": "stream",
          "text": [
            "Enter 3 digit number365\n"
          ]
        },
        {
          "output_type": "execute_result",
          "data": {
            "text/plain": [
              "5"
            ]
          },
          "metadata": {},
          "execution_count": 12
        }
      ]
    },
    {
      "cell_type": "markdown",
      "source": [
        "**Ques8** - Write a python script to use IN operator to display the data present in the list"
      ],
      "metadata": {
        "id": "QbFluQtz4gKo"
      }
    },
    {
      "cell_type": "code",
      "source": [
        "5 in [1,2,50,4]"
      ],
      "metadata": {
        "colab": {
          "base_uri": "https://localhost:8080/"
        },
        "id": "bjznNxiJ4l_Y",
        "outputId": "1da09f2b-131a-448e-bf46-7073b6bf8515"
      },
      "execution_count": 13,
      "outputs": [
        {
          "output_type": "execute_result",
          "data": {
            "text/plain": [
              "False"
            ]
          },
          "metadata": {},
          "execution_count": 13
        }
      ]
    },
    {
      "cell_type": "code",
      "source": [
        "5 in [1,2,5,4]"
      ],
      "metadata": {
        "colab": {
          "base_uri": "https://localhost:8080/"
        },
        "id": "UbSn55KD4rCq",
        "outputId": "6e0cc591-c0b1-47f6-8dc7-6aa11cff9124"
      },
      "execution_count": 14,
      "outputs": [
        {
          "output_type": "execute_result",
          "data": {
            "text/plain": [
              "True"
            ]
          },
          "metadata": {},
          "execution_count": 14
        }
      ]
    },
    {
      "cell_type": "markdown",
      "source": [
        "**Ques9** - Write a python script to use NOT IN operator to display the data not present in list"
      ],
      "metadata": {
        "id": "BrRzkJ4U4uRR"
      }
    },
    {
      "cell_type": "code",
      "source": [
        "30 not in [1,2,50,4]"
      ],
      "metadata": {
        "colab": {
          "base_uri": "https://localhost:8080/"
        },
        "id": "ebZiRIip40Zg",
        "outputId": "12d6a6d7-5c7f-418a-b5d6-53da3bcf6740"
      },
      "execution_count": 15,
      "outputs": [
        {
          "output_type": "execute_result",
          "data": {
            "text/plain": [
              "True"
            ]
          },
          "metadata": {},
          "execution_count": 15
        }
      ]
    },
    {
      "cell_type": "code",
      "source": [
        "\"s\" not in \"asim\""
      ],
      "metadata": {
        "colab": {
          "base_uri": "https://localhost:8080/"
        },
        "id": "OdFSS0YL45v-",
        "outputId": "d11adb5a-c352-4162-a2f7-e10b960a43e6"
      },
      "execution_count": 17,
      "outputs": [
        {
          "output_type": "execute_result",
          "data": {
            "text/plain": [
              "False"
            ]
          },
          "metadata": {},
          "execution_count": 17
        }
      ]
    },
    {
      "cell_type": "markdown",
      "source": [
        "**Ques10** - Write a python script to use IS operator to display if both variables are the same\n",
        "object or not?"
      ],
      "metadata": {
        "id": "HMS6OXs05B02"
      }
    },
    {
      "cell_type": "code",
      "source": [
        "x = 5\n",
        "y = 5\n",
        "x is y"
      ],
      "metadata": {
        "colab": {
          "base_uri": "https://localhost:8080/"
        },
        "id": "w124iaDm5G99",
        "outputId": "ac210527-0fdd-4e55-f24e-2be2b36ba277"
      },
      "execution_count": 18,
      "outputs": [
        {
          "output_type": "execute_result",
          "data": {
            "text/plain": [
              "True"
            ]
          },
          "metadata": {},
          "execution_count": 18
        }
      ]
    },
    {
      "cell_type": "code",
      "source": [
        "x = \"abc\"\n",
        "y = \"abc\"\n",
        "x is y"
      ],
      "metadata": {
        "colab": {
          "base_uri": "https://localhost:8080/"
        },
        "id": "x3ChKs405LbZ",
        "outputId": "2b5ffc99-b2df-4449-f738-751df46decd1"
      },
      "execution_count": 19,
      "outputs": [
        {
          "output_type": "execute_result",
          "data": {
            "text/plain": [
              "True"
            ]
          },
          "metadata": {},
          "execution_count": 19
        }
      ]
    },
    {
      "cell_type": "code",
      "source": [
        "x = 5\n",
        "y = 6\n",
        "x is y"
      ],
      "metadata": {
        "colab": {
          "base_uri": "https://localhost:8080/"
        },
        "id": "JnCKpp7K5S4L",
        "outputId": "228b5c0f-6a84-4555-8969-ec04435c00c0"
      },
      "execution_count": 21,
      "outputs": [
        {
          "output_type": "execute_result",
          "data": {
            "text/plain": [
              "False"
            ]
          },
          "metadata": {},
          "execution_count": 21
        }
      ]
    }
  ]
}