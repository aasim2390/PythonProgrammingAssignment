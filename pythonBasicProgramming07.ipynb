{
  "nbformat": 4,
  "nbformat_minor": 0,
  "metadata": {
    "colab": {
      "name": "pythonBasicProgramming07.ipynb",
      "provenance": [],
      "collapsed_sections": []
    },
    "kernelspec": {
      "name": "python3",
      "display_name": "Python 3"
    },
    "language_info": {
      "name": "python"
    }
  },
  "cells": [
    {
      "cell_type": "markdown",
      "source": [
        "###Python Basic Programming Assignment 07\n"
      ],
      "metadata": {
        "id": "BBSJ3RVSnWjN"
      }
    },
    {
      "cell_type": "markdown",
      "source": [
        "**1.\tWrite a Python Program to find sum of array?**"
      ],
      "metadata": {
        "id": "fWcm1LfUpqPF"
      }
    },
    {
      "cell_type": "code",
      "source": [
        "lst1=[2,4,55,65,88,74,56,52,5]\n",
        "sum(lst1)"
      ],
      "metadata": {
        "colab": {
          "base_uri": "https://localhost:8080/"
        },
        "id": "KFi50YWPps23",
        "outputId": "2998e73c-1d9b-4ab5-c73f-6f09095fdf57"
      },
      "execution_count": 62,
      "outputs": [
        {
          "output_type": "execute_result",
          "data": {
            "text/plain": [
              "401"
            ]
          },
          "metadata": {},
          "execution_count": 62
        }
      ]
    },
    {
      "cell_type": "code",
      "source": [
        "sum=0\n",
        "for i in lst1:\n",
        "  sum=sum+i\n",
        "print(sum)"
      ],
      "metadata": {
        "colab": {
          "base_uri": "https://localhost:8080/"
        },
        "id": "qnKURbJ3pzl9",
        "outputId": "c1ff5cdc-db5b-4146-a157-6ba195da7313"
      },
      "execution_count": 64,
      "outputs": [
        {
          "output_type": "stream",
          "name": "stdout",
          "text": [
            "401\n"
          ]
        }
      ]
    },
    {
      "cell_type": "markdown",
      "source": [
        "*2.\tWrite a Python Program to find largest element in an array?*"
      ],
      "metadata": {
        "id": "1TUmGmPhp_nY"
      }
    },
    {
      "cell_type": "code",
      "source": [
        "max(lst1)"
      ],
      "metadata": {
        "colab": {
          "base_uri": "https://localhost:8080/"
        },
        "id": "sSXn6u10qa4l",
        "outputId": "31ab8f35-f2d0-428c-c674-f3cf0d6f6cd7"
      },
      "execution_count": 65,
      "outputs": [
        {
          "output_type": "execute_result",
          "data": {
            "text/plain": [
              "88"
            ]
          },
          "metadata": {},
          "execution_count": 65
        }
      ]
    },
    {
      "cell_type": "code",
      "source": [
        "largest=0\n",
        "for i in lst1:\n",
        "  if i>largest:\n",
        "    largest=i\n",
        "\n",
        "print(largest)"
      ],
      "metadata": {
        "colab": {
          "base_uri": "https://localhost:8080/"
        },
        "id": "qIj8EgnqqdBI",
        "outputId": "bd8ae705-ffa6-48a3-8d96-bae19e3f8670"
      },
      "execution_count": 66,
      "outputs": [
        {
          "output_type": "stream",
          "name": "stdout",
          "text": [
            "88\n"
          ]
        }
      ]
    },
    {
      "cell_type": "markdown",
      "source": [
        "**3.\tWrite a Python Program for array rotation?**"
      ],
      "metadata": {
        "id": "iDzDkg8AqnhE"
      }
    },
    {
      "cell_type": "code",
      "source": [
        "def rotate(arr,d):\n",
        "  \"\"\"rotates arr[] by d elements. \"\"\"\n",
        "  temp=[]\n",
        "  n=len(arr)\n",
        "  for i in range(n):\n",
        "    if i+d in range(n):\n",
        "      #print(arr[i],arr[i+d])\n",
        "      temp.append(arr[i+d])\n",
        "    else:\n",
        "      ind=(i+d) % n\n",
        "      #print(ind)\n",
        "      temp.append(arr[ind])\n",
        "  return temp\n",
        "\n"
      ],
      "metadata": {
        "id": "jT3ljkKPq53M"
      },
      "execution_count": 93,
      "outputs": []
    },
    {
      "cell_type": "code",
      "source": [
        "rotate([1,2,3,4,5,7],1)"
      ],
      "metadata": {
        "colab": {
          "base_uri": "https://localhost:8080/"
        },
        "id": "-nTwvpsHrWsM",
        "outputId": "f6127777-1a62-403e-e10e-cbcafe6af566"
      },
      "execution_count": 95,
      "outputs": [
        {
          "output_type": "execute_result",
          "data": {
            "text/plain": [
              "[2, 3, 4, 5, 7, 1]"
            ]
          },
          "metadata": {},
          "execution_count": 95
        }
      ]
    },
    {
      "cell_type": "code",
      "source": [
        "rotate([1,2,3,4,5,7],2)"
      ],
      "metadata": {
        "colab": {
          "base_uri": "https://localhost:8080/"
        },
        "id": "XQ0CkyM2thuY",
        "outputId": "8a644f73-a151-4cb1-acc1-bc0d211074a8"
      },
      "execution_count": 96,
      "outputs": [
        {
          "output_type": "execute_result",
          "data": {
            "text/plain": [
              "[3, 4, 5, 7, 1, 2]"
            ]
          },
          "metadata": {},
          "execution_count": 96
        }
      ]
    },
    {
      "cell_type": "markdown",
      "source": [
        "**4.\tWrite a Python Program to Split the array and add the first part to the end?**"
      ],
      "metadata": {
        "id": "qBrWJlFJtsO6"
      }
    },
    {
      "cell_type": "code",
      "source": [
        "def splitArray(arr,start,elements): #start is the starting index to split, elements is the number of index to count from the start position\n",
        "  stop=start+elements\n",
        "  temp=arr[start:stop]\n",
        "  print(\"temp\",temp)\n",
        "  if len(temp)>=1:\n",
        "    ind=0\n",
        "    while(ind<len(temp)):\n",
        "      arr.pop(start)\n",
        "      #print(arr)\n",
        "      ind+=1\n",
        "    arr.extend(temp)\n",
        "    return arr\n",
        "  else:\n",
        "    return arr  "
      ],
      "metadata": {
        "id": "d3MkN485IP-_"
      },
      "execution_count": 170,
      "outputs": []
    },
    {
      "cell_type": "code",
      "source": [
        "splitArray([7,8,6,2,4,9],1,3)"
      ],
      "metadata": {
        "colab": {
          "base_uri": "https://localhost:8080/"
        },
        "id": "HG7wVd76Iz78",
        "outputId": "ea792fa9-5a8a-413c-8b89-1ed12cb9c1ac"
      },
      "execution_count": 171,
      "outputs": [
        {
          "output_type": "stream",
          "name": "stdout",
          "text": [
            "temp [8, 6, 2]\n"
          ]
        },
        {
          "output_type": "execute_result",
          "data": {
            "text/plain": [
              "[7, 4, 9, 8, 6, 2]"
            ]
          },
          "metadata": {},
          "execution_count": 171
        }
      ]
    },
    {
      "cell_type": "markdown",
      "source": [
        "**5.\tWrite a Python Program to check if given array is Monotonic?**"
      ],
      "metadata": {
        "id": "FeOg-fxdLgr7"
      }
    },
    {
      "cell_type": "markdown",
      "source": [
        "Given an array A containing n integers. The task is to check whether the array is Monotonic or not. An array is monotonic if it is either monotone increasing or monotone decreasing.\n",
        "An array A is monotone increasing if for all i <= j, A[i] <= A[j]. An array A is monotone decreasing if for all i <= j, A[i] >= A[j]."
      ],
      "metadata": {
        "id": "mHFjXglaMCfj"
      }
    },
    {
      "cell_type": "code",
      "source": [
        "def monotonic(arr):\n",
        "  arr.sort()\n",
        "  flag=None\n",
        "  n =len(arr)\n",
        "  for i in range(n):\n",
        "    if i+1 == n:\n",
        "      if flag!=False:\n",
        "        flag=True\n",
        "      break\n",
        "    elif arr[i]<=arr[i+1]:\n",
        "      #flag=True\n",
        "      continue\n",
        "    else:\n",
        "      flag=False\n",
        "  return flag\n",
        "\n",
        "\n"
      ],
      "metadata": {
        "id": "mLfPuQ2eMDYw"
      },
      "execution_count": 178,
      "outputs": []
    },
    {
      "cell_type": "code",
      "source": [
        "monotonic([1,2,3,10,11,11])"
      ],
      "metadata": {
        "colab": {
          "base_uri": "https://localhost:8080/"
        },
        "id": "rg1ojaLyNyo7",
        "outputId": "f8dc5ae7-df58-4268-9db0-2b8a2254b1b6"
      },
      "execution_count": 181,
      "outputs": [
        {
          "output_type": "execute_result",
          "data": {
            "text/plain": [
              "True"
            ]
          },
          "metadata": {},
          "execution_count": 181
        }
      ]
    }
  ]
}