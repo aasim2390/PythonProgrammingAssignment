{
  "nbformat": 4,
  "nbformat_minor": 0,
  "metadata": {
    "colab": {
      "name": "Program_BasicAssignment1.ipynb",
      "provenance": []
    },
    "kernelspec": {
      "name": "python3",
      "display_name": "Python 3"
    },
    "language_info": {
      "name": "python"
    }
  },
  "cells": [
    {
      "cell_type": "markdown",
      "source": [
        "###Python Basic Assignment01\n",
        "\n"
      ],
      "metadata": {
        "id": "zXD0NGLT-X9q"
      }
    },
    {
      "cell_type": "markdown",
      "source": [
        "**1.\tWrite a Python program to print \"Hello Python\"?**"
      ],
      "metadata": {
        "id": "SWozTeur-daH"
      }
    },
    {
      "cell_type": "code",
      "execution_count": 1,
      "metadata": {
        "colab": {
          "base_uri": "https://localhost:8080/"
        },
        "id": "Sz15YxcK-TFk",
        "outputId": "609473cb-d429-4884-8d0c-3a45b03ee381"
      },
      "outputs": [
        {
          "output_type": "stream",
          "name": "stdout",
          "text": [
            "Hello Python\n"
          ]
        }
      ],
      "source": [
        "print(\"Hello Python\")"
      ]
    },
    {
      "cell_type": "markdown",
      "source": [
        "**2.\tWrite a Python program to do arithmetical operations addition and division.?**"
      ],
      "metadata": {
        "id": "RcsXMNDwKocX"
      }
    },
    {
      "cell_type": "code",
      "source": [
        "a=10\n",
        "b=20.52\n",
        "print(\"addition =\",a+b)\n",
        "print(\"division =\",a/b)"
      ],
      "metadata": {
        "colab": {
          "base_uri": "https://localhost:8080/"
        },
        "id": "NpAyzzjtKoE8",
        "outputId": "475c3c6e-ed6b-494c-9d93-ade13f0d2078"
      },
      "execution_count": 2,
      "outputs": [
        {
          "output_type": "stream",
          "name": "stdout",
          "text": [
            "addition = 30.52\n",
            "division = 0.4873294346978558\n"
          ]
        }
      ]
    },
    {
      "cell_type": "markdown",
      "source": [
        "**3.\tWrite a Python program to find the area of a triangle?**"
      ],
      "metadata": {
        "id": "yUKny5TaK3K8"
      }
    },
    {
      "cell_type": "code",
      "source": [
        "height = eval(input(\"Enter the height\"))\n",
        "base = eval(input(\"Enter the base:\"))\n",
        "area = 0.5 * base * height\n",
        "print(\"Area of triangle is :\",area)"
      ],
      "metadata": {
        "colab": {
          "base_uri": "https://localhost:8080/"
        },
        "id": "AZ-t9NN7K0u4",
        "outputId": "d1a9825c-86c7-4e9e-c15b-49230c4bbb26"
      },
      "execution_count": 3,
      "outputs": [
        {
          "output_type": "stream",
          "name": "stdout",
          "text": [
            "Enter the height10\n",
            "Enter the base:5\n",
            "Area of triangle is : 25.0\n"
          ]
        }
      ]
    },
    {
      "cell_type": "markdown",
      "source": [
        "**4.\tWrite a Python program to swap two variables?**"
      ],
      "metadata": {
        "id": "drUpXvM5LTPM"
      }
    },
    {
      "cell_type": "code",
      "source": [
        "a=55\n",
        "b=40\n",
        "print(\"Before a=\",a,\" b=\",b)\n",
        "a,b = b,a\n",
        "print(\"After a=\",a,\" b=\",b)"
      ],
      "metadata": {
        "colab": {
          "base_uri": "https://localhost:8080/"
        },
        "id": "d84Udg8xLV5k",
        "outputId": "29cd538f-6133-400f-960d-6600ae0722f0"
      },
      "execution_count": 4,
      "outputs": [
        {
          "output_type": "stream",
          "name": "stdout",
          "text": [
            "Before a= 55  b= 40\n",
            "After a= 40  b= 55\n"
          ]
        }
      ]
    },
    {
      "cell_type": "markdown",
      "source": [
        "**5.\tWrite a Python program to generate a random number?**"
      ],
      "metadata": {
        "id": "oikEqarrLgjJ"
      }
    },
    {
      "cell_type": "code",
      "source": [
        "import random\n",
        "num = random.randint(1,100) #return random number in range of 1 to 100\n",
        "print(\"random number is :\",num)"
      ],
      "metadata": {
        "colab": {
          "base_uri": "https://localhost:8080/"
        },
        "id": "xAm-X3UQLjgn",
        "outputId": "163beacb-d205-424c-f2af-4258fb47326b"
      },
      "execution_count": 8,
      "outputs": [
        {
          "output_type": "stream",
          "name": "stdout",
          "text": [
            "random number is : 85\n"
          ]
        }
      ]
    }
  ]
}