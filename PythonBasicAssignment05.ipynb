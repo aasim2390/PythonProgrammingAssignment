{
  "nbformat": 4,
  "nbformat_minor": 0,
  "metadata": {
    "colab": {
      "name": "PythonBasicProgramAssignment05.ipynb",
      "provenance": []
    },
    "kernelspec": {
      "name": "python3",
      "display_name": "Python 3"
    },
    "language_info": {
      "name": "python"
    }
  },
  "cells": [
    {
      "cell_type": "markdown",
      "source": [
        "###Python Basic Programming Assignment 05"
      ],
      "metadata": {
        "id": "U75VdylmFMGz"
      }
    },
    {
      "cell_type": "markdown",
      "source": [
        "**1.\tWrite a Python Program to Find LCM?**"
      ],
      "metadata": {
        "id": "gBJlU-izFNFr"
      }
    },
    {
      "cell_type": "code",
      "execution_count": 23,
      "metadata": {
        "id": "v78tuWeFE16C"
      },
      "outputs": [],
      "source": [
        "def lcm(a,b):\n",
        "  greater=1\n",
        "  if a>b:\n",
        "    greater=a\n",
        "  else:\n",
        "    greater=b\n",
        "\n",
        "  while(True):\n",
        "    if greater%a==0 and greater%b==0:\n",
        "      return greater\n",
        "    else:\n",
        "      greater+=1\n"
      ]
    },
    {
      "cell_type": "code",
      "source": [
        "lcm(8,12)"
      ],
      "metadata": {
        "colab": {
          "base_uri": "https://localhost:8080/"
        },
        "id": "1VfKr7TDHkbZ",
        "outputId": "2f186de4-6fe7-4792-b639-821b751a1bc6"
      },
      "execution_count": 24,
      "outputs": [
        {
          "output_type": "execute_result",
          "data": {
            "text/plain": [
              "24"
            ]
          },
          "metadata": {},
          "execution_count": 24
        }
      ]
    },
    {
      "cell_type": "markdown",
      "source": [
        "**2.Write a Python Program to Find HCF?**"
      ],
      "metadata": {
        "id": "sf7suxreN_7L"
      }
    },
    {
      "cell_type": "code",
      "source": [
        "def hcf(a,b):\n",
        "  lowest=1\n",
        "  if a<b:\n",
        "    lowest=a\n",
        "  else:\n",
        "    lowest=b\n",
        "\n",
        "  while(True):\n",
        "    if a%lowest==0 and b%lowest==0:\n",
        "      return lowest\n",
        "    else:\n",
        "      lowest-=1\n",
        "    "
      ],
      "metadata": {
        "id": "RErJEp1QOC1S"
      },
      "execution_count": 30,
      "outputs": []
    },
    {
      "cell_type": "code",
      "source": [
        "hcf(20,8)"
      ],
      "metadata": {
        "colab": {
          "base_uri": "https://localhost:8080/"
        },
        "id": "klCd0hi3O91r",
        "outputId": "f90744bf-8234-4807-97ff-d6250180cdaa"
      },
      "execution_count": 36,
      "outputs": [
        {
          "output_type": "execute_result",
          "data": {
            "text/plain": [
              "4"
            ]
          },
          "metadata": {},
          "execution_count": 36
        }
      ]
    },
    {
      "cell_type": "markdown",
      "source": [
        "**3.\tWrite a Python Program to Convert Decimal to Binary, Octal and Hexadecimal?**"
      ],
      "metadata": {
        "id": "TQHvUgatP8a3"
      }
    },
    {
      "cell_type": "code",
      "source": [
        "def convert(num,to=\"bin\"):\n",
        "  if to ==\"bin\":\n",
        "    return bin(num)\n",
        "  elif to ==\"oct\":\n",
        "    return oct(num)\n",
        "  elif to==\"hex\":\n",
        "    return hex(num)\n",
        "  else:\n",
        "    return \"input is incorrect\""
      ],
      "metadata": {
        "id": "fgp7lo_vP9-a"
      },
      "execution_count": 37,
      "outputs": []
    },
    {
      "cell_type": "code",
      "source": [
        "print(f'Conversion of Decimal 10 in binary is {convert(10)}, Octal is {convert(10,\"oct\")} and Hexadecimal is {convert(10,\"hex\")}')"
      ],
      "metadata": {
        "colab": {
          "base_uri": "https://localhost:8080/"
        },
        "id": "gGHw93QtQ2F3",
        "outputId": "db2a2c6c-e9ef-467f-d406-e712f14c3865"
      },
      "execution_count": 41,
      "outputs": [
        {
          "output_type": "stream",
          "name": "stdout",
          "text": [
            "Conversion of Decimal 10 in binary is 0b1010, Octal is 0o12 and Hexadecimal is 0xa\n"
          ]
        }
      ]
    },
    {
      "cell_type": "markdown",
      "source": [
        "**4.\tWrite a Python Program To Find ASCII value of a character?**"
      ],
      "metadata": {
        "id": "YtzPtsqsRhkd"
      }
    },
    {
      "cell_type": "code",
      "source": [
        "def getASCII(ch):\n",
        "  if type(ch)==str and ch.isalpha() and len(ch)==1:\n",
        "    return ord(ch)\n",
        "  return \"please enter only character\"\n"
      ],
      "metadata": {
        "id": "vELu9YCwQ4ws"
      },
      "execution_count": 57,
      "outputs": []
    },
    {
      "cell_type": "code",
      "source": [
        "print(getASCII(\"a\"),getASCII(\"A\"))"
      ],
      "metadata": {
        "colab": {
          "base_uri": "https://localhost:8080/"
        },
        "id": "fO8SiG6sSff_",
        "outputId": "b553c2a8-291d-409a-e891-e88423e00ec5"
      },
      "execution_count": 59,
      "outputs": [
        {
          "output_type": "stream",
          "name": "stdout",
          "text": [
            "97 65\n"
          ]
        }
      ]
    },
    {
      "cell_type": "code",
      "source": [
        "getASCII(\"1\"),getASCII(1)"
      ],
      "metadata": {
        "colab": {
          "base_uri": "https://localhost:8080/"
        },
        "id": "ta2ximwRTING",
        "outputId": "a5f38dff-3bf5-4b89-a521-fcd23606316c"
      },
      "execution_count": 58,
      "outputs": [
        {
          "output_type": "execute_result",
          "data": {
            "text/plain": [
              "('please enter only character', 'please enter only character')"
            ]
          },
          "metadata": {},
          "execution_count": 58
        }
      ]
    },
    {
      "cell_type": "markdown",
      "source": [
        "**5.\tWrite a Python Program to Make a Simple Calculator with 4 basic mathematical operations?**"
      ],
      "metadata": {
        "id": "EKdpRC8pThUJ"
      }
    },
    {
      "cell_type": "code",
      "source": [
        "def calculator(a,b,op=\"add\"):\n",
        "  if op==\"add\":\n",
        "    return a+b\n",
        "  elif op==\"sub\":\n",
        "    return a-b\n",
        "  elif op==\"mul\":\n",
        "    return a*b\n",
        "  elif op==\"div\":\n",
        "    if b==0:\n",
        "      return \"infinity\"\n",
        "    return a/b\n",
        "  else:\n",
        "    return None"
      ],
      "metadata": {
        "id": "Dv3pQvukUNIQ"
      },
      "execution_count": 60,
      "outputs": []
    },
    {
      "cell_type": "code",
      "source": [
        "calculator(4,5)"
      ],
      "metadata": {
        "colab": {
          "base_uri": "https://localhost:8080/"
        },
        "id": "LO-vozXEUqMQ",
        "outputId": "b94bc95e-7d30-4d25-8036-e822d9f6b1b9"
      },
      "execution_count": 61,
      "outputs": [
        {
          "output_type": "execute_result",
          "data": {
            "text/plain": [
              "9"
            ]
          },
          "metadata": {},
          "execution_count": 61
        }
      ]
    },
    {
      "cell_type": "code",
      "source": [
        "calculator(4,5,\"sub\")"
      ],
      "metadata": {
        "colab": {
          "base_uri": "https://localhost:8080/"
        },
        "id": "MEuREj35UuS6",
        "outputId": "9b895b70-d627-4d02-a326-a388cef3d074"
      },
      "execution_count": 62,
      "outputs": [
        {
          "output_type": "execute_result",
          "data": {
            "text/plain": [
              "-1"
            ]
          },
          "metadata": {},
          "execution_count": 62
        }
      ]
    },
    {
      "cell_type": "code",
      "source": [
        "calculator(4,5,\"mul\")"
      ],
      "metadata": {
        "colab": {
          "base_uri": "https://localhost:8080/"
        },
        "id": "eMFgYJEmUwyO",
        "outputId": "54ca3ea5-0fcd-46f3-8afe-67f3ca974d0c"
      },
      "execution_count": 63,
      "outputs": [
        {
          "output_type": "execute_result",
          "data": {
            "text/plain": [
              "20"
            ]
          },
          "metadata": {},
          "execution_count": 63
        }
      ]
    },
    {
      "cell_type": "code",
      "source": [
        "calculator(4,5,\"div\")"
      ],
      "metadata": {
        "colab": {
          "base_uri": "https://localhost:8080/"
        },
        "id": "vWNVXEiMUy9e",
        "outputId": "1541634f-448f-4ce7-d75d-43b8f7a419fd"
      },
      "execution_count": 64,
      "outputs": [
        {
          "output_type": "execute_result",
          "data": {
            "text/plain": [
              "0.8"
            ]
          },
          "metadata": {},
          "execution_count": 64
        }
      ]
    },
    {
      "cell_type": "code",
      "source": [
        "calculator(4,0,'div')"
      ],
      "metadata": {
        "colab": {
          "base_uri": "https://localhost:8080/",
          "height": 35
        },
        "id": "_UHY0pvNU1A9",
        "outputId": "1610ef82-040f-4b6f-e14b-7ac4613c332b"
      },
      "execution_count": 65,
      "outputs": [
        {
          "output_type": "execute_result",
          "data": {
            "application/vnd.google.colaboratory.intrinsic+json": {
              "type": "string"
            },
            "text/plain": [
              "'infinity'"
            ]
          },
          "metadata": {},
          "execution_count": 65
        }
      ]
    }
  ]
}