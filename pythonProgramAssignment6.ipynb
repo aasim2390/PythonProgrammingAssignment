{
  "nbformat": 4,
  "nbformat_minor": 0,
  "metadata": {
    "colab": {
      "name": "pythonProgramAssignment6.ipynb",
      "provenance": []
    },
    "kernelspec": {
      "name": "python3",
      "display_name": "Python 3"
    },
    "language_info": {
      "name": "python"
    }
  },
  "cells": [
    {
      "cell_type": "markdown",
      "source": [
        "###Python Programming Assignment 06"
      ],
      "metadata": {
        "id": "HLAsPQMzdlcM"
      }
    },
    {
      "cell_type": "markdown",
      "source": [
        "**1.\tWrite a Python Program to Display Fibonacci Sequence Using Recursion?**"
      ],
      "metadata": {
        "id": "gV7BVhF3drMZ"
      }
    },
    {
      "cell_type": "code",
      "execution_count": 3,
      "metadata": {
        "id": "xN_hg8Oudk1q"
      },
      "outputs": [],
      "source": [
        "def fib(n):\n",
        "  if n<=1:\n",
        "    return n\n",
        "  else:\n",
        "    return fib(n-1) + fib(n-2)\n"
      ]
    },
    {
      "cell_type": "code",
      "source": [
        "for i in range(1,10):\n",
        "  print(fib(i))"
      ],
      "metadata": {
        "colab": {
          "base_uri": "https://localhost:8080/"
        },
        "id": "iTJshtVXg_HI",
        "outputId": "ef60bdb1-472a-4afa-d06e-f2b7cdce5cd3"
      },
      "execution_count": 11,
      "outputs": [
        {
          "output_type": "stream",
          "name": "stdout",
          "text": [
            "1\n",
            "1\n",
            "2\n",
            "3\n",
            "5\n",
            "8\n",
            "13\n",
            "21\n",
            "34\n"
          ]
        }
      ]
    },
    {
      "cell_type": "markdown",
      "source": [
        "**2.\tWrite a Python Program to Find Factorial of Number Using Recursion?**"
      ],
      "metadata": {
        "id": "DovltQoXiPzT"
      }
    },
    {
      "cell_type": "code",
      "source": [
        "def fact(n):\n",
        "  if n<=1:\n",
        "    return 1\n",
        "  else:\n",
        "    return n*fact(n-1)"
      ],
      "metadata": {
        "id": "YBRDSPT-iROC"
      },
      "execution_count": 12,
      "outputs": []
    },
    {
      "cell_type": "code",
      "source": [
        "fact(5)"
      ],
      "metadata": {
        "colab": {
          "base_uri": "https://localhost:8080/"
        },
        "id": "ZYzvRkNhibpU",
        "outputId": "169807ad-5caf-434a-db7f-4e11260f5c5e"
      },
      "execution_count": 15,
      "outputs": [
        {
          "output_type": "execute_result",
          "data": {
            "text/plain": [
              "120"
            ]
          },
          "metadata": {},
          "execution_count": 15
        }
      ]
    },
    {
      "cell_type": "markdown",
      "source": [
        "**3.\tWrite a Python Program to calculate your Body Mass Index?**"
      ],
      "metadata": {
        "id": "AHxnd7zSijvk"
      }
    },
    {
      "cell_type": "code",
      "source": [
        "def BMI():\n",
        "  \"\"\" Body mass index = Weight/ (height * height)\"\"\"\n",
        "  h=eval(input(\"Enter height in cm : \"))\n",
        "  w=eval(input(\"Enter weight in kg : \"))\n",
        "\n",
        "  if ((type(h) == int or type(h) == float) and (type(w) == int or type(w))) :\n",
        "    h=h/100\n",
        "    bmi = round(w / (h**2),2)\n",
        "  else:\n",
        "    return \"Enter correct input!!\"\n",
        "\n",
        "  return bmi"
      ],
      "metadata": {
        "id": "oK1GW4muijcR"
      },
      "execution_count": 25,
      "outputs": []
    },
    {
      "cell_type": "code",
      "source": [
        "BMI()"
      ],
      "metadata": {
        "colab": {
          "base_uri": "https://localhost:8080/"
        },
        "id": "GYnQwOjOiiKO",
        "outputId": "13fcbf62-a591-40ff-b51a-17f0ca1c60bf"
      },
      "execution_count": 26,
      "outputs": [
        {
          "name": "stdout",
          "output_type": "stream",
          "text": [
            "Enter height in cm : 172\n",
            "Enter weight in kg : 75\n"
          ]
        },
        {
          "output_type": "execute_result",
          "data": {
            "text/plain": [
              "25.35"
            ]
          },
          "metadata": {},
          "execution_count": 26
        }
      ]
    },
    {
      "cell_type": "markdown",
      "source": [
        "**4.\tWrite a Python Program to calculate the natural logarithm of any number?**"
      ],
      "metadata": {
        "id": "p7n-s3n4kfTN"
      }
    },
    {
      "cell_type": "code",
      "source": [
        "import math\n",
        "\n",
        "def mylog(n):\n",
        "  if type(n) == int or type(int)==float:\n",
        "      return math.log(n)\n",
        "  else:\n",
        "    return \"number should be int or float\""
      ],
      "metadata": {
        "id": "-sDBy78vk4-2"
      },
      "execution_count": 32,
      "outputs": []
    },
    {
      "cell_type": "code",
      "source": [
        "mylog(10)"
      ],
      "metadata": {
        "colab": {
          "base_uri": "https://localhost:8080/"
        },
        "id": "Fk4z-w03lCJv",
        "outputId": "18c0f623-544c-4674-e4a1-afd2fcfda442"
      },
      "execution_count": 34,
      "outputs": [
        {
          "output_type": "execute_result",
          "data": {
            "text/plain": [
              "2.302585092994046"
            ]
          },
          "metadata": {},
          "execution_count": 34
        }
      ]
    },
    {
      "cell_type": "markdown",
      "source": [
        "**5.\tWrite a Python Program for cube sum of first n natural numbers?**"
      ],
      "metadata": {
        "id": "_q-etJxnld6m"
      }
    },
    {
      "cell_type": "code",
      "source": [
        "def cubeSum(n):\n",
        "  if type(n)!=int and n<=0:\n",
        "    return \"Number should be non-zero positive integer\"\n",
        "  s=0\n",
        "  for i in range(1,n+1):\n",
        "    s=s+i**3\n",
        "  return s\n"
      ],
      "metadata": {
        "id": "SnpRURIzlfX7"
      },
      "execution_count": 51,
      "outputs": []
    },
    {
      "cell_type": "code",
      "source": [
        "cubeSum(3)"
      ],
      "metadata": {
        "colab": {
          "base_uri": "https://localhost:8080/"
        },
        "id": "qvDjjyVol5wq",
        "outputId": "e86f58fa-ab78-43b8-9d42-260944148772"
      },
      "execution_count": 56,
      "outputs": [
        {
          "output_type": "execute_result",
          "data": {
            "text/plain": [
              "36"
            ]
          },
          "metadata": {},
          "execution_count": 56
        }
      ]
    }
  ]
}