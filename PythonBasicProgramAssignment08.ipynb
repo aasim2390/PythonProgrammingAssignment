{
  "nbformat": 4,
  "nbformat_minor": 0,
  "metadata": {
    "colab": {
      "name": "PythonBasicProgramAssignment08.ipynb",
      "provenance": []
    },
    "kernelspec": {
      "name": "python3",
      "display_name": "Python 3"
    },
    "language_info": {
      "name": "python"
    }
  },
  "cells": [
    {
      "cell_type": "markdown",
      "source": [
        "###Python Basic Assignment 08"
      ],
      "metadata": {
        "id": "U75VdylmFMGz"
      }
    },
    {
      "cell_type": "markdown",
      "source": [
        "**1.\tWrite a Python Program to Add Two Matrices?**"
      ],
      "metadata": {
        "id": "KoTbLFWuHbPf"
      }
    },
    {
      "cell_type": "code",
      "source": [
        "X= [[1,2,3],\n",
        "    [4 ,5,6],\n",
        "    [7 ,8,9]]\n",
        " \n",
        "Y = [[9,8,7],\n",
        "    [6,5,4],\n",
        "    [3,2,1]]\n",
        "\n",
        "def addMatrice(X,Y):\n",
        "  flag=True\n",
        "  if (len(X)==len(Y)):\n",
        "    for i in range(len(X)):\n",
        "      if (len(X[i])!=len(Y[i])):\n",
        "         flag = False\n",
        "  print(flag)\n",
        "  row=[]\n",
        "  col=[]\n",
        "\n",
        "  if (flag == True): #sizes are equal we can add\n",
        "    for i in range(len(X)):\n",
        "      #print(\"i=\",i)\n",
        "      col=[]\n",
        "      for j in range(len(X[i])):\n",
        "        #print(i,j)\n",
        "        col.append(X[i][j]+Y[i][j])\n",
        "      row.append(col)\n",
        "  return row\n"
      ],
      "metadata": {
        "id": "2sVDuFf-UFNe"
      },
      "execution_count": 58,
      "outputs": []
    },
    {
      "cell_type": "code",
      "source": [
        "addMatrice(X,Y)"
      ],
      "metadata": {
        "colab": {
          "base_uri": "https://localhost:8080/"
        },
        "id": "mjV3u3xaVaWb",
        "outputId": "28c8fe42-6b63-4436-a88e-01c3e0cd6b16"
      },
      "execution_count": 57,
      "outputs": [
        {
          "output_type": "stream",
          "name": "stdout",
          "text": [
            "True\n"
          ]
        },
        {
          "output_type": "execute_result",
          "data": {
            "text/plain": [
              "[[10, 10, 10], [10, 10, 10], [10, 10, 10]]"
            ]
          },
          "metadata": {},
          "execution_count": 57
        }
      ]
    },
    {
      "cell_type": "markdown",
      "source": [
        "**2.\tWrite a Python Program to Multiply Two Matrices?**"
      ],
      "metadata": {
        "id": "hZMP2d9gbJDm"
      }
    },
    {
      "cell_type": "code",
      "source": [
        "# take a 3x2 matrix\n",
        "A = [[2, 7],\n",
        "    [4, 5],\n",
        "    [7, 8]]\n",
        " \n",
        "# take a 2x3 matrix   \n",
        "B = [[2, 1, 1],\n",
        "    [2, 1, 0]]\n",
        "     \n",
        "result = [[0, 0, 0],\n",
        "        [0, 0, 0],\n",
        "        [0, 0, 0]]\n",
        " \n",
        "# iterating by row of A\n",
        "for i in range(len(A)):\n",
        " \n",
        "    # iterating by column by B\n",
        "    for j in range(len(B[0])):\n",
        " \n",
        "        # iterating by rows of B\n",
        "        for k in range(len(B)):\n",
        "            result[i][j] += A[i][k] * B[k][j]\n",
        " \n",
        "for r in result:\n",
        "    print(r)\n",
        "  \n",
        "\n"
      ],
      "metadata": {
        "colab": {
          "base_uri": "https://localhost:8080/"
        },
        "id": "t7LtvxiLbm1R",
        "outputId": "27ef2fcf-a170-4d7b-9f3f-3edbeb3663ed"
      },
      "execution_count": 69,
      "outputs": [
        {
          "output_type": "stream",
          "name": "stdout",
          "text": [
            "[18, 9, 2]\n",
            "[18, 9, 4]\n",
            "[30, 15, 7]\n"
          ]
        }
      ]
    },
    {
      "cell_type": "markdown",
      "source": [
        "**3.\tWrite a Python Program to Transpose a Matrix?**"
      ],
      "metadata": {
        "id": "OKNXKHRDgfjM"
      }
    },
    {
      "cell_type": "code",
      "source": [
        "X=[[1,2],[3,4],[5,6]]\n",
        "\n",
        "zipped_rows = zip(*X)\n",
        "transpose_matrix = [list(row) for row in zipped_rows]\n",
        "\n",
        "print(transpose_matrix)\n"
      ],
      "metadata": {
        "colab": {
          "base_uri": "https://localhost:8080/"
        },
        "id": "BdkB-KQsgi8t",
        "outputId": "e097ea66-2a88-4569-f956-f127a958f87f"
      },
      "execution_count": 75,
      "outputs": [
        {
          "output_type": "stream",
          "name": "stdout",
          "text": [
            "[[1, 3, 5], [2, 4, 6]]\n"
          ]
        }
      ]
    },
    {
      "cell_type": "markdown",
      "source": [
        "**4.\tWrite a Python Program to Sort Words in Alphabetic Order?**"
      ],
      "metadata": {
        "id": "CSlX115LiZ-O"
      }
    },
    {
      "cell_type": "code",
      "source": [
        "my_str = \"Hello this IS Sample example\"\n",
        "\n",
        "words = [word.lower() for word in my_str.split()]\n",
        "\n",
        "words.sort()\n",
        "\n",
        "print(\"The sorted words are:\")\n",
        "for word in words:\n",
        "   print(word)"
      ],
      "metadata": {
        "colab": {
          "base_uri": "https://localhost:8080/"
        },
        "id": "TsoXIaEIidU3",
        "outputId": "68e85db3-5590-43b5-c051-5c3106294822"
      },
      "execution_count": 78,
      "outputs": [
        {
          "output_type": "stream",
          "name": "stdout",
          "text": [
            "The sorted words are:\n",
            "example\n",
            "hello\n",
            "is\n",
            "sample\n",
            "this\n"
          ]
        }
      ]
    },
    {
      "cell_type": "markdown",
      "source": [
        "**5.\tWrite a Python Program to Remove Punctuation From a String?**"
      ],
      "metadata": {
        "id": "QOLwjMnfjcrB"
      }
    },
    {
      "cell_type": "code",
      "source": [
        "\n",
        "punctuations = '''!()-[]{};:'\"\\,<>./?@#$%^&*_~'''\n",
        "\n",
        "my_str = \"Hello!!!, this is --- to remove punctuations.\"\n",
        "\n",
        "no_punct = \"\"\n",
        "for char in my_str:\n",
        "   if char not in punctuations:\n",
        "       no_punct = no_punct + char\n",
        "       \n",
        "print(no_punct)"
      ],
      "metadata": {
        "colab": {
          "base_uri": "https://localhost:8080/"
        },
        "id": "SGwi8zcujcTZ",
        "outputId": "e78838db-f7c8-4cae-ab43-6907ed9b6025"
      },
      "execution_count": 79,
      "outputs": [
        {
          "output_type": "stream",
          "name": "stdout",
          "text": [
            "Hello this is  to remove punctuations\n"
          ]
        }
      ]
    }
  ]
}