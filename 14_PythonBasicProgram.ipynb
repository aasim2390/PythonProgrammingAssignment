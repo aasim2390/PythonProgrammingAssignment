{
  "nbformat": 4,
  "nbformat_minor": 0,
  "metadata": {
    "colab": {
      "name": "14_PythonBasicProgram.ipynb",
      "provenance": [],
      "collapsed_sections": []
    },
    "kernelspec": {
      "name": "python3",
      "display_name": "Python 3"
    },
    "language_info": {
      "name": "python"
    }
  },
  "cells": [
    {
      "cell_type": "markdown",
      "source": [
        "###Python Basic Programming Assignment 14"
      ],
      "metadata": {
        "id": "1Io9jTFIeJds"
      }
    },
    {
      "cell_type": "markdown",
      "source": [
        "**Question 1:**\n",
        "\n",
        "Define a class with a generator which can iterate the numbers, which are divisible by 7, between a given range 0 and n.\n"
      ],
      "metadata": {
        "id": "xVIF9VUMeiCK"
      }
    },
    {
      "cell_type": "code",
      "source": [
        "class devByseven:\n",
        "  def __init__(self,n):\n",
        "    self.n = n\n",
        "\n",
        "  def gen(self):\n",
        "      for i in range(1,self.n+1):\n",
        "        if i%7 ==0:\n",
        "          yield(i)"
      ],
      "metadata": {
        "id": "BErZDSBRei0t"
      },
      "execution_count": 198,
      "outputs": []
    },
    {
      "cell_type": "code",
      "source": [
        "ob =devByseven(20)"
      ],
      "metadata": {
        "id": "ToHdFuV0gtPT"
      },
      "execution_count": 199,
      "outputs": []
    },
    {
      "cell_type": "code",
      "source": [
        "x= ob.gen()"
      ],
      "metadata": {
        "id": "_yecjYZcg0AD"
      },
      "execution_count": 200,
      "outputs": []
    },
    {
      "cell_type": "code",
      "source": [
        "next(x)"
      ],
      "metadata": {
        "colab": {
          "base_uri": "https://localhost:8080/"
        },
        "id": "nWOrQHyKg887",
        "outputId": "b85b97ed-ad09-4b37-fda8-fadf2a7646e3"
      },
      "execution_count": 201,
      "outputs": [
        {
          "output_type": "execute_result",
          "data": {
            "text/plain": [
              "7"
            ]
          },
          "metadata": {},
          "execution_count": 201
        }
      ]
    },
    {
      "cell_type": "code",
      "source": [
        "next(x)"
      ],
      "metadata": {
        "colab": {
          "base_uri": "https://localhost:8080/"
        },
        "id": "jWLG6bN1jG5H",
        "outputId": "e4df2af5-15ca-472d-83e4-13a22d2feab1"
      },
      "execution_count": 202,
      "outputs": [
        {
          "output_type": "execute_result",
          "data": {
            "text/plain": [
              "14"
            ]
          },
          "metadata": {},
          "execution_count": 202
        }
      ]
    },
    {
      "cell_type": "code",
      "source": [
        "next(x)"
      ],
      "metadata": {
        "colab": {
          "base_uri": "https://localhost:8080/",
          "height": 165
        },
        "id": "DcDGO6TPjJbE",
        "outputId": "ef0a8958-c211-43e8-dd3c-c1b194fada0d"
      },
      "execution_count": 203,
      "outputs": [
        {
          "output_type": "error",
          "ename": "StopIteration",
          "evalue": "ignored",
          "traceback": [
            "\u001b[0;31m---------------------------------------------------------------------------\u001b[0m",
            "\u001b[0;31mStopIteration\u001b[0m                             Traceback (most recent call last)",
            "\u001b[0;32m<ipython-input-203-92de4e9f6b1e>\u001b[0m in \u001b[0;36m<module>\u001b[0;34m()\u001b[0m\n\u001b[0;32m----> 1\u001b[0;31m \u001b[0mnext\u001b[0m\u001b[0;34m(\u001b[0m\u001b[0mx\u001b[0m\u001b[0;34m)\u001b[0m\u001b[0;34m\u001b[0m\u001b[0;34m\u001b[0m\u001b[0m\n\u001b[0m",
            "\u001b[0;31mStopIteration\u001b[0m: "
          ]
        }
      ]
    },
    {
      "cell_type": "markdown",
      "source": [
        "**Question 2:**\n",
        "Write a program to compute the frequency of the words from the input. The output should output after sorting the key alphanumerically. \n",
        "\n",
        "Suppose the following input is supplied to the program:\n",
        "\n",
        "New to Python or choosing between Python 2 and Python 3? Read Python 2 or Python 3.\n",
        "\n",
        "Then, the output should be:\n",
        "\n",
        "2:2\n",
        "\n",
        "3.:1\n",
        "\n",
        "3?:1\n",
        "\n",
        "New:1\n",
        "\n",
        "Python:5\n",
        "\n",
        "Read:1\n",
        "\n",
        "and:1\n",
        "\n",
        "between:1\n",
        "\n",
        "choosing:1\n",
        "\n",
        "or:2\n",
        "\n",
        "to:1\n"
      ],
      "metadata": {
        "id": "cIjgVlYNjOZ1"
      }
    },
    {
      "cell_type": "code",
      "source": [
        "s=\"New to Python or choosing between Python 2 and Python 3? Read Python 2 or Python 3.\""
      ],
      "metadata": {
        "id": "KaU_IQX1jeHd"
      },
      "execution_count": 204,
      "outputs": []
    },
    {
      "cell_type": "code",
      "source": [
        "lst = s.split()"
      ],
      "metadata": {
        "id": "qHLWJwtejsFl"
      },
      "execution_count": 205,
      "outputs": []
    },
    {
      "cell_type": "code",
      "source": [
        "d={}"
      ],
      "metadata": {
        "id": "LZfAcTZBj0dU"
      },
      "execution_count": 206,
      "outputs": []
    },
    {
      "cell_type": "code",
      "source": [
        "for word in lst:\n",
        "  if word in d.keys():\n",
        "    d[word] = d[word]+1\n",
        "  else:\n",
        "    d[word] =1"
      ],
      "metadata": {
        "id": "YaO1fjIzj16e"
      },
      "execution_count": 207,
      "outputs": []
    },
    {
      "cell_type": "code",
      "source": [
        "d"
      ],
      "metadata": {
        "colab": {
          "base_uri": "https://localhost:8080/"
        },
        "id": "w4wrE2CakJIt",
        "outputId": "a28ea93f-e971-4c87-f8d6-84305c90a214"
      },
      "execution_count": 208,
      "outputs": [
        {
          "output_type": "execute_result",
          "data": {
            "text/plain": [
              "{'2': 2,\n",
              " '3.': 1,\n",
              " '3?': 1,\n",
              " 'New': 1,\n",
              " 'Python': 5,\n",
              " 'Read': 1,\n",
              " 'and': 1,\n",
              " 'between': 1,\n",
              " 'choosing': 1,\n",
              " 'or': 2,\n",
              " 'to': 1}"
            ]
          },
          "metadata": {},
          "execution_count": 208
        }
      ]
    },
    {
      "cell_type": "code",
      "source": [
        "for key,val in d.items():\n",
        "  print(key,\":\",val)"
      ],
      "metadata": {
        "colab": {
          "base_uri": "https://localhost:8080/"
        },
        "id": "WNjTOsx4kalb",
        "outputId": "c5770c4e-913c-4aac-8fa8-3fb18d81b4a0"
      },
      "execution_count": 209,
      "outputs": [
        {
          "output_type": "stream",
          "name": "stdout",
          "text": [
            "New : 1\n",
            "to : 1\n",
            "Python : 5\n",
            "or : 2\n",
            "choosing : 1\n",
            "between : 1\n",
            "2 : 2\n",
            "and : 1\n",
            "3? : 1\n",
            "Read : 1\n",
            "3. : 1\n"
          ]
        }
      ]
    },
    {
      "cell_type": "markdown",
      "source": [
        "**Question 3:**\n",
        "\n",
        "\n",
        "\n",
        "Define a class Person and its two child classes: Male and Female. All classes have a method \"getGender\" which can print \"Male\" for Male class and \"Female\" for Female class.\n"
      ],
      "metadata": {
        "id": "Zg06K5kMkRdS"
      }
    },
    {
      "cell_type": "code",
      "source": [
        "\n",
        "class Person:\n",
        "  def __init__(self):\n",
        "    self.gender=\"Null\"\n",
        "  \n",
        "  def getGender(self):\n",
        "    print(\"Parent class\")\n",
        "    return self.gender\n",
        "\n",
        "class Male(Person):\n",
        "  \n",
        "  def getGender(self):\n",
        "    self.gender=\"Male\"\n",
        "    print(\"Male child class\")\n",
        "    return self.gender\n",
        "\n",
        "class Female(Person):\n",
        "\n",
        "  def __init__(self):\n",
        "    self.gender=\"Female\"\n",
        "\n",
        "  def getGender(self):\n",
        "    print(\"Female child class\")\n",
        "    return self.gender\n",
        "\n"
      ],
      "metadata": {
        "id": "GXeF5HmgkUQ6"
      },
      "execution_count": 210,
      "outputs": []
    },
    {
      "cell_type": "code",
      "source": [
        "person =Person()\n",
        "person.getGender()"
      ],
      "metadata": {
        "colab": {
          "base_uri": "https://localhost:8080/",
          "height": 53
        },
        "id": "Fte3FB1QlQkw",
        "outputId": "09bc4acc-7ed0-4481-e892-aa976e207fe8"
      },
      "execution_count": 211,
      "outputs": [
        {
          "output_type": "stream",
          "name": "stdout",
          "text": [
            "Parent class\n"
          ]
        },
        {
          "output_type": "execute_result",
          "data": {
            "application/vnd.google.colaboratory.intrinsic+json": {
              "type": "string"
            },
            "text/plain": [
              "'Null'"
            ]
          },
          "metadata": {},
          "execution_count": 211
        }
      ]
    },
    {
      "cell_type": "code",
      "source": [
        "male = Male()\n",
        "male.getGender()"
      ],
      "metadata": {
        "colab": {
          "base_uri": "https://localhost:8080/",
          "height": 53
        },
        "id": "uq-MTQ7gmF13",
        "outputId": "255a91ef-d7f1-4430-cebf-42079da18862"
      },
      "execution_count": 212,
      "outputs": [
        {
          "output_type": "stream",
          "name": "stdout",
          "text": [
            "Male child class\n"
          ]
        },
        {
          "output_type": "execute_result",
          "data": {
            "application/vnd.google.colaboratory.intrinsic+json": {
              "type": "string"
            },
            "text/plain": [
              "'Male'"
            ]
          },
          "metadata": {},
          "execution_count": 212
        }
      ]
    },
    {
      "cell_type": "code",
      "source": [
        "female = Female()\n",
        "female.getGender()"
      ],
      "metadata": {
        "colab": {
          "base_uri": "https://localhost:8080/",
          "height": 53
        },
        "id": "fn3oxbBGmOsM",
        "outputId": "e9a82bb1-ad18-4742-cf44-43b1a1efdaa7"
      },
      "execution_count": 213,
      "outputs": [
        {
          "output_type": "stream",
          "name": "stdout",
          "text": [
            "Female child class\n"
          ]
        },
        {
          "output_type": "execute_result",
          "data": {
            "application/vnd.google.colaboratory.intrinsic+json": {
              "type": "string"
            },
            "text/plain": [
              "'Female'"
            ]
          },
          "metadata": {},
          "execution_count": 213
        }
      ]
    },
    {
      "cell_type": "markdown",
      "source": [
        "**Question 4:**\n",
        "Please write a program to generate all sentences where subject is in [\"I\", \"You\"] and verb is in [\"Play\", \"Love\"] and the object is in [\"Hockey\",\"Football\"].\n",
        "\n"
      ],
      "metadata": {
        "id": "5YZDvG6Nm-FT"
      }
    },
    {
      "cell_type": "code",
      "source": [
        "sub = [\"I\", \"You\",\"We\"]\n",
        "verb = [\"Play\", \"Love\"]\n",
        "obj=[\"Hockey\",\"Football\"]"
      ],
      "metadata": {
        "id": "SZSQQP1anCMG"
      },
      "execution_count": 214,
      "outputs": []
    },
    {
      "cell_type": "code",
      "source": [
        "out = [ [i,j,k] for i in sub  \n",
        "        for j in verb\n",
        "        for k in obj]\n",
        "\n",
        "out"
      ],
      "metadata": {
        "colab": {
          "base_uri": "https://localhost:8080/"
        },
        "id": "CUMesBscrpNh",
        "outputId": "f22ec1fe-a2d2-4c92-c5f2-3779592ca0d5"
      },
      "execution_count": 215,
      "outputs": [
        {
          "output_type": "execute_result",
          "data": {
            "text/plain": [
              "[['I', 'Play', 'Hockey'],\n",
              " ['I', 'Play', 'Football'],\n",
              " ['I', 'Love', 'Hockey'],\n",
              " ['I', 'Love', 'Football'],\n",
              " ['You', 'Play', 'Hockey'],\n",
              " ['You', 'Play', 'Football'],\n",
              " ['You', 'Love', 'Hockey'],\n",
              " ['You', 'Love', 'Football'],\n",
              " ['We', 'Play', 'Hockey'],\n",
              " ['We', 'Play', 'Football'],\n",
              " ['We', 'Love', 'Hockey'],\n",
              " ['We', 'Love', 'Football']]"
            ]
          },
          "metadata": {},
          "execution_count": 215
        }
      ]
    },
    {
      "cell_type": "code",
      "source": [
        "for sen in out:\n",
        "  print(\" \".join(sen))"
      ],
      "metadata": {
        "colab": {
          "base_uri": "https://localhost:8080/"
        },
        "id": "vyE56AOjthuf",
        "outputId": "399dc883-4144-40aa-b876-89ba3301c8e2"
      },
      "execution_count": 216,
      "outputs": [
        {
          "output_type": "stream",
          "name": "stdout",
          "text": [
            "I Play Hockey\n",
            "I Play Football\n",
            "I Love Hockey\n",
            "I Love Football\n",
            "You Play Hockey\n",
            "You Play Football\n",
            "You Love Hockey\n",
            "You Love Football\n",
            "We Play Hockey\n",
            "We Play Football\n",
            "We Love Hockey\n",
            "We Love Football\n"
          ]
        }
      ]
    },
    {
      "cell_type": "markdown",
      "source": [
        "**Question 5:**\n",
        "Please write a program to compress and decompress the string \"hello world!hello world!hello world!hello world!\".\n"
      ],
      "metadata": {
        "id": "LQWmTNbqovaO"
      }
    },
    {
      "cell_type": "code",
      "source": [
        "pip install zlib-state"
      ],
      "metadata": {
        "colab": {
          "base_uri": "https://localhost:8080/"
        },
        "id": "li_rDQY2pP0z",
        "outputId": "285d9ec9-741a-4083-a98c-7e156b2fd125"
      },
      "execution_count": 217,
      "outputs": [
        {
          "output_type": "stream",
          "name": "stdout",
          "text": [
            "Requirement already satisfied: zlib-state in /usr/local/lib/python3.7/dist-packages (0.1.5)\n"
          ]
        }
      ]
    },
    {
      "cell_type": "code",
      "source": [
        "import zlib\n",
        "s = b\"hello world!hello world!hello world!hello world!\"\n",
        "t = zlib.compress(s)\n",
        "print(t)\n"
      ],
      "metadata": {
        "colab": {
          "base_uri": "https://localhost:8080/"
        },
        "id": "mz9La-NFoxB4",
        "outputId": "73a5ae55-3d8b-4b98-da0d-69faacf76950"
      },
      "execution_count": 218,
      "outputs": [
        {
          "output_type": "stream",
          "name": "stdout",
          "text": [
            "b'x\\x9c\\xcbH\\xcd\\xc9\\xc9W(\\xcf/\\xcaIQ\\xcc \\x82\\r\\x00\\xbd[\\x11\\xf5'\n"
          ]
        }
      ]
    },
    {
      "cell_type": "code",
      "source": [
        "print(zlib.decompress(t))"
      ],
      "metadata": {
        "colab": {
          "base_uri": "https://localhost:8080/"
        },
        "id": "83CO8_TupEER",
        "outputId": "6bafb982-0f26-4370-f623-e2269ff20950"
      },
      "execution_count": 219,
      "outputs": [
        {
          "output_type": "stream",
          "name": "stdout",
          "text": [
            "b'hello world!hello world!hello world!hello world!'\n"
          ]
        }
      ]
    },
    {
      "cell_type": "markdown",
      "source": [
        "**Question 6**:\n",
        "Please write a binary search function which searches an item in a sorted list. The function should return the index of element to be searched in the list.\n"
      ],
      "metadata": {
        "id": "StrVX6awpqXm"
      }
    },
    {
      "cell_type": "code",
      "source": [
        "def binary_search(lst, item):\n",
        "    low = 0\n",
        "    high = len(lst) - 1\n",
        "    \n",
        "    while low <= high:\n",
        "        mid = round((low + high) / 2)\n",
        "        \n",
        "        if lst[mid] == item:\n",
        "            return mid\n",
        "        elif lst[mid] > item:\n",
        "            high = mid - 1\n",
        "        else:\n",
        "            low = mid + 1\n",
        "    return None\n",
        "    \n",
        " "
      ],
      "metadata": {
        "id": "wYthSON7pt1o"
      },
      "execution_count": 220,
      "outputs": []
    },
    {
      "cell_type": "code",
      "source": [
        "lst = [1,3,5,7,8,9]\n",
        "print(binary_search(lst, 9))  "
      ],
      "metadata": {
        "colab": {
          "base_uri": "https://localhost:8080/"
        },
        "id": "cZWMcYb9qFS_",
        "outputId": "3ceb6d6c-1ab2-40eb-bf16-9a8be05d1ed3"
      },
      "execution_count": 221,
      "outputs": [
        {
          "output_type": "stream",
          "name": "stdout",
          "text": [
            "5\n"
          ]
        }
      ]
    }
  ]
}