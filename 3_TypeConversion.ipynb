{
  "nbformat": 4,
  "nbformat_minor": 0,
  "metadata": {
    "colab": {
      "provenance": [],
      "authorship_tag": "ABX9TyNMqs8HH4F+ZviBcW2K94t0",
      "include_colab_link": true
    },
    "kernelspec": {
      "name": "python3",
      "display_name": "Python 3"
    },
    "language_info": {
      "name": "python"
    }
  },
  "cells": [
    {
      "cell_type": "markdown",
      "metadata": {
        "id": "view-in-github",
        "colab_type": "text"
      },
      "source": [
        "<a href=\"https://colab.research.google.com/github/aasim2390/PythonProgrammingAssignment/blob/MySirG/3_TypeConversion.ipynb\" target=\"_parent\"><img src=\"https://colab.research.google.com/assets/colab-badge.svg\" alt=\"Open In Colab\"/></a>"
      ]
    },
    {
      "cell_type": "markdown",
      "source": [
        "**Ques1 :** Write a python script to convert a number into str type."
      ],
      "metadata": {
        "id": "-OZUguoBm0SH"
      }
    },
    {
      "cell_type": "code",
      "execution_count": 1,
      "metadata": {
        "colab": {
          "base_uri": "https://localhost:8080/"
        },
        "id": "YCv5pSZmmqQB",
        "outputId": "bd8277e2-2b24-41e8-e03b-f9a819dc9962"
      },
      "outputs": [
        {
          "output_type": "stream",
          "name": "stdout",
          "text": [
            "55\n"
          ]
        }
      ],
      "source": [
        "x = 55\n",
        "y =str(x)\n",
        "print(y)"
      ]
    },
    {
      "cell_type": "markdown",
      "source": [
        "**Ques2:** Write a python script to print Unicode of the character ‘m’"
      ],
      "metadata": {
        "id": "Aw5L2lZFnGq-"
      }
    },
    {
      "cell_type": "code",
      "source": [
        "ch = \"m\"\n",
        "ord(ch)"
      ],
      "metadata": {
        "colab": {
          "base_uri": "https://localhost:8080/"
        },
        "id": "pJwaggywnDZX",
        "outputId": "142897cc-a0f7-4f9c-a9aa-6b22fd779a1f"
      },
      "execution_count": 3,
      "outputs": [
        {
          "output_type": "execute_result",
          "data": {
            "text/plain": [
              "109"
            ]
          },
          "metadata": {},
          "execution_count": 3
        }
      ]
    },
    {
      "cell_type": "markdown",
      "source": [
        "**Ques3:** Write a python script to print character representation of a given unicode 100."
      ],
      "metadata": {
        "id": "kJYn79yJnQkL"
      }
    },
    {
      "cell_type": "code",
      "source": [
        "chr(100)"
      ],
      "metadata": {
        "colab": {
          "base_uri": "https://localhost:8080/",
          "height": 36
        },
        "id": "s2JwQorUnWpO",
        "outputId": "53fbaf9a-5545-47b3-8aeb-3434486615ae"
      },
      "execution_count": 4,
      "outputs": [
        {
          "output_type": "execute_result",
          "data": {
            "text/plain": [
              "'d'"
            ],
            "application/vnd.google.colaboratory.intrinsic+json": {
              "type": "string"
            }
          },
          "metadata": {},
          "execution_count": 4
        }
      ]
    },
    {
      "cell_type": "markdown",
      "source": [
        "**Ques4:** Write a python script to print any number and its binary equivalent"
      ],
      "metadata": {
        "id": "nNAobHjsnZvR"
      }
    },
    {
      "cell_type": "code",
      "source": [
        "x = 12\n",
        "bin(x)"
      ],
      "metadata": {
        "colab": {
          "base_uri": "https://localhost:8080/",
          "height": 36
        },
        "id": "ukOWpUuEneUa",
        "outputId": "6e8073af-10e7-4a0c-d9cc-8c3d59e75ef6"
      },
      "execution_count": 5,
      "outputs": [
        {
          "output_type": "execute_result",
          "data": {
            "text/plain": [
              "'0b1100'"
            ],
            "application/vnd.google.colaboratory.intrinsic+json": {
              "type": "string"
            }
          },
          "metadata": {},
          "execution_count": 5
        }
      ]
    },
    {
      "cell_type": "markdown",
      "source": [
        "**Ques5:** Write a python script to print any number and its octal equivalent."
      ],
      "metadata": {
        "id": "0HKVmW2Knjph"
      }
    },
    {
      "cell_type": "code",
      "source": [
        "x=100\n",
        "oct(x)"
      ],
      "metadata": {
        "colab": {
          "base_uri": "https://localhost:8080/",
          "height": 36
        },
        "id": "v_crOoEAnp-0",
        "outputId": "cf433d24-3308-4547-a2d0-0660c2940718"
      },
      "execution_count": 6,
      "outputs": [
        {
          "output_type": "execute_result",
          "data": {
            "text/plain": [
              "'0o144'"
            ],
            "application/vnd.google.colaboratory.intrinsic+json": {
              "type": "string"
            }
          },
          "metadata": {},
          "execution_count": 6
        }
      ]
    },
    {
      "cell_type": "markdown",
      "source": [
        "**Ques6:** Write a python script to print any number and its hexadecimal equivalent."
      ],
      "metadata": {
        "id": "tDdtdQapns-i"
      }
    },
    {
      "cell_type": "code",
      "source": [
        "x = 11\n",
        "hex(x)"
      ],
      "metadata": {
        "colab": {
          "base_uri": "https://localhost:8080/",
          "height": 36
        },
        "id": "MG0XvcwBnyvr",
        "outputId": "eeae60b1-9b88-4708-ef42-f2d1e9e9420e"
      },
      "execution_count": 9,
      "outputs": [
        {
          "output_type": "execute_result",
          "data": {
            "text/plain": [
              "'0xb'"
            ],
            "application/vnd.google.colaboratory.intrinsic+json": {
              "type": "string"
            }
          },
          "metadata": {},
          "execution_count": 9
        }
      ]
    },
    {
      "cell_type": "markdown",
      "source": [
        "**Ques7 :** Write a python script to store binary number 1100101 in a variable and print it in\n",
        "decimal format."
      ],
      "metadata": {
        "id": "dpZaXSrln6zy"
      }
    },
    {
      "cell_type": "code",
      "source": [
        "x = 0b1100101\n",
        "x"
      ],
      "metadata": {
        "colab": {
          "base_uri": "https://localhost:8080/"
        },
        "id": "RyJJffVKoAJP",
        "outputId": "8f5f48eb-2033-4d9f-e325-bde91a8fa39b"
      },
      "execution_count": 10,
      "outputs": [
        {
          "output_type": "execute_result",
          "data": {
            "text/plain": [
              "101"
            ]
          },
          "metadata": {},
          "execution_count": 10
        }
      ]
    },
    {
      "cell_type": "markdown",
      "source": [
        "**Ques8 :** Write a python script to store a hexadecimal number 2F in a variable and print it in\n",
        "octal format."
      ],
      "metadata": {
        "id": "KbTJY4g9oc6Q"
      }
    },
    {
      "cell_type": "code",
      "source": [
        "x = 0x2F\n",
        "x"
      ],
      "metadata": {
        "colab": {
          "base_uri": "https://localhost:8080/"
        },
        "id": "pCM8QImdoPFW",
        "outputId": "b97c6c26-0f0b-43a0-ecbb-53160b5ff007"
      },
      "execution_count": 11,
      "outputs": [
        {
          "output_type": "execute_result",
          "data": {
            "text/plain": [
              "47"
            ]
          },
          "metadata": {},
          "execution_count": 11
        }
      ]
    },
    {
      "cell_type": "markdown",
      "source": [
        "**Ques9:** Write a python script to store an octal number 125 in a variable and print it in binary\n",
        "format."
      ],
      "metadata": {
        "id": "6GhQ-lcKoj2B"
      }
    },
    {
      "cell_type": "code",
      "source": [
        "x = 0o125\n",
        "x"
      ],
      "metadata": {
        "colab": {
          "base_uri": "https://localhost:8080/"
        },
        "id": "LeBIPBOJon9v",
        "outputId": "cf443915-7330-44ea-a381-b4d3d16a3067"
      },
      "execution_count": 12,
      "outputs": [
        {
          "output_type": "execute_result",
          "data": {
            "text/plain": [
              "85"
            ]
          },
          "metadata": {},
          "execution_count": 12
        }
      ]
    },
    {
      "cell_type": "code",
      "source": [
        "bin(x)"
      ],
      "metadata": {
        "colab": {
          "base_uri": "https://localhost:8080/",
          "height": 36
        },
        "id": "kv5ZTqL6ovdQ",
        "outputId": "b656d13b-5e2b-4c36-f10a-7a35d0f7b71f"
      },
      "execution_count": 13,
      "outputs": [
        {
          "output_type": "execute_result",
          "data": {
            "text/plain": [
              "'0b1010101'"
            ],
            "application/vnd.google.colaboratory.intrinsic+json": {
              "type": "string"
            }
          },
          "metadata": {},
          "execution_count": 13
        }
      ]
    },
    {
      "cell_type": "markdown",
      "source": [
        "**Ques10:** Write a python script to add two numbers 25 (in octal) and 39 (in hexadecimal) and\n",
        "display the result in binary format."
      ],
      "metadata": {
        "id": "fdlAj4m-oxuo"
      }
    },
    {
      "cell_type": "code",
      "source": [
        "x = 0o25\n",
        "y = 0x39\n",
        "\n",
        "print(f\"Decimal form of x is {x}\")\n",
        "print(f\"Decimal form of y is {y}\")\n",
        "z = x+y\n",
        "print(f\"Decimal form of x+y is {z}\")\n",
        "print(f\"Binary form of x+y is {bin(z)}\")"
      ],
      "metadata": {
        "colab": {
          "base_uri": "https://localhost:8080/"
        },
        "id": "kCGgtOkgo249",
        "outputId": "c32f1d8a-9a94-4a80-cf68-f468ae5844c7"
      },
      "execution_count": 15,
      "outputs": [
        {
          "output_type": "stream",
          "name": "stdout",
          "text": [
            "Decimal form of x is 21\n",
            "Decimal form of y is 57\n",
            "Decimal form of x+y is 78\n",
            "Binary form of x+y is 0b1001110\n"
          ]
        }
      ]
    }
  ]
}