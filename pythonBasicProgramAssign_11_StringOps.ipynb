{
  "nbformat": 4,
  "nbformat_minor": 0,
  "metadata": {
    "colab": {
      "name": "pythonBasicProgramAssign_11_StringOps.ipynb",
      "provenance": []
    },
    "kernelspec": {
      "name": "python3",
      "display_name": "Python 3"
    },
    "language_info": {
      "name": "python"
    }
  },
  "cells": [
    {
      "cell_type": "markdown",
      "source": [
        "###Python Basic Programming Assignment 11"
      ],
      "metadata": {
        "id": "0Ou8iwT6h1L5"
      }
    },
    {
      "cell_type": "markdown",
      "source": [
        "**1.\tWrite a Python program to find words which are greater than given length k?**"
      ],
      "metadata": {
        "id": "FOMKH7iEr3HE"
      }
    },
    {
      "cell_type": "code",
      "source": [
        "import logging as log\n",
        "log.basicConfig(filename=\"Program1.log\",level=log.DEBUG,format='%(asctime)s-- %(levelname)s--%(message)s')\n",
        "\n",
        "\n",
        "def findWords(s,k):\n",
        "\n",
        "  log.info(\"Program started\")\n",
        "  if type(k) != int:\n",
        "    log.error(\"Please enter integer value of k\")\n",
        "    return None\n",
        "  print(type(s),s)\n",
        "\n",
        "  if type(s)!=str:\n",
        "    log.error(\"Please enter the sentence in string form\")\n",
        "    return None\n",
        "    \n",
        "  if k<=0:\n",
        "    log.error(\"Please enter correct value of k\")\n",
        "    return None\n",
        "    \n",
        "  temp=[]\n",
        "  try:\n",
        "    for word in s.split():\n",
        "      if len(word)>=k:\n",
        "        temp.append(word)\n",
        "        #print(temp)\n",
        "  except Exception as e:\n",
        "    print(\"Exception occured\")\n",
        "    log.exception(e)\n",
        "  log.info(\"Program completed - words found are: \", temp)\n",
        "  return temp\n",
        "\n",
        "\n"
      ],
      "metadata": {
        "id": "lDRwpcyTr8XN"
      },
      "execution_count": 20,
      "outputs": []
    },
    {
      "cell_type": "code",
      "source": [
        "s = \"The idea is to first split given string around space\" \n",
        "k = 4\n",
        "\n",
        "findWords(s,k)\n",
        "log.shutdown()"
      ],
      "metadata": {
        "id": "xAlj9OeWuuqX"
      },
      "execution_count": null,
      "outputs": []
    },
    {
      "cell_type": "markdown",
      "source": [
        "**2.\tWrite a Python program for removing i-th character from a string?**"
      ],
      "metadata": {
        "id": "iBWr-W5zyQS0"
      }
    },
    {
      "cell_type": "code",
      "source": [
        "def removeStr(s,k):\n",
        "  if type(k)!=int:\n",
        "    return None\n",
        "  if type(s)!=str:\n",
        "    return None\n",
        "  if k<0:\n",
        "    return None  \n",
        "  first = s[:k]\n",
        "  sec = s[k+1:]\n",
        "\n",
        "  return first+sec\n"
      ],
      "metadata": {
        "id": "kUpJ-CaYzKrj"
      },
      "execution_count": 45,
      "outputs": []
    },
    {
      "cell_type": "code",
      "source": [
        "removeStr(\"The idea is to first split given string around space\",4)"
      ],
      "metadata": {
        "colab": {
          "base_uri": "https://localhost:8080/",
          "height": 35
        },
        "id": "b3l3rXBI0M8m",
        "outputId": "f337cec0-bcdd-4374-a9ce-e19ee215a0db"
      },
      "execution_count": 48,
      "outputs": [
        {
          "output_type": "execute_result",
          "data": {
            "application/vnd.google.colaboratory.intrinsic+json": {
              "type": "string"
            },
            "text/plain": [
              "'The dea is to first split given string around space'"
            ]
          },
          "metadata": {},
          "execution_count": 48
        }
      ]
    },
    {
      "cell_type": "markdown",
      "source": [
        "**3.\tWrite a Python program to split and join a string?**"
      ],
      "metadata": {
        "id": "bKr4y-fe1OyT"
      }
    },
    {
      "cell_type": "markdown",
      "source": [
        "split() to split a string and join() to join a string"
      ],
      "metadata": {
        "id": "RkuulEfa1XPs"
      }
    },
    {
      "cell_type": "markdown",
      "source": [
        "\n",
        "\n",
        "```\n",
        "# This is formatted as code\n",
        "\n",
        "Split the string into list of strings\n",
        "\n",
        "Input : This is sample\n",
        "Output : ['This', 'is', 'sample']\n",
        "\n",
        "\n",
        "Join the list of strings into a string based on delimiter ('-')\n",
        "\n",
        "Input :  ['This', 'is', 'sample']\n",
        "Output : This-is-sample\n",
        "```\n",
        "\n"
      ],
      "metadata": {
        "id": "C1kDlVGR1dUI"
      }
    },
    {
      "cell_type": "code",
      "source": [
        "#split\n",
        "s = \"This is sample\"\n",
        "lst = s.split()\n",
        "print(lst)"
      ],
      "metadata": {
        "colab": {
          "base_uri": "https://localhost:8080/"
        },
        "id": "2mq8XN5v1uBO",
        "outputId": "c78affc1-268f-46f0-d62d-dff4e0151b38"
      },
      "execution_count": 49,
      "outputs": [
        {
          "output_type": "stream",
          "name": "stdout",
          "text": [
            "['This', 'is', 'sample']\n"
          ]
        }
      ]
    },
    {
      "cell_type": "code",
      "source": [
        "#join1\n",
        "\"-\".join(lst)"
      ],
      "metadata": {
        "colab": {
          "base_uri": "https://localhost:8080/",
          "height": 35
        },
        "id": "iSI9tV3811VQ",
        "outputId": "8e9163c1-bac8-4738-ddc8-c495d2d51128"
      },
      "execution_count": 50,
      "outputs": [
        {
          "output_type": "execute_result",
          "data": {
            "application/vnd.google.colaboratory.intrinsic+json": {
              "type": "string"
            },
            "text/plain": [
              "'This-is-sample'"
            ]
          },
          "metadata": {},
          "execution_count": 50
        }
      ]
    },
    {
      "cell_type": "code",
      "source": [
        "#join example2\n",
        "s=\"This is sample\"\n",
        "\"--\".join(s)"
      ],
      "metadata": {
        "colab": {
          "base_uri": "https://localhost:8080/",
          "height": 35
        },
        "id": "vT8UdTN02AX4",
        "outputId": "316195e8-6c09-43ec-b6ff-93395594e7dc"
      },
      "execution_count": 51,
      "outputs": [
        {
          "output_type": "execute_result",
          "data": {
            "application/vnd.google.colaboratory.intrinsic+json": {
              "type": "string"
            },
            "text/plain": [
              "'T--h--i--s-- --i--s-- --s--a--m--p--l--e'"
            ]
          },
          "metadata": {},
          "execution_count": 51
        }
      ]
    },
    {
      "cell_type": "markdown",
      "source": [
        "**4.\tWrite a Python to check if a given string is binary string or not?**"
      ],
      "metadata": {
        "id": "bNlTfZ_T2Pjh"
      }
    },
    {
      "cell_type": "code",
      "source": [
        "def checkBinary(s):\n",
        "  try:\n",
        "    lst = list(s)\n",
        "    st = set(lst)\n",
        "  except:\n",
        "    print(\"Exception occured!!!\")\n",
        "    return None\n",
        "\n",
        "  if st =={'0'} or st =={'1'} or st =={'0','1'}:  #combination of only 0,1 or both\n",
        "    return True\n",
        "  return False\n",
        "\n"
      ],
      "metadata": {
        "id": "IIdL0LW_2s1z"
      },
      "execution_count": 83,
      "outputs": []
    },
    {
      "cell_type": "code",
      "source": [
        "s=\"11110110  \"\n",
        "checkBinary(s)"
      ],
      "metadata": {
        "colab": {
          "base_uri": "https://localhost:8080/"
        },
        "id": "n7ihZwcN3wdS",
        "outputId": "50e06118-e8f0-4957-d1d3-a6a4f10acf35"
      },
      "execution_count": 84,
      "outputs": [
        {
          "output_type": "execute_result",
          "data": {
            "text/plain": [
              "False"
            ]
          },
          "metadata": {},
          "execution_count": 84
        }
      ]
    },
    {
      "cell_type": "code",
      "source": [
        "s=\"11110110\"\n",
        "checkBinary(s)"
      ],
      "metadata": {
        "colab": {
          "base_uri": "https://localhost:8080/"
        },
        "id": "R2SAUeOe4Ky6",
        "outputId": "42a62735-3094-49c6-d4db-d7136f96150f"
      },
      "execution_count": 85,
      "outputs": [
        {
          "output_type": "execute_result",
          "data": {
            "text/plain": [
              "True"
            ]
          },
          "metadata": {},
          "execution_count": 85
        }
      ]
    },
    {
      "cell_type": "markdown",
      "source": [
        "**5.\tWrite a Python program to find uncommon words from two Strings?**"
      ],
      "metadata": {
        "id": "XjQgw7P44RUm"
      }
    },
    {
      "cell_type": "markdown",
      "source": [
        "Given two sentences as strings A and B. The task is to return a list of all uncommon words. A word is uncommon if it appears exactly once in any one of the sentences, and does not appear in the other sentence.\n",
        "\n",
        "Note: A sentence is a string of space-separated words. Each word consists only of lowercase letters"
      ],
      "metadata": {
        "id": "EuJgGx8H46-N"
      }
    },
    {
      "cell_type": "code",
      "source": [
        "import string\n",
        "def removePunctuation(s):\n",
        "  punc = string.punctuation \n",
        "\n",
        "  for w in punc:    #To remove the punctuation if any in the string\n",
        "    if w in s:\n",
        "      s=s.replace(w,\"\")\n",
        "  return s\n"
      ],
      "metadata": {
        "id": "O-xnTjbD60Jw"
      },
      "execution_count": 156,
      "outputs": []
    },
    {
      "cell_type": "code",
      "source": [
        "def uncommonWords(A,B):\n",
        "  if type(A)!=str and type(B)!=str:\n",
        "    return None\n",
        "  A=A.lower()\n",
        "  B=B.lower()\n",
        "\n",
        "  try:\n",
        "    A = removePunctuation(A)\n",
        "    B= removePunctuation(B)\n",
        "  except Exception as e:\n",
        "    print(\"Exception occured at punctuation removal :\",e)\n",
        "  \n",
        "  A = A.strip()\n",
        "  B=B.strip()\n",
        "  A=set(A.split())\n",
        "  B=set(B.split())\n",
        "\n",
        "  C = set.difference(A,B)\n",
        "  D =set.difference(B,A)\n",
        "  return set.union(C,D)\n",
        "\n"
      ],
      "metadata": {
        "id": "p5Oi12Y97R61"
      },
      "execution_count": 170,
      "outputs": []
    },
    {
      "cell_type": "code",
      "source": [
        "A = \"apple banana mango\" \n",
        "B = \"banana fruits mango\""
      ],
      "metadata": {
        "id": "3MLEj1FQ48rM"
      },
      "execution_count": 171,
      "outputs": []
    },
    {
      "cell_type": "code",
      "source": [
        "uncommonWords(A,B)"
      ],
      "metadata": {
        "colab": {
          "base_uri": "https://localhost:8080/"
        },
        "id": "cbVpzAQg97MP",
        "outputId": "de604158-36ee-4312-bf88-2a2d12a5adf3"
      },
      "execution_count": 172,
      "outputs": [
        {
          "output_type": "execute_result",
          "data": {
            "text/plain": [
              "{'apple', 'fruits'}"
            ]
          },
          "metadata": {},
          "execution_count": 172
        }
      ]
    },
    {
      "cell_type": "markdown",
      "source": [
        "**6.\tWrite a Python to find all duplicate characters in string?**"
      ],
      "metadata": {
        "id": "AKZCAtBw-uPo"
      }
    },
    {
      "cell_type": "markdown",
      "source": [
        "Given a string, find all the duplicate characters which are similar to each others"
      ],
      "metadata": {
        "id": "hq6oF77p-622"
      }
    },
    {
      "cell_type": "markdown",
      "source": [
        "Input : hello\n",
        "\n",
        "\n",
        "Output : l"
      ],
      "metadata": {
        "id": "rBempV8P-9ge"
      }
    },
    {
      "cell_type": "code",
      "source": [
        "def duplicateStr(s):\n",
        "  if type(s) != str:\n",
        "    return None\n",
        "  \n",
        "  i = 0\n",
        "  temp=[]\n",
        "  for ch in s:\n",
        "    if ch in s[i+1:]:\n",
        "      if ch not in temp and ch.isalpha():     #only characters and no duplicacy\n",
        "        temp.append(ch)\n",
        "    i+=1\n",
        "  return \" ,\".join(temp)\n",
        "\n",
        "\n",
        "  "
      ],
      "metadata": {
        "id": "K9QKLbW_ALpK"
      },
      "execution_count": 189,
      "outputs": []
    },
    {
      "cell_type": "code",
      "source": [
        "duplicateStr(\"this is example\")"
      ],
      "metadata": {
        "colab": {
          "base_uri": "https://localhost:8080/",
          "height": 35
        },
        "id": "7bjju93MBG2k",
        "outputId": "afc1a1b3-4fc9-4833-e4a2-3a7e00034a54"
      },
      "execution_count": 192,
      "outputs": [
        {
          "output_type": "execute_result",
          "data": {
            "application/vnd.google.colaboratory.intrinsic+json": {
              "type": "string"
            },
            "text/plain": [
              "'i ,s ,e'"
            ]
          },
          "metadata": {},
          "execution_count": 192
        }
      ]
    },
    {
      "cell_type": "code",
      "source": [
        "duplicateStr(\"hello\")"
      ],
      "metadata": {
        "colab": {
          "base_uri": "https://localhost:8080/",
          "height": 35
        },
        "id": "hRRXfA-aBf82",
        "outputId": "ebb212a4-176c-48fe-e1ec-c4c212069875"
      },
      "execution_count": 193,
      "outputs": [
        {
          "output_type": "execute_result",
          "data": {
            "application/vnd.google.colaboratory.intrinsic+json": {
              "type": "string"
            },
            "text/plain": [
              "'l'"
            ]
          },
          "metadata": {},
          "execution_count": 193
        }
      ]
    },
    {
      "cell_type": "markdown",
      "source": [
        "**7.\tWrite a Python Program to check if a string contains any special character?**"
      ],
      "metadata": {
        "id": "Btil_qrfBoq1"
      }
    },
    {
      "cell_type": "markdown",
      "source": [
        "\n",
        "\n",
        "```\n",
        "# This is formatted as code\n",
        "\n",
        "Input : This$is$Example\n",
        "Output : String is not accepted.\n",
        "\n",
        "Input : This is Example\n",
        "Output : String is accepted\n",
        "```\n",
        "\n"
      ],
      "metadata": {
        "id": "_FsPPA_TByJC"
      }
    },
    {
      "cell_type": "code",
      "source": [
        "##Testing for punctuation\n",
        "import string\n",
        "punc = string.punctuation \n",
        "\n",
        "punc\n",
        "###################"
      ],
      "metadata": {
        "colab": {
          "base_uri": "https://localhost:8080/",
          "height": 35
        },
        "id": "bqg4F6ZyB8w-",
        "outputId": "4f271e3b-f64d-4b33-e3bd-0312e6fd0f12"
      },
      "execution_count": 201,
      "outputs": [
        {
          "output_type": "execute_result",
          "data": {
            "application/vnd.google.colaboratory.intrinsic+json": {
              "type": "string"
            },
            "text/plain": [
              "'!\"#$%&\\'()*+,-./:;<=>?@[\\\\]^_`{|}~'"
            ]
          },
          "metadata": {},
          "execution_count": 201
        }
      ]
    },
    {
      "cell_type": "code",
      "source": [
        "import string\n",
        "def isSpecialChar(s):\n",
        "  if type(s) !=str:\n",
        "    return None\n",
        "  punc = string.punctuation\n",
        "  \n",
        "  flag = False\n",
        "  for w in s:\n",
        "    if w in punc:\n",
        "      flag = True\n",
        "      break\n",
        "  if flag ==True:\n",
        "    return True\n",
        "\n",
        "  return False"
      ],
      "metadata": {
        "id": "ZS_0dwOaCYkm"
      },
      "execution_count": 205,
      "outputs": []
    },
    {
      "cell_type": "code",
      "source": [
        "s = \"This$is$Example\"\n",
        "isSpecialChar(s)"
      ],
      "metadata": {
        "colab": {
          "base_uri": "https://localhost:8080/"
        },
        "id": "mfDjgvwGCwbx",
        "outputId": "8b992d04-67b9-4275-daa2-606ff331cc96"
      },
      "execution_count": 206,
      "outputs": [
        {
          "output_type": "execute_result",
          "data": {
            "text/plain": [
              "True"
            ]
          },
          "metadata": {},
          "execution_count": 206
        }
      ]
    },
    {
      "cell_type": "code",
      "source": [
        "s=\"This is example\"\n",
        "isSpecialChar(s)"
      ],
      "metadata": {
        "colab": {
          "base_uri": "https://localhost:8080/"
        },
        "id": "aj0HlpT9C1ET",
        "outputId": "a1b562f5-7c4e-4c78-beb7-1ed7f10888e1"
      },
      "execution_count": 207,
      "outputs": [
        {
          "output_type": "execute_result",
          "data": {
            "text/plain": [
              "False"
            ]
          },
          "metadata": {},
          "execution_count": 207
        }
      ]
    }
  ]
}