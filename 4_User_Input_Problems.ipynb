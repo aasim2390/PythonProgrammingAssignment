{
  "nbformat": 4,
  "nbformat_minor": 0,
  "metadata": {
    "colab": {
      "provenance": [],
      "authorship_tag": "ABX9TyNiRbaaj863/NvPYm4Y5wRJ",
      "include_colab_link": true
    },
    "kernelspec": {
      "name": "python3",
      "display_name": "Python 3"
    },
    "language_info": {
      "name": "python"
    }
  },
  "cells": [
    {
      "cell_type": "markdown",
      "metadata": {
        "id": "view-in-github",
        "colab_type": "text"
      },
      "source": [
        "<a href=\"https://colab.research.google.com/github/aasim2390/PythonProgrammingAssignment/blob/MySirG/4_User_Input_Problems.ipynb\" target=\"_parent\"><img src=\"https://colab.research.google.com/assets/colab-badge.svg\" alt=\"Open In Colab\"/></a>"
      ]
    },
    {
      "cell_type": "markdown",
      "source": [
        "Ques1: Write a python script to take your name as input from the user and then print it."
      ],
      "metadata": {
        "id": "BgxbY1yiiOwP"
      }
    },
    {
      "cell_type": "code",
      "execution_count": 2,
      "metadata": {
        "colab": {
          "base_uri": "https://localhost:8080/"
        },
        "id": "PDJjd-uziKyh",
        "outputId": "e96a6f72-c52e-4288-fbcd-55b6967bcd2d"
      },
      "outputs": [
        {
          "output_type": "stream",
          "name": "stdout",
          "text": [
            "Enter your name: Asim\n",
            "Hi, Asim\n"
          ]
        }
      ],
      "source": [
        "name = input(\"Enter your name: \")\n",
        "print(f\"Hi, {name}\")"
      ]
    },
    {
      "cell_type": "markdown",
      "source": [
        "Ques2: Write a python script to take input from the user. Input must be a number."
      ],
      "metadata": {
        "id": "WKxnCFxqjwlc"
      }
    },
    {
      "cell_type": "code",
      "source": [
        "num  = int(input(\"Enter number of your choice: \"))\n",
        "print(\"Entered number is :\",num)"
      ],
      "metadata": {
        "colab": {
          "base_uri": "https://localhost:8080/"
        },
        "id": "zMowLu-Xj1t-",
        "outputId": "9a433356-9ffb-4e94-e131-ebfdff9b8a27"
      },
      "execution_count": 3,
      "outputs": [
        {
          "output_type": "stream",
          "name": "stdout",
          "text": [
            "Enter number of your choice: 253\n",
            "Entered number is : 253\n"
          ]
        }
      ]
    },
    {
      "cell_type": "markdown",
      "source": [
        "Ques3: Write a python script which takes two numbers from the user, then calculate their sum\n",
        "and display the result."
      ],
      "metadata": {
        "id": "ppdlaEINkHy5"
      }
    },
    {
      "cell_type": "code",
      "source": [
        "num1  = int(input(\"Enter first number of your choice: \"))\n",
        "num2  = int(input(\"Enter second number of your choice: \"))\n",
        "print(f\"Sum of {num1} + {num2} = {num1+num2}\")"
      ],
      "metadata": {
        "colab": {
          "base_uri": "https://localhost:8080/"
        },
        "id": "gVhEgMKwkMdu",
        "outputId": "2ad0f6b8-614c-442a-a5b8-a77222161de0"
      },
      "execution_count": 6,
      "outputs": [
        {
          "output_type": "stream",
          "name": "stdout",
          "text": [
            "Enter first number of your choice: 12\n",
            "Enter second number of your choice: 20\n",
            "Sum of 12 + 20 = 32\n"
          ]
        }
      ]
    },
    {
      "cell_type": "markdown",
      "source": [
        "Ques4  : Write a python script which takes the radius from the user and display area of a circle."
      ],
      "metadata": {
        "id": "eXEyoVlTkk6Y"
      }
    },
    {
      "cell_type": "code",
      "source": [
        "rad  = eval(input(\"Enter radius of your choice: \"))\n",
        "print(\"Area = \",3.14*(rad)**2)"
      ],
      "metadata": {
        "colab": {
          "base_uri": "https://localhost:8080/"
        },
        "id": "8POoUVXfkttP",
        "outputId": "6a424d8b-3e71-482e-a7aa-ab4131fa2428"
      },
      "execution_count": 7,
      "outputs": [
        {
          "output_type": "stream",
          "name": "stdout",
          "text": [
            "Enter radius of your choice: 12.5\n",
            "Area =  490.625\n"
          ]
        }
      ]
    },
    {
      "cell_type": "markdown",
      "source": [
        "Ques5: Write a python script to calculate the square of a number. Number is entered by the user."
      ],
      "metadata": {
        "id": "CvLN7B_Vk__T"
      }
    },
    {
      "cell_type": "code",
      "source": [
        "num  = eval(input(\"Enter number of your choice: \"))\n",
        "print(f\"Square of {num} is {num**2}\")"
      ],
      "metadata": {
        "colab": {
          "base_uri": "https://localhost:8080/"
        },
        "id": "zMLVvYFKlF8-",
        "outputId": "702d2d57-7948-45c2-f2dc-a90be0de3223"
      },
      "execution_count": 9,
      "outputs": [
        {
          "output_type": "stream",
          "name": "stdout",
          "text": [
            "Enter number of your choice: 2.5\n",
            "Square of 2.5 is 6.25\n"
          ]
        }
      ]
    },
    {
      "cell_type": "markdown",
      "source": [
        "Ques6: Write a python script to calculate the area of Triangle. Number is entered by the user."
      ],
      "metadata": {
        "id": "mvXyrUhblXaT"
      }
    },
    {
      "cell_type": "code",
      "source": [
        "base  = eval(input(\"Enter the base of triangle: \"))\n",
        "height  = eval(input(\"Enter the height of triangle: \"))\n",
        "print(f\"Area of triangle is {0.5*base*height} \")"
      ],
      "metadata": {
        "colab": {
          "base_uri": "https://localhost:8080/"
        },
        "id": "tTyaLb9WldXL",
        "outputId": "7d5a8a4f-a2da-46e4-9f7b-f269029228bb"
      },
      "execution_count": 10,
      "outputs": [
        {
          "output_type": "stream",
          "name": "stdout",
          "text": [
            "Enter the base of triangle: 4\n",
            "Enter the height of triangle: 6\n",
            "Area of triangle is 12.0 \n"
          ]
        }
      ]
    },
    {
      "cell_type": "markdown",
      "source": [
        "Ques7: Write a python script to calculate average of three numbers, entered by the user"
      ],
      "metadata": {
        "id": "rNMpvRzEl7w0"
      }
    },
    {
      "cell_type": "code",
      "source": [
        "num1  = eval(input(\"Enter first number of your choice: \"))\n",
        "num2  = eval(input(\"Enter second number of your choice: \"))\n",
        "num3  = eval(input(\"Enter third number of your choice: \"))\n",
        "\n",
        "print(f\"Average = {(num1+num2+num3)/3}\")"
      ],
      "metadata": {
        "colab": {
          "base_uri": "https://localhost:8080/"
        },
        "id": "19EJJ6uHmAwt",
        "outputId": "f23b5f8a-2e7d-46c8-b24e-efe7536d2482"
      },
      "execution_count": 11,
      "outputs": [
        {
          "output_type": "stream",
          "name": "stdout",
          "text": [
            "Enter first number of your choice: 10\n",
            "Enter second number of your choice: 12\n",
            "Enter third number of your choice: 5\n",
            "Average = 9.0\n"
          ]
        }
      ]
    },
    {
      "cell_type": "markdown",
      "source": [
        "Ques8 : Write a python script to calculate simple interest"
      ],
      "metadata": {
        "id": "Yqc83PSZmXTi"
      }
    },
    {
      "cell_type": "code",
      "source": [
        "p  = eval(input(\"Enter the principal amount: \"))\n",
        "r  = eval(input(\"Enter the rate of interest in %: \"))\n",
        "t  = eval(input(\"Enter the time period in yrs: \"))\n",
        "\n",
        "print(f\"Simple Interest = {(p*r*t)/100}\")"
      ],
      "metadata": {
        "colab": {
          "base_uri": "https://localhost:8080/"
        },
        "id": "JhLpi1oemdVL",
        "outputId": "97778613-a17e-45d1-950a-8abc9b25f72d"
      },
      "execution_count": 12,
      "outputs": [
        {
          "output_type": "stream",
          "name": "stdout",
          "text": [
            "Enter the principal amount: 1000\n",
            "Enter the rate of interest in %: 5.5\n",
            "Enter the time period in yrs: 3\n",
            "Simple Interest = 165.0\n"
          ]
        }
      ]
    },
    {
      "cell_type": "markdown",
      "source": [
        "Ques9: Write a python script to calculate the volume of a cuboid."
      ],
      "metadata": {
        "id": "oXot5P-Cm2XE"
      }
    },
    {
      "cell_type": "code",
      "source": [
        "l  = eval(input(\"Enter the length: \"))\n",
        "b  = eval(input(\"Enter the width: \"))\n",
        "h  = eval(input(\"Enter the height: \"))\n",
        "\n",
        "print(\"volume = \", l*b*h)"
      ],
      "metadata": {
        "colab": {
          "base_uri": "https://localhost:8080/"
        },
        "id": "P4Dp76qJm6UL",
        "outputId": "9520cbcb-94cc-46fb-dc71-c1830f655eb6"
      },
      "execution_count": 13,
      "outputs": [
        {
          "output_type": "stream",
          "name": "stdout",
          "text": [
            "Enter the length: 5\n",
            "Enter the width: 10\n",
            "Enter the height: 3\n",
            "volume =  150\n"
          ]
        }
      ]
    },
    {
      "cell_type": "markdown",
      "source": [
        "Ques10: Write a python script to calculate area of a rectangle"
      ],
      "metadata": {
        "id": "bHoT-YYunS60"
      }
    },
    {
      "cell_type": "code",
      "source": [
        "l  = eval(input(\"Enter the length: \"))\n",
        "b  = eval(input(\"Enter the width: \"))\n",
        "print(\"area = \", l*b)"
      ],
      "metadata": {
        "colab": {
          "base_uri": "https://localhost:8080/"
        },
        "id": "Xcf9aRKPnOPT",
        "outputId": "e83037e9-b892-4add-80b1-14fe190608d5"
      },
      "execution_count": 14,
      "outputs": [
        {
          "output_type": "stream",
          "name": "stdout",
          "text": [
            "Enter the length: 22\n",
            "Enter the width: 2\n",
            "area =  44\n"
          ]
        }
      ]
    }
  ]
}