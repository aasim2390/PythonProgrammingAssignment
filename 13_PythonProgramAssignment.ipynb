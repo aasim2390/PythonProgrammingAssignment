{
  "nbformat": 4,
  "nbformat_minor": 0,
  "metadata": {
    "colab": {
      "name": "13_PythonProgramAssignment.ipynb",
      "provenance": [],
      "collapsed_sections": []
    },
    "kernelspec": {
      "name": "python3",
      "display_name": "Python 3"
    },
    "language_info": {
      "name": "python"
    }
  },
  "cells": [
    {
      "cell_type": "markdown",
      "source": [
        "###Python Basic Programming Assignment 13"
      ],
      "metadata": {
        "id": "BBSJ3RVSnWjN"
      }
    },
    {
      "cell_type": "markdown",
      "source": [
        "**Question 1:**\n",
        "\n",
        "Write a program that calculates and prints the value according to the given formula:\n",
        "\n",
        "Q = Square root of [(2 * C * D)/H]\n",
        "\n",
        "Following are the fixed values of C and H:\n",
        "\n",
        "C is 50. H is 30.\n",
        "\n",
        "D is the variable whose values should be input to your program in a comma-separated sequence.\n"
      ],
      "metadata": {
        "id": "7z6s9xm4OHTA"
      }
    },
    {
      "cell_type": "markdown",
      "source": [
        "**Example**\n",
        "\n",
        "Let us assume the following comma separated input sequence is given to the program:\n",
        "\n",
        "100,150,180\n",
        "\n",
        "The output of the program should be:\n",
        "\n",
        "18,22,24\n"
      ],
      "metadata": {
        "id": "OpqGfrDUOMNJ"
      }
    },
    {
      "cell_type": "code",
      "source": [
        "import math\n",
        "C=50\n",
        "H=30"
      ],
      "metadata": {
        "id": "EXhZkwgOOOLG"
      },
      "execution_count": 96,
      "outputs": []
    },
    {
      "cell_type": "code",
      "source": [
        "D = input(\"Input the number in comma-separated sequence : \")"
      ],
      "metadata": {
        "colab": {
          "base_uri": "https://localhost:8080/"
        },
        "id": "ry_Q1Sz8OfPy",
        "outputId": "2f498d85-1285-481e-b821-15910ff53e20"
      },
      "execution_count": 97,
      "outputs": [
        {
          "name": "stdout",
          "output_type": "stream",
          "text": [
            "Input the number in comma-separated sequence : 100, 150,180\n"
          ]
        }
      ]
    },
    {
      "cell_type": "code",
      "source": [
        "D = D.split(\",\")"
      ],
      "metadata": {
        "id": "33J2GmU0Pqda"
      },
      "execution_count": 98,
      "outputs": []
    },
    {
      "cell_type": "code",
      "source": [
        "for item in D:\n",
        "  try:\n",
        "    item = int(item)\n",
        "  except:\n",
        "    print(f\"{item} is not integer\")\n",
        "  try:\n",
        "    Q = math.sqrt((2*C*item)/H)\n",
        "  except:\n",
        "    print(f\"Error in calculating Q for {item}\")\n",
        "  print(round(Q),end=\",\")"
      ],
      "metadata": {
        "colab": {
          "base_uri": "https://localhost:8080/"
        },
        "id": "GeXzOs0tOkKQ",
        "outputId": "6ccb31fe-f40b-4ea2-9eb0-dfe3129bad67"
      },
      "execution_count": 99,
      "outputs": [
        {
          "output_type": "stream",
          "name": "stdout",
          "text": [
            "18,22,24,"
          ]
        }
      ]
    },
    {
      "cell_type": "markdown",
      "source": [
        "\n",
        "**Question 2:**\n",
        "\n",
        "Write a program which takes 2 digits, X,Y as input and generates a 2-dimensional array. The element value in the i-th row and j-th column of the array should be i*j.\n",
        "\n",
        "Note: i=0,1.., X-1; j=0,1,¡¬Y-1.\n"
      ],
      "metadata": {
        "id": "nHgrsAgjQmE2"
      }
    },
    {
      "cell_type": "markdown",
      "source": [
        "**Example**\n",
        "\n",
        "Suppose the following inputs are given to the program:\n",
        "\n",
        "3,5\n",
        "\n",
        "Then, the output of the program should be:\n",
        "\n",
        "[[0, 0, 0, 0, 0], [0, 1, 2, 3, 4], [0, 2, 4, 6, 8]] \n"
      ],
      "metadata": {
        "id": "VZSlwp82QwMi"
      }
    },
    {
      "cell_type": "code",
      "source": [
        "try:\n",
        "  X=int(input(\"Enter the digit:\"))\n",
        "except:\n",
        "  print(\"It is not a digit\")\n",
        "\n",
        "try:\n",
        "  Y=int(input(\"Enter the digit:\"))\n",
        "except:\n",
        "  print(\"It is not a digit\")"
      ],
      "metadata": {
        "colab": {
          "base_uri": "https://localhost:8080/"
        },
        "id": "5lwFGxsXQzb9",
        "outputId": "ee1c2c1d-ded0-40fb-ff43-3eb0b3b86eab"
      },
      "execution_count": 110,
      "outputs": [
        {
          "name": "stdout",
          "output_type": "stream",
          "text": [
            "Enter the digit:3\n",
            "Enter the digit:5\n"
          ]
        }
      ]
    },
    {
      "cell_type": "code",
      "source": [
        "import random\n",
        "temp=[]\n",
        "for row in range(X):\n",
        "  lst=[]\n",
        "  temp.append(lst)       #adding empty list at each row increament\n",
        "  for col in range(Y):\n",
        "    temp[row].append(random.randint(1,50))  #randomly insering int values from 1to 50 to populate columns\n",
        "    \n"
      ],
      "metadata": {
        "id": "pBFgPNbnVwBO"
      },
      "execution_count": 111,
      "outputs": []
    },
    {
      "cell_type": "code",
      "source": [
        "temp"
      ],
      "metadata": {
        "colab": {
          "base_uri": "https://localhost:8080/"
        },
        "id": "4hEQO8EGWTW1",
        "outputId": "c7695a1e-cf6f-4c6e-beea-e421976b99ad"
      },
      "execution_count": 112,
      "outputs": [
        {
          "output_type": "execute_result",
          "data": {
            "text/plain": [
              "[[45, 13, 12, 45, 36], [7, 34, 11, 50, 18], [10, 23, 33, 17, 25]]"
            ]
          },
          "metadata": {},
          "execution_count": 112
        }
      ]
    },
    {
      "cell_type": "markdown",
      "source": [
        "**Question 3:**\n",
        "Write a program that accepts a comma separated sequence of words as input and prints the words in a comma-separated sequence after sorting them alphabetically.\n",
        "\n",
        "Suppose the following input is supplied to the program:\n",
        "\n",
        "without,hello,bag,world\n",
        "\n",
        "Then, the output should be:\n",
        "\n",
        "bag,hello,without,world\n"
      ],
      "metadata": {
        "id": "2nl2RInQXKVF"
      }
    },
    {
      "cell_type": "code",
      "source": [
        "s = input(\"Enter the comma separated string : \")"
      ],
      "metadata": {
        "colab": {
          "base_uri": "https://localhost:8080/"
        },
        "id": "z83Js59lXPRb",
        "outputId": "7ad187c9-1c6f-4acd-f460-1e39103a1b6d"
      },
      "execution_count": 119,
      "outputs": [
        {
          "name": "stdout",
          "output_type": "stream",
          "text": [
            "Enter the comma separated string : without,hello,bag,world\n"
          ]
        }
      ]
    },
    {
      "cell_type": "code",
      "source": [
        "lst = s.split(\",\")\n",
        "lst"
      ],
      "metadata": {
        "colab": {
          "base_uri": "https://localhost:8080/"
        },
        "id": "fxVlGxGjXYUf",
        "outputId": "f9181ba5-a319-4ea7-b4ef-70b898a627c9"
      },
      "execution_count": 120,
      "outputs": [
        {
          "output_type": "execute_result",
          "data": {
            "text/plain": [
              "['without', 'hello', 'bag', 'world']"
            ]
          },
          "metadata": {},
          "execution_count": 120
        }
      ]
    },
    {
      "cell_type": "code",
      "source": [
        "lst.sort()\n",
        "lst"
      ],
      "metadata": {
        "colab": {
          "base_uri": "https://localhost:8080/"
        },
        "id": "SOXQv3Z3XeXI",
        "outputId": "642b65ba-0ba5-47b5-916c-bb6dc41547c6"
      },
      "execution_count": 121,
      "outputs": [
        {
          "output_type": "execute_result",
          "data": {
            "text/plain": [
              "['bag', 'hello', 'without', 'world']"
            ]
          },
          "metadata": {},
          "execution_count": 121
        }
      ]
    },
    {
      "cell_type": "code",
      "source": [
        "\",\".join(lst)"
      ],
      "metadata": {
        "colab": {
          "base_uri": "https://localhost:8080/",
          "height": 35
        },
        "id": "ecPml2t5XiQ8",
        "outputId": "2e92aa8f-3bf1-49b5-b1e6-cd26829a8aa3"
      },
      "execution_count": 122,
      "outputs": [
        {
          "output_type": "execute_result",
          "data": {
            "application/vnd.google.colaboratory.intrinsic+json": {
              "type": "string"
            },
            "text/plain": [
              "'bag,hello,without,world'"
            ]
          },
          "metadata": {},
          "execution_count": 122
        }
      ]
    },
    {
      "cell_type": "markdown",
      "source": [
        "**Question 4:**\n",
        "Write a program that accepts a sequence of whitespace separated words as input and prints the words after removing all duplicate words and sorting them alphanumerically.\n",
        "\n",
        "Suppose the following input is supplied to the program:\n",
        "\n",
        "hello world and practice makes perfect and hello world again\n",
        "\n",
        "Then, the output should be:\n",
        "\n",
        "again and hello makes perfect practice world\n"
      ],
      "metadata": {
        "id": "q7ApmhTvX0_j"
      }
    },
    {
      "cell_type": "code",
      "source": [
        "s=input(\"Enter the string:\")"
      ],
      "metadata": {
        "colab": {
          "base_uri": "https://localhost:8080/"
        },
        "id": "HjiIEIZ0X4oi",
        "outputId": "5ee85362-90b8-40d8-d42c-15d0ac1751dc"
      },
      "execution_count": 127,
      "outputs": [
        {
          "name": "stdout",
          "output_type": "stream",
          "text": [
            "Enter the string:hello world and practice makes perfect and hello world again\n"
          ]
        }
      ]
    },
    {
      "cell_type": "code",
      "source": [
        "lst=s.split()\n",
        "lst"
      ],
      "metadata": {
        "colab": {
          "base_uri": "https://localhost:8080/"
        },
        "id": "LBx5IHfsX_nV",
        "outputId": "114c88f1-5397-4b5d-c538-a23630cec23b"
      },
      "execution_count": 128,
      "outputs": [
        {
          "output_type": "execute_result",
          "data": {
            "text/plain": [
              "['hello',\n",
              " 'world',\n",
              " 'and',\n",
              " 'practice',\n",
              " 'makes',\n",
              " 'perfect',\n",
              " 'and',\n",
              " 'hello',\n",
              " 'world',\n",
              " 'again']"
            ]
          },
          "metadata": {},
          "execution_count": 128
        }
      ]
    },
    {
      "cell_type": "code",
      "source": [
        "lst =list(set(lst))\n",
        "lst"
      ],
      "metadata": {
        "colab": {
          "base_uri": "https://localhost:8080/"
        },
        "id": "y4Xs57UWYDK5",
        "outputId": "2aeac16c-14c9-4597-86bc-37c57c6c641d"
      },
      "execution_count": 131,
      "outputs": [
        {
          "output_type": "execute_result",
          "data": {
            "text/plain": [
              "['practice', 'world', 'and', 'again', 'makes', 'perfect', 'hello']"
            ]
          },
          "metadata": {},
          "execution_count": 131
        }
      ]
    },
    {
      "cell_type": "code",
      "source": [
        "lst.sort()\n",
        "lst"
      ],
      "metadata": {
        "colab": {
          "base_uri": "https://localhost:8080/"
        },
        "id": "ivY1rhB5YaKU",
        "outputId": "314175d1-2a90-44eb-93d5-0a96e7dae263"
      },
      "execution_count": 132,
      "outputs": [
        {
          "output_type": "execute_result",
          "data": {
            "text/plain": [
              "['again', 'and', 'hello', 'makes', 'perfect', 'practice', 'world']"
            ]
          },
          "metadata": {},
          "execution_count": 132
        }
      ]
    },
    {
      "cell_type": "code",
      "source": [
        "\" \".join(lst)"
      ],
      "metadata": {
        "colab": {
          "base_uri": "https://localhost:8080/",
          "height": 35
        },
        "id": "8Ok_xvfrYJ4c",
        "outputId": "13facbda-443e-4c34-d275-10d7781d7127"
      },
      "execution_count": 133,
      "outputs": [
        {
          "output_type": "execute_result",
          "data": {
            "application/vnd.google.colaboratory.intrinsic+json": {
              "type": "string"
            },
            "text/plain": [
              "'again and hello makes perfect practice world'"
            ]
          },
          "metadata": {},
          "execution_count": 133
        }
      ]
    },
    {
      "cell_type": "markdown",
      "source": [
        "**Question 5:**\n",
        "Write a program that accepts a sentence and calculate the number of letters and digits.\n",
        "\n",
        "Suppose the following input is supplied to the program:\n",
        "\n",
        "hello world! 123\n",
        "\n",
        "Then, the output should be:\n",
        "\n",
        "LETTERS 10\n",
        "\n",
        "DIGITS 3\n"
      ],
      "metadata": {
        "id": "e8RcmrEhYgvJ"
      }
    },
    {
      "cell_type": "code",
      "source": [
        "s = \"hello world! 123\"\n",
        "LETTERS=0\n",
        "DIGIT=0"
      ],
      "metadata": {
        "id": "Z7AzRonmYkMQ"
      },
      "execution_count": 141,
      "outputs": []
    },
    {
      "cell_type": "code",
      "source": [
        "for ch in s:\n",
        "  #print(ch, ch.isalpha(),ch.isdigit())\n",
        "  if ch.isalpha():\n",
        "    LETTERS+=1\n",
        "  if ch.isdigit():\n",
        "    DIGIT+=1"
      ],
      "metadata": {
        "id": "MZPWapvXYtc2"
      },
      "execution_count": 142,
      "outputs": []
    },
    {
      "cell_type": "code",
      "source": [
        "print(\"LETTERS=\",LETTERS)\n",
        "print(\"DIGIT=\",DIGIT)"
      ],
      "metadata": {
        "colab": {
          "base_uri": "https://localhost:8080/"
        },
        "id": "pap_oh7JZVYq",
        "outputId": "305e730a-30e9-4776-ccbf-6f07b3dfbdb5"
      },
      "execution_count": 143,
      "outputs": [
        {
          "output_type": "stream",
          "name": "stdout",
          "text": [
            "LETTERS= 10\n",
            "DIGIT= 3\n"
          ]
        }
      ]
    },
    {
      "cell_type": "markdown",
      "source": [
        "**Question 6:**\n",
        "A website requires the users to input username and password to register. Write a program to check the validity of password input by users.\n",
        "\n",
        "Following are the criteria for checking the password:\n",
        "\n",
        "1. At least 1 letter between [a-z]\n",
        "\n",
        "2. At least 1 number between [0-9]\n",
        "\n",
        "1. At least 1 letter between [A-Z]\n",
        "\n",
        "3. At least 1 character from [$#@]\n",
        "\n",
        "4. Minimum length of transaction password: 6\n",
        "\n",
        "5. Maximum length of transaction password: 12\n",
        "\n",
        "Your program should accept a sequence of comma separated passwords and will check them according to the above criteria. Passwords that match the criteria are to be printed, each separated by a comma.\n"
      ],
      "metadata": {
        "id": "XnqDhNfiZgcz"
      }
    },
    {
      "cell_type": "markdown",
      "source": [
        "**Example**\n",
        "\n",
        "If the following passwords are given as input to the program:\n",
        "\n",
        "ABd1234@1,a F1#,2w3E*,2We3345\n",
        "\n",
        "Then, the output of the program should be:\n",
        "\n",
        "ABd1234@1\n"
      ],
      "metadata": {
        "id": "FNP8lqMMZkOe"
      }
    },
    {
      "cell_type": "code",
      "source": [
        "import re"
      ],
      "metadata": {
        "id": "EXacWZ5kan7i"
      },
      "execution_count": 174,
      "outputs": []
    },
    {
      "cell_type": "code",
      "source": [
        "def passwordChk(s):\n",
        "  flag=True\n",
        "  while(flag):\n",
        "    if len(s)<6 or len(s)>12:\n",
        "      break\n",
        "  \n",
        "    if not re.search(\"[a-z]\",s):\n",
        "      break\n",
        "\n",
        "    if not re.search(\"[A-Z]\",s):\n",
        "      break\n",
        "\n",
        "    if not re.search(\"[0-9]\",s):\n",
        "      break\n",
        "\n",
        "\n",
        "    if not re.search(\"[$@#]\",s):\n",
        "      break\n",
        "  \n",
        "    flag=False\n",
        "    return True  #Valid password return True\n",
        "\n",
        "  if flag:\n",
        "    return False #Invalid password return False"
      ],
      "metadata": {
        "id": "S9HZEUGQb7Q6"
      },
      "execution_count": 175,
      "outputs": []
    },
    {
      "cell_type": "code",
      "source": [
        "s=input(\"Enter the passwords in comma separated form :\")"
      ],
      "metadata": {
        "colab": {
          "base_uri": "https://localhost:8080/"
        },
        "id": "VcZCtJJ-amI3",
        "outputId": "46092313-7e32-4706-b072-54ac31066c85"
      },
      "execution_count": 180,
      "outputs": [
        {
          "name": "stdout",
          "output_type": "stream",
          "text": [
            "Enter the passwords in comma separated form :ABd1234@1,a F1#,2w3E*,2We3345,AB2c@54dfe\n"
          ]
        }
      ]
    },
    {
      "cell_type": "code",
      "source": [
        "for pwd in s.split(\",\"):\n",
        "  if passwordChk(pwd):\n",
        "    print(pwd,end=\" \")\n"
      ],
      "metadata": {
        "colab": {
          "base_uri": "https://localhost:8080/"
        },
        "id": "zBZkOe7TdrRH",
        "outputId": "648e353a-f94a-488c-c71b-124005f06207"
      },
      "execution_count": 181,
      "outputs": [
        {
          "output_type": "stream",
          "name": "stdout",
          "text": [
            "ABd1234@1 AB2c@54dfe "
          ]
        }
      ]
    }
  ]
}