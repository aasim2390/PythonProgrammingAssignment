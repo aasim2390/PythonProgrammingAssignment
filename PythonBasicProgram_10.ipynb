{
  "nbformat": 4,
  "nbformat_minor": 0,
  "metadata": {
    "colab": {
      "name": "PythonBasicProgram_10.ipynb",
      "provenance": [],
      "collapsed_sections": []
    },
    "kernelspec": {
      "name": "python3",
      "display_name": "Python 3"
    },
    "language_info": {
      "name": "python"
    }
  },
  "cells": [
    {
      "cell_type": "markdown",
      "source": [
        "###Python Basic Programming Assignment 10\n"
      ],
      "metadata": {
        "id": "BBSJ3RVSnWjN"
      }
    },
    {
      "cell_type": "markdown",
      "source": [
        "**1.\tWrite a Python program to find sum of elements in list?**"
      ],
      "metadata": {
        "id": "WTEozIXwu--A"
      }
    },
    {
      "cell_type": "code",
      "source": [
        "lst = [1,2,2.3,5,22,56,3.5,3,8,9]\n",
        "\n",
        "sum(lst)"
      ],
      "metadata": {
        "colab": {
          "base_uri": "https://localhost:8080/"
        },
        "id": "T7oez2wpvAUM",
        "outputId": "634710cc-fa3a-49ba-efa7-0c372b1e5dda"
      },
      "execution_count": 174,
      "outputs": [
        {
          "output_type": "execute_result",
          "data": {
            "text/plain": [
              "111.8"
            ]
          },
          "metadata": {},
          "execution_count": 174
        }
      ]
    },
    {
      "cell_type": "markdown",
      "source": [
        "**2.\tWrite a Python program to  Multiply all numbers in the list?**"
      ],
      "metadata": {
        "id": "_Fla9DVXvKL6"
      }
    },
    {
      "cell_type": "code",
      "source": [
        "mul = 1\n",
        "\n",
        "for i in lst:\n",
        "  mul = mul * i\n",
        "\n",
        "print(mul)\n"
      ],
      "metadata": {
        "colab": {
          "base_uri": "https://localhost:8080/"
        },
        "id": "oyguc3JovWg_",
        "outputId": "ffe8eb84-c984-409f-c2ac-4e03875ede4e"
      },
      "execution_count": 175,
      "outputs": [
        {
          "output_type": "stream",
          "name": "stdout",
          "text": [
            "21422016.0\n"
          ]
        }
      ]
    },
    {
      "cell_type": "markdown",
      "source": [
        "**3.\tWrite a Python program to find smallest number in a list?**"
      ],
      "metadata": {
        "id": "LITrgYz-v4B2"
      }
    },
    {
      "cell_type": "code",
      "source": [
        "min(lst)"
      ],
      "metadata": {
        "colab": {
          "base_uri": "https://localhost:8080/"
        },
        "id": "SX_kN9Vbv5et",
        "outputId": "27c341c9-d771-48a4-a796-062ab4359012"
      },
      "execution_count": 176,
      "outputs": [
        {
          "output_type": "execute_result",
          "data": {
            "text/plain": [
              "1"
            ]
          },
          "metadata": {},
          "execution_count": 176
        }
      ]
    },
    {
      "cell_type": "markdown",
      "source": [
        "**4.\tWrite a Python program to find largest number in a list?**"
      ],
      "metadata": {
        "id": "Y1YCtNdfv77O"
      }
    },
    {
      "cell_type": "code",
      "source": [
        "max(lst)"
      ],
      "metadata": {
        "colab": {
          "base_uri": "https://localhost:8080/"
        },
        "id": "_FupikExv-zy",
        "outputId": "831f1459-1bac-42dd-f153-47b2d290bbe8"
      },
      "execution_count": 177,
      "outputs": [
        {
          "output_type": "execute_result",
          "data": {
            "text/plain": [
              "56"
            ]
          },
          "metadata": {},
          "execution_count": 177
        }
      ]
    },
    {
      "cell_type": "markdown",
      "source": [
        "**5.\tWrite a Python program to find second largest number in a list?**"
      ],
      "metadata": {
        "id": "XH2sR8vRwBd7"
      }
    },
    {
      "cell_type": "code",
      "source": [
        "lst1 = lst\n",
        "lst1.sort()\n",
        "lst1[-2]"
      ],
      "metadata": {
        "colab": {
          "base_uri": "https://localhost:8080/"
        },
        "id": "kNpoX26EwEUE",
        "outputId": "1182179d-8915-4ff1-d4e6-784ecb6c0e51"
      },
      "execution_count": 178,
      "outputs": [
        {
          "output_type": "execute_result",
          "data": {
            "text/plain": [
              "22"
            ]
          },
          "metadata": {},
          "execution_count": 178
        }
      ]
    },
    {
      "cell_type": "markdown",
      "source": [
        "**6.\tWrite a Python program to find N largest elements from a list?**"
      ],
      "metadata": {
        "id": "EUoqtIZUwonx"
      }
    },
    {
      "cell_type": "code",
      "source": [
        "def N_largest(lst,n):\n",
        "  lst1 = lst\n",
        "  temp=[]\n",
        "  if len(lst1)>=n and n>0:\n",
        "    lst1.sort()\n",
        "    for i in range(n):\n",
        "      temp.append(lst1[i])\n",
        "    return temp\n",
        "\n",
        "  else:\n",
        "    return \"Enter correct value of N\"\n"
      ],
      "metadata": {
        "id": "7JGyACfywpyl"
      },
      "execution_count": 179,
      "outputs": []
    },
    {
      "cell_type": "code",
      "source": [
        "N_largest(lst,2)"
      ],
      "metadata": {
        "colab": {
          "base_uri": "https://localhost:8080/"
        },
        "id": "NAmMU2SFxnS8",
        "outputId": "fad54ffb-31d3-4827-e269-7f1ccad81ec3"
      },
      "execution_count": 180,
      "outputs": [
        {
          "output_type": "execute_result",
          "data": {
            "text/plain": [
              "[1, 2]"
            ]
          },
          "metadata": {},
          "execution_count": 180
        }
      ]
    },
    {
      "cell_type": "code",
      "source": [
        "N_largest(lst,10)"
      ],
      "metadata": {
        "colab": {
          "base_uri": "https://localhost:8080/"
        },
        "id": "hOMDQjw3xwbp",
        "outputId": "025917d4-b7ac-4e5b-beb7-1ccfd18b98de"
      },
      "execution_count": 181,
      "outputs": [
        {
          "output_type": "execute_result",
          "data": {
            "text/plain": [
              "[1, 2, 2.3, 3, 3.5, 5, 8, 9, 22, 56]"
            ]
          },
          "metadata": {},
          "execution_count": 181
        }
      ]
    },
    {
      "cell_type": "code",
      "source": [
        "N_largest(lst,11)"
      ],
      "metadata": {
        "colab": {
          "base_uri": "https://localhost:8080/",
          "height": 35
        },
        "id": "UEOQOsuQxyYe",
        "outputId": "a0250959-e077-4812-adb2-6d164528ba8f"
      },
      "execution_count": 182,
      "outputs": [
        {
          "output_type": "execute_result",
          "data": {
            "application/vnd.google.colaboratory.intrinsic+json": {
              "type": "string"
            },
            "text/plain": [
              "'Enter correct value of N'"
            ]
          },
          "metadata": {},
          "execution_count": 182
        }
      ]
    },
    {
      "cell_type": "markdown",
      "source": [
        "**7.\tWrite a Python program to print even numbers in a list?**"
      ],
      "metadata": {
        "id": "sx3zOWdEx66U"
      }
    },
    {
      "cell_type": "code",
      "source": [
        "temp=[]\n",
        "for num in lst:\n",
        "  if type(num)==int:\n",
        "    if num%2 ==0:\n",
        "      temp.append(num)\n",
        "print(\"Even numbers in list are: \",temp)"
      ],
      "metadata": {
        "colab": {
          "base_uri": "https://localhost:8080/"
        },
        "id": "jmz4_SLSyAqO",
        "outputId": "ca5dff49-6440-4d78-9819-384faebcd66c"
      },
      "execution_count": 183,
      "outputs": [
        {
          "output_type": "stream",
          "name": "stdout",
          "text": [
            "Even numbers in list are:  [2, 8, 22, 56]\n"
          ]
        }
      ]
    },
    {
      "cell_type": "markdown",
      "source": [
        "**8.\tWrite a Python program to print odd numbers in a List?**"
      ],
      "metadata": {
        "id": "8E_wDigFzLHw"
      }
    },
    {
      "cell_type": "code",
      "source": [
        "temp=[]\n",
        "for num in lst:\n",
        "  if type(num)==int:\n",
        "    if num%3 ==0:\n",
        "      temp.append(num)\n",
        "print(\"Odd numbers in list are: \",temp)"
      ],
      "metadata": {
        "colab": {
          "base_uri": "https://localhost:8080/"
        },
        "id": "_-ZfTOmfzPvt",
        "outputId": "3517e113-68b0-46d9-e39a-4fad6ffa3d2a"
      },
      "execution_count": 184,
      "outputs": [
        {
          "output_type": "stream",
          "name": "stdout",
          "text": [
            "Odd numbers in list are:  [3, 9]\n"
          ]
        }
      ]
    },
    {
      "cell_type": "markdown",
      "source": [
        "**9.\tWrite a Python program to Remove empty List from List?**"
      ],
      "metadata": {
        "id": "NG1cJeNvzlrq"
      }
    },
    {
      "cell_type": "code",
      "source": [
        "lst=[1,\"a\",22,[],2,33,[1,2,3],[],\"123\",[\"abc\"]]\n",
        "\n",
        "flag=True\n",
        "while(flag):\n",
        "  if [] in lst:\n",
        "    i=0\n",
        "    while(i<len(lst)):\n",
        "      if ((type(lst[i]) == list) and (not bool(lst[i]))):\n",
        "        lst.remove(lst[i])\n",
        "        break\n",
        "      i+=1\n",
        "  else:\n",
        "    flag=False\n",
        "\n",
        "\n",
        "\n",
        "print(\"After removal of blank list : \",lst)\n"
      ],
      "metadata": {
        "colab": {
          "base_uri": "https://localhost:8080/"
        },
        "id": "U4srIdlIzpY6",
        "outputId": "2c500174-c05a-4c45-c72b-9921835efb60"
      },
      "execution_count": 185,
      "outputs": [
        {
          "output_type": "stream",
          "name": "stdout",
          "text": [
            "After removal of blank list :  [1, 'a', 22, 2, 33, [1, 2, 3], '123', ['abc']]\n"
          ]
        }
      ]
    },
    {
      "cell_type": "markdown",
      "source": [
        "**10.\tWrite a Python program to Cloning or Copying a list?**"
      ],
      "metadata": {
        "id": "E2biVafp5N_E"
      }
    },
    {
      "cell_type": "code",
      "source": [
        "\n",
        "##Method1\n",
        "l1 = [1,2,[3,4,22,55,1,[3,4]],3,4,\"abc\"]\n",
        "l1_1 = l1\n",
        "\n",
        "l1 == l1_1"
      ],
      "metadata": {
        "colab": {
          "base_uri": "https://localhost:8080/"
        },
        "id": "U9Ow2yu35SAT",
        "outputId": "b19607e6-69c8-4a30-bd52-a43a1868a231"
      },
      "execution_count": 186,
      "outputs": [
        {
          "output_type": "execute_result",
          "data": {
            "text/plain": [
              "True"
            ]
          },
          "metadata": {},
          "execution_count": 186
        }
      ]
    },
    {
      "cell_type": "code",
      "source": [
        "##Method2 -shallow copy\n",
        "import copy\n",
        "l2 = [1,2,[3,4,22,55,1,[3,4]],3,4,\"abc\"]\n",
        "l2_2 = copy.copy(l2)\n",
        "\n",
        "l2 == l2_2"
      ],
      "metadata": {
        "colab": {
          "base_uri": "https://localhost:8080/"
        },
        "id": "8E4UYt709WIQ",
        "outputId": "b4610ca8-2e9b-4ace-b12a-2ef3171851c4"
      },
      "execution_count": 187,
      "outputs": [
        {
          "output_type": "execute_result",
          "data": {
            "text/plain": [
              "True"
            ]
          },
          "metadata": {},
          "execution_count": 187
        }
      ]
    },
    {
      "cell_type": "code",
      "source": [
        "##Method3 - Deep Copy\n",
        "l3 =[1,2,[3,4,22,55,1,[3,4]],3,4,\"abc\"]\n",
        "l3_3 = copy.deepcopy(l3)\n",
        "\n",
        "l3==l3_3"
      ],
      "metadata": {
        "colab": {
          "base_uri": "https://localhost:8080/"
        },
        "id": "XMzc-fLY9pFR",
        "outputId": "4ed25fbb-70f2-42ec-d2b0-25d851d624e8"
      },
      "execution_count": 188,
      "outputs": [
        {
          "output_type": "execute_result",
          "data": {
            "text/plain": [
              "True"
            ]
          },
          "metadata": {},
          "execution_count": 188
        }
      ]
    },
    {
      "cell_type": "markdown",
      "source": [
        "Differences of the above three methods:"
      ],
      "metadata": {
        "id": "Bg-T5nOP_keT"
      }
    },
    {
      "cell_type": "code",
      "source": [
        "l1[2][5][0] =66\n",
        "l1.append([2,4])\n",
        "print(l1)\n",
        "print(l1_1)\n",
        "print(l1==l1_1)"
      ],
      "metadata": {
        "colab": {
          "base_uri": "https://localhost:8080/"
        },
        "id": "Br_GoHUC9zYn",
        "outputId": "3dcf2875-54ca-4115-d1fd-499b6e15148c"
      },
      "execution_count": 189,
      "outputs": [
        {
          "output_type": "stream",
          "name": "stdout",
          "text": [
            "[1, 2, [3, 4, 22, 55, 1, [66, 4]], 3, 4, 'abc', [2, 4]]\n",
            "[1, 2, [3, 4, 22, 55, 1, [66, 4]], 3, 4, 'abc', [2, 4]]\n",
            "True\n"
          ]
        }
      ]
    },
    {
      "cell_type": "code",
      "source": [
        "l2[2][5][0] =66\n",
        "l2.append([2,4])\n",
        "print(l2)\n",
        "print(l2_2)\n",
        "print(l2==l2_2)"
      ],
      "metadata": {
        "colab": {
          "base_uri": "https://localhost:8080/"
        },
        "id": "01K3LUh_-FUJ",
        "outputId": "2a9b3821-b811-40ad-9667-bfe666dd263f"
      },
      "execution_count": 190,
      "outputs": [
        {
          "output_type": "stream",
          "name": "stdout",
          "text": [
            "[1, 2, [3, 4, 22, 55, 1, [66, 4]], 3, 4, 'abc', [2, 4]]\n",
            "[1, 2, [3, 4, 22, 55, 1, [66, 4]], 3, 4, 'abc']\n",
            "False\n"
          ]
        }
      ]
    },
    {
      "cell_type": "code",
      "source": [
        "l3[2][5][0] =66\n",
        "l3.append([2,4])\n",
        "print(l3)\n",
        "print(l3_3)\n",
        "print(l3==l3_3)"
      ],
      "metadata": {
        "colab": {
          "base_uri": "https://localhost:8080/"
        },
        "id": "bBnmn4OJ-3WF",
        "outputId": "d07be7e2-3ca1-49bb-e2cb-0e23401b6886"
      },
      "execution_count": 191,
      "outputs": [
        {
          "output_type": "stream",
          "name": "stdout",
          "text": [
            "[1, 2, [3, 4, 22, 55, 1, [66, 4]], 3, 4, 'abc', [2, 4]]\n",
            "[1, 2, [3, 4, 22, 55, 1, [3, 4]], 3, 4, 'abc']\n",
            "False\n"
          ]
        }
      ]
    },
    {
      "cell_type": "markdown",
      "source": [
        "**11.\tWrite a Python program to Count occurrences of an element in a list?**"
      ],
      "metadata": {
        "id": "EuiETi5S_faq"
      }
    },
    {
      "cell_type": "code",
      "source": [
        "lst=[1,2,1,2,12,55,25,22,55,22,55,1,12,53,63,\"aa\",\"aa\",\"a\",\"ff\"]\n",
        "\n",
        "elem =23\n",
        "lst.count(elem)"
      ],
      "metadata": {
        "colab": {
          "base_uri": "https://localhost:8080/"
        },
        "id": "7xZk0zmy_qcJ",
        "outputId": "abf241ba-929c-4ce6-aaaa-20c76ac4144b"
      },
      "execution_count": 192,
      "outputs": [
        {
          "output_type": "execute_result",
          "data": {
            "text/plain": [
              "0"
            ]
          },
          "metadata": {},
          "execution_count": 192
        }
      ]
    },
    {
      "cell_type": "code",
      "source": [
        "elem =2\n",
        "lst.count(elem)"
      ],
      "metadata": {
        "colab": {
          "base_uri": "https://localhost:8080/"
        },
        "id": "WUATDrO1AFfK",
        "outputId": "d5fe5eb5-5a6f-4c85-a406-b560d0f490b8"
      },
      "execution_count": 193,
      "outputs": [
        {
          "output_type": "execute_result",
          "data": {
            "text/plain": [
              "2"
            ]
          },
          "metadata": {},
          "execution_count": 193
        }
      ]
    },
    {
      "cell_type": "code",
      "source": [
        "elem =\"aa\"\n",
        "lst.count(elem)"
      ],
      "metadata": {
        "colab": {
          "base_uri": "https://localhost:8080/"
        },
        "id": "CJq4o0jBAG6G",
        "outputId": "16f10025-8c2d-463b-bf85-94481c94ef70"
      },
      "execution_count": 194,
      "outputs": [
        {
          "output_type": "execute_result",
          "data": {
            "text/plain": [
              "2"
            ]
          },
          "metadata": {},
          "execution_count": 194
        }
      ]
    },
    {
      "cell_type": "code",
      "source": [
        "elem =\"an\"\n",
        "lst.count(elem)"
      ],
      "metadata": {
        "colab": {
          "base_uri": "https://localhost:8080/"
        },
        "id": "eOBDldV7AIz7",
        "outputId": "f85a5ce1-b25e-46a0-c220-9319b9c4baab"
      },
      "execution_count": 195,
      "outputs": [
        {
          "output_type": "execute_result",
          "data": {
            "text/plain": [
              "0"
            ]
          },
          "metadata": {},
          "execution_count": 195
        }
      ]
    }
  ]
}