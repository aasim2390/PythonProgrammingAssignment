{
  "nbformat": 4,
  "nbformat_minor": 0,
  "metadata": {
    "colab": {
      "name": "12_PythonBasicProgram_dict.ipynb",
      "provenance": [],
      "collapsed_sections": []
    },
    "kernelspec": {
      "name": "python3",
      "display_name": "Python 3"
    },
    "language_info": {
      "name": "python"
    }
  },
  "cells": [
    {
      "cell_type": "markdown",
      "source": [
        "###Python Basic Programming Assignment 12"
      ],
      "metadata": {
        "id": "BBSJ3RVSnWjN"
      }
    },
    {
      "cell_type": "markdown",
      "source": [
        "**1.\tWrite a Python program to Extract Unique values dictionary values?**"
      ],
      "metadata": {
        "id": "UdbObyTnAFeo"
      }
    },
    {
      "cell_type": "markdown",
      "source": [
        "Sometimes, while working with data, we can have problem in which we need to perform the extraction of only unique values from dictionary values list. This can have application in many domains such as web development."
      ],
      "metadata": {
        "id": "YaNoOvj6AVei"
      }
    },
    {
      "cell_type": "code",
      "source": [
        "def uniqueValues(dict1):\n",
        "  if type(dict1)!=dict:\n",
        "    return None\n",
        "  s=set()\n",
        "  \n",
        "  l1=list()\n",
        "  for item in dict1.values():\n",
        "    if type(item)==list:\n",
        "      l1.extend(item)\n",
        "    if type(item)==int or type(item)==float:\n",
        "      l1.append(item)\n",
        "    if type(item)==str:\n",
        "      l1.append(item)\n",
        "    if type(item)==tuple:\n",
        "      l1.append(item)\n",
        "    if type(item)==dict:\n",
        "      pass #dict is not hashable\n",
        "  return set(l1)"
      ],
      "metadata": {
        "id": "3li8nwc0CrR-"
      },
      "execution_count": 64,
      "outputs": []
    },
    {
      "cell_type": "code",
      "source": [
        "# initializing dictionary\n",
        "dict1 = {'abc' : [5, 6, 7, 8],\n",
        "             'def' : [10, 11, 7, 5],\n",
        "             'best' : [6, 12, 10, 8],\n",
        "             'for' : [1, 2, 5],\n",
        "              'a' : 11,\n",
        "              'b' : \"12\",\n",
        "              'c' : {1:\"123\",2:\"123\"}, \n",
        "              'd' : (1,2),\n",
        "              'e' : \"12\",\n",
        "              'f' : \"13\"\n",
        "         }"
      ],
      "metadata": {
        "id": "DJOhtuWKAWzR"
      },
      "execution_count": 65,
      "outputs": []
    },
    {
      "cell_type": "code",
      "source": [
        "uniqueValues(dict1)"
      ],
      "metadata": {
        "colab": {
          "base_uri": "https://localhost:8080/"
        },
        "id": "aIWyYgHjEWya",
        "outputId": "a7f12bdb-73b8-44af-f6f3-e7d2abd485cb"
      },
      "execution_count": 66,
      "outputs": [
        {
          "output_type": "execute_result",
          "data": {
            "text/plain": [
              "{(1, 2), 1, 10, 11, 12, '12', '13', 2, 5, 6, 7, 8}"
            ]
          },
          "metadata": {},
          "execution_count": 66
        }
      ]
    },
    {
      "cell_type": "markdown",
      "source": [
        "**2.\tWrite a Python program to find the sum of all items in a dictionary?**"
      ],
      "metadata": {
        "id": "njGSCRDBEzEO"
      }
    },
    {
      "cell_type": "markdown",
      "source": [
        "Given a dictionary in Python, write a Python program to find the sum of all Items in the dictionary."
      ],
      "metadata": {
        "id": "SzY_TJSzFabO"
      }
    },
    {
      "cell_type": "code",
      "source": [
        "def sumValues(dict1):\n",
        "  if type(dict1)!=dict:\n",
        "    return None\n",
        "  s=0\n",
        "  for item in dict1.values():\n",
        "    if type(item)==int or type(item)==float:\n",
        "      s=s+item\n",
        "  return s"
      ],
      "metadata": {
        "id": "s8XBAF7LGLXg"
      },
      "execution_count": 72,
      "outputs": []
    },
    {
      "cell_type": "code",
      "source": [
        "\n",
        "dict1 = {'abc' : 5,\n",
        "             'def' : 10,\n",
        "             'best' : 6.5,\n",
        "             'for' : [1, 2, 5],\n",
        "              'a' : 11,\n",
        "              'b' : \"12\",\n",
        "              'c' : {1:\"123\",2:\"123\"}, \n",
        "              'd' : (1,2),\n",
        "              'e' : \"12\",\n",
        "              'f' : \"13\"\n",
        "         }"
      ],
      "metadata": {
        "id": "stJxeGgfFgw9"
      },
      "execution_count": 73,
      "outputs": []
    },
    {
      "cell_type": "code",
      "source": [
        "sumValues(dict1)"
      ],
      "metadata": {
        "colab": {
          "base_uri": "https://localhost:8080/"
        },
        "id": "IoAURiiGGaHf",
        "outputId": "bdfd3578-f4a5-496d-82c1-de609cf0d246"
      },
      "execution_count": 74,
      "outputs": [
        {
          "output_type": "execute_result",
          "data": {
            "text/plain": [
              "32.5"
            ]
          },
          "metadata": {},
          "execution_count": 74
        }
      ]
    },
    {
      "cell_type": "markdown",
      "source": [
        "**3.\tWrite a Python program to Merging two Dictionaries?**"
      ],
      "metadata": {
        "id": "p0IemCleGorV"
      }
    },
    {
      "cell_type": "code",
      "source": [
        "def mergeDict(d1,d2):\n",
        "  if type(d1)!=dict and type(d2)!=dict:\n",
        "    return None\n",
        "  d3 = d2.copy()\n",
        "  d3.update(d1)\n",
        "\n",
        "  return d3"
      ],
      "metadata": {
        "id": "tke09BCUHTLG"
      },
      "execution_count": 85,
      "outputs": []
    },
    {
      "cell_type": "code",
      "source": [
        "dict2 = {1:\"abc\",\n",
        "         2:\"def\",\n",
        "         3:\"aaa\",\n",
        "         4:\"bbb\"\n",
        "         }"
      ],
      "metadata": {
        "id": "xnjQxJVaHAFK"
      },
      "execution_count": 86,
      "outputs": []
    },
    {
      "cell_type": "code",
      "source": [
        "dict1 = {'abc' : 5,\n",
        "             'def' : 10,\n",
        "             'best' : 6.5,\n",
        "             'for' : [1, 2, 5],\n",
        "              'a' : 11,\n",
        "              'b' : \"12\",\n",
        "              'c' : {1:\"123\",2:\"123\"}, \n",
        "              'd' : (1,2),\n",
        "              'e' : \"12\",\n",
        "              'f' : \"13\"\n",
        "         }"
      ],
      "metadata": {
        "id": "iTVKtbRGG_Vb"
      },
      "execution_count": 87,
      "outputs": []
    },
    {
      "cell_type": "code",
      "source": [
        "mergeDict(dict1,dict2)"
      ],
      "metadata": {
        "colab": {
          "base_uri": "https://localhost:8080/"
        },
        "id": "hJs5gZloHjwq",
        "outputId": "a891faa8-3bfe-4a56-bee5-2c0a20e105ba"
      },
      "execution_count": 88,
      "outputs": [
        {
          "output_type": "execute_result",
          "data": {
            "text/plain": [
              "{1: 'abc',\n",
              " 2: 'def',\n",
              " 3: 'aaa',\n",
              " 4: 'bbb',\n",
              " 'a': 11,\n",
              " 'abc': 5,\n",
              " 'b': '12',\n",
              " 'best': 6.5,\n",
              " 'c': {1: '123', 2: '123'},\n",
              " 'd': (1, 2),\n",
              " 'def': 10,\n",
              " 'e': '12',\n",
              " 'f': '13',\n",
              " 'for': [1, 2, 5]}"
            ]
          },
          "metadata": {},
          "execution_count": 88
        }
      ]
    },
    {
      "cell_type": "markdown",
      "source": [
        "**4.\tWrite a Python program to convert key-values list to flat dictionary?**"
      ],
      "metadata": {
        "id": "LvVG3us7IDIT"
      }
    },
    {
      "cell_type": "markdown",
      "source": [
        "Sometimes, while working with Python dictionaries, we can have a problem in which we need to flatten dictionary of key-value pair pairing the equal index elements together. This can have utilities in web development and Data Science domain."
      ],
      "metadata": {
        "id": "hYl-aG3QIQ8I"
      }
    },
    {
      "cell_type": "code",
      "source": [
        "# initializing dictionary\n",
        "test_dict = {'month' : [1, 2, 3],\n",
        "             'name' : ['Jan', 'Feb', 'March']}\n",
        "  \n",
        "# printing original dictionary\n",
        "print(\"The original dictionary is : \" + str(test_dict))\n"
      ],
      "metadata": {
        "colab": {
          "base_uri": "https://localhost:8080/"
        },
        "id": "sYQz46MDIHLN",
        "outputId": "b925e9eb-dc91-4198-b3fd-36d8343c6ced"
      },
      "execution_count": 103,
      "outputs": [
        {
          "output_type": "stream",
          "name": "stdout",
          "text": [
            "The original dictionary is : {'month': [1, 2, 3], 'name': ['Jan', 'Feb', 'March']}\n"
          ]
        }
      ]
    },
    {
      "cell_type": "code",
      "source": [
        "list(zip(test_dict['month'], test_dict['name']))"
      ],
      "metadata": {
        "colab": {
          "base_uri": "https://localhost:8080/"
        },
        "id": "rZ51M5yLJD96",
        "outputId": "30d0c421-da5e-437c-a5d3-d523ff5adbbd"
      },
      "execution_count": 104,
      "outputs": [
        {
          "output_type": "execute_result",
          "data": {
            "text/plain": [
              "[(1, 'Jan'), (2, 'Feb'), (3, 'March')]"
            ]
          },
          "metadata": {},
          "execution_count": 104
        }
      ]
    },
    {
      "cell_type": "code",
      "source": [
        "# Convert key-values list to flat dictionary\n",
        "# Using dict() + zip()\n",
        "res = dict(zip(test_dict['month'], test_dict['name']))\n",
        "  \n",
        "# printing result \n",
        "print(\"Flattened dictionary : \" + str(res)) "
      ],
      "metadata": {
        "colab": {
          "base_uri": "https://localhost:8080/"
        },
        "id": "oU0bLJ3hJAbX",
        "outputId": "2be70e06-6c80-4b5d-ca09-17df3d6ae1f0"
      },
      "execution_count": 105,
      "outputs": [
        {
          "output_type": "stream",
          "name": "stdout",
          "text": [
            "Flattened dictionary : {1: 'Jan', 2: 'Feb', 3: 'March'}\n"
          ]
        }
      ]
    },
    {
      "cell_type": "markdown",
      "source": [
        "**5.\tWrite a Python program to insertion at the beginning in OrderedDict?**"
      ],
      "metadata": {
        "id": "9QoltNXYKX9n"
      }
    },
    {
      "cell_type": "markdown",
      "source": [
        "Input: original_dict = {1: 'a', 2: 'b', 3:'c'} item to be inserted (4, 'd')\n",
        "\n",
        "\n",
        "\n",
        "Output: {4: 'd', 1: 'a', 2: 'b', 3: 'c'}"
      ],
      "metadata": {
        "id": "ya9rMeEYK9sY"
      }
    },
    {
      "cell_type": "markdown",
      "source": [
        "An OrderedDict is a dictionary subclass that remembers the order that keys were first inserted. The only difference between dict() and OrderedDict() is that:\n",
        "\n",
        "OrderedDict preserves the order in which the keys are inserted. A regular dict doesn’t track the insertion order, and iterating it gives the values in an arbitrary order. By contrast, the order the items are inserted is remembered by OrderedDict."
      ],
      "metadata": {
        "id": "cs70WnPOMF0A"
      }
    },
    {
      "cell_type": "code",
      "source": [
        "###First understand difference between dict and orderedDict\n",
        "import collections\n",
        "\n",
        "print('dict       :')\n",
        "d1 = {}\n",
        "d1['a'] = 'A'\n",
        "d1['b'] = 'B'\n",
        "d1['c'] = 'C'\n",
        "d1['d'] = 'D'\n",
        "d1['e'] = 'E'\n",
        "\n",
        "d2 = {}\n",
        "d2['e'] = 'E'\n",
        "d2['d'] = 'D'\n",
        "d2['c'] = 'C'\n",
        "d2['b'] = 'B'\n",
        "d2['a'] = 'A'\n",
        "\n",
        "print(d1 == d2)\n",
        "print(\"-\"*25)\n",
        "print('OrderedDict:')\n",
        "\n",
        "d1 = collections.OrderedDict()\n",
        "d1['a'] = 'A'\n",
        "d1['b'] = 'B'\n",
        "d1['c'] = 'C'\n",
        "d1['d'] = 'D'\n",
        "d1['e'] = 'E'\n",
        "\n",
        "d2 = collections.OrderedDict()\n",
        "d2['e'] = 'E'\n",
        "d2['d'] = 'D'\n",
        "d2['c'] = 'C'\n",
        "d2['b'] = 'B'\n",
        "d2['a'] = 'A'\n",
        "\n",
        "print(d1 == d2)"
      ],
      "metadata": {
        "colab": {
          "base_uri": "https://localhost:8080/"
        },
        "id": "uUbpzzSbK_Ry",
        "outputId": "47999001-bd4a-4075-b316-8e972a795471"
      },
      "execution_count": 121,
      "outputs": [
        {
          "output_type": "stream",
          "name": "stdout",
          "text": [
            "dict       :\n",
            "True\n",
            "-------------------------\n",
            "OrderedDict:\n",
            "False\n"
          ]
        }
      ]
    },
    {
      "cell_type": "markdown",
      "source": [
        "In this case, since the two ordered dictionaries are created from values in a different order, they are considered to be different."
      ],
      "metadata": {
        "id": "uxK2CgtKNzqT"
      }
    },
    {
      "cell_type": "code",
      "source": [
        "from collections import OrderedDict  \n",
        "dic1 = OrderedDict([(1, 'a'), (2, 'b'), (3, 'c')])\n",
        "\n",
        "dic1.update({4: 'd'})\n",
        "print(dic1)\n",
        "\n",
        "dic1.move_to_end(4, last=False)\n",
        "  \n",
        "\n",
        "print (\"Resultant Dictionary :\")\n",
        "print(dic1)\n"
      ],
      "metadata": {
        "colab": {
          "base_uri": "https://localhost:8080/"
        },
        "id": "FF0qfxIuOmnH",
        "outputId": "11ad364a-c3ca-459f-fff5-d4bc47d94bab"
      },
      "execution_count": 123,
      "outputs": [
        {
          "output_type": "stream",
          "name": "stdout",
          "text": [
            "OrderedDict([(1, 'a'), (2, 'b'), (3, 'c'), (4, 'd')])\n",
            "Resultant Dictionary :\n",
            "OrderedDict([(4, 'd'), (1, 'a'), (2, 'b'), (3, 'c')])\n"
          ]
        }
      ]
    },
    {
      "cell_type": "markdown",
      "source": [
        "The item which has to be inserted at the beginning is first added in the dictionary using update() then it is shifted to the beginning using the move_to_end() where the position is given as last=False."
      ],
      "metadata": {
        "id": "91mJZ6e8OnDw"
      }
    },
    {
      "cell_type": "markdown",
      "source": [
        "**6.\tWrite a Python program to check order of character in string using OrderedDict()?**"
      ],
      "metadata": {
        "id": "0m5FpYiAPKnr"
      }
    },
    {
      "cell_type": "markdown",
      "source": [
        "Input: \n",
        "string = \"engineers rock\"\n",
        "pattern = \"er\";\n",
        "Output: true\n",
        "Explanation: \n",
        "All 'e' in the input string are before all 'r'.\n",
        "\n",
        "Input: \n",
        "string = \"engineers rock\"\n",
        "pattern = \"egr\";\n",
        "Output: false\n",
        "Explanation: \n",
        "There are two 'e' after 'g' in the input string.\n",
        "\n",
        "Input: \n",
        "string = \"engineers rock\"\n",
        "pattern = \"gsr\";\n",
        "Output: false\n",
        "Explanation:\n",
        "There are one 'r' before 's' in the input string."
      ],
      "metadata": {
        "id": "akaHWwKPQibC"
      }
    },
    {
      "cell_type": "code",
      "source": [
        "s = \"engineers rock\"\n",
        "p = \"er\"\n",
        "dict1 = OrderedDict.fromkeys(s)  #convert the string into ordered dict"
      ],
      "metadata": {
        "id": "TYlE47rhQnTk"
      },
      "execution_count": 172,
      "outputs": []
    },
    {
      "cell_type": "code",
      "source": [
        "dict1"
      ],
      "metadata": {
        "colab": {
          "base_uri": "https://localhost:8080/"
        },
        "id": "TbD-DntIQ9en",
        "outputId": "fafde38f-8cdc-4658-a301-3575bb6cca33"
      },
      "execution_count": 173,
      "outputs": [
        {
          "output_type": "execute_result",
          "data": {
            "text/plain": [
              "OrderedDict([('e', None),\n",
              "             ('n', None),\n",
              "             ('g', None),\n",
              "             ('i', None),\n",
              "             ('r', None),\n",
              "             ('s', None),\n",
              "             (' ', None),\n",
              "             ('o', None),\n",
              "             ('c', None),\n",
              "             ('k', None)])"
            ]
          },
          "metadata": {},
          "execution_count": 173
        }
      ]
    },
    {
      "cell_type": "code",
      "source": [
        "matchCount = 0\n",
        "for key,value in dict1.items(): \n",
        "  print(key,value)\n",
        "  if (key == p[matchCount]): #matches the pattern as per given sequence\n",
        "    print(\"match \", key,\" : \",p[matchCount]) \n",
        "    matchCount = matchCount + 1\n",
        "  #print(\"len of pattern\",len(p),i)\n",
        "  if len(p)<=matchCount:\n",
        "    break\n",
        "print(\"*\"*25)\n",
        "if matchCount == len(p): #if counts equal means pattern found \n",
        "  print(\"Pattern Match\")\n",
        "else:\n",
        "  print(\"Pattern Not Match\") \n",
        "print(\"*\"*25)\n",
        "\n",
        "          "
      ],
      "metadata": {
        "colab": {
          "base_uri": "https://localhost:8080/"
        },
        "id": "t4PQgOg9Se-b",
        "outputId": "4b45d50b-e175-44b5-b545-ea38413f3846"
      },
      "execution_count": 174,
      "outputs": [
        {
          "output_type": "stream",
          "name": "stdout",
          "text": [
            "e None\n",
            "match  e  :  e\n",
            "n None\n",
            "g None\n",
            "i None\n",
            "r None\n",
            "match  r  :  r\n",
            "*************************\n",
            "Pattern Match\n",
            "*************************\n"
          ]
        }
      ]
    },
    {
      "cell_type": "markdown",
      "source": [
        "**7.\tWrite a Python program to sort Python Dictionaries by Key or Value?**"
      ],
      "metadata": {
        "id": "ss2VC0CxVzRo"
      }
    },
    {
      "cell_type": "code",
      "source": [
        "# function calling\n",
        "def sortDictbyKey():\n",
        "  # Declaring the hash function\t\n",
        "  key_value ={}\n",
        "\n",
        "  # Initialize value\n",
        "  key_value[2] = 56\t\n",
        "  key_value[1] = 2 \n",
        "  key_value[5] = 12\n",
        "  key_value[4] = 24\n",
        "  key_value[6] = 18\t\n",
        "  key_value[3] = 323\n",
        "  \n",
        "  print(\"dict = \",key_value)\n",
        "  print(\"keys in sorted order by calling sorted() : \",sorted(key_value),\"\\n\")\n",
        "\n",
        "  print (\"\\nKeys and Values sorted in\",\"alphabetical order by the key \")\n",
        " \n",
        "\n",
        "  # sorted(key_value) returns an iterator over the\n",
        "  # Dictionary’s value sorted in keys.\n",
        "  for i in sorted (key_value) :\n",
        "\t  print ((i, key_value[i]), end =\" \")   #Arranging in sorted order\n",
        "\n"
      ],
      "metadata": {
        "id": "XdNBryU-Wo1Q"
      },
      "execution_count": 188,
      "outputs": []
    },
    {
      "cell_type": "code",
      "source": [
        "sortDictbyKey()"
      ],
      "metadata": {
        "colab": {
          "base_uri": "https://localhost:8080/"
        },
        "id": "TaMuy_oyW65z",
        "outputId": "b1d0c9d8-18fb-4688-fbc1-69fda65a2238"
      },
      "execution_count": 189,
      "outputs": [
        {
          "output_type": "stream",
          "name": "stdout",
          "text": [
            "dict =  {2: 56, 1: 2, 5: 12, 4: 24, 6: 18, 3: 323}\n",
            "keys in sorted order by calling sorted() :  [1, 2, 3, 4, 5, 6] \n",
            "\n",
            "\n",
            "Keys and Values sorted in alphabetical order by the key \n",
            "(1, 2) (2, 56) (3, 323) (4, 24) (5, 12) (6, 18) "
          ]
        }
      ]
    },
    {
      "cell_type": "code",
      "source": [
        "# Function calling\n",
        "def sortDictbyVal():\n",
        "  # Declaring hash function\t\n",
        "  key_value ={}\n",
        "  \n",
        "  # Initializing the value\n",
        "  key_value[2] = 56\t\n",
        "  key_value[1] = 2\n",
        "  key_value[5] = 12\n",
        "  key_value[4] = 24\n",
        "  key_value[6] = 18\t\n",
        "  key_value[3] = 323\n",
        "  \n",
        "  print(\"Dict = \",key_value)\n",
        "  print(\"\\nKey Sorted dict = \", sorted(key_value.items())) #this will sort based on key values\n",
        "  \n",
        "  print(\"-\"*30)\n",
        "\n",
        "  print(\"Value Sorted dict = \",sorted(key_value.items(), key =lambda kv:(kv[1])))  #By adding key argument, we are calling lambda function to consider value as parameter to consider for sorting\n",
        "\n"
      ],
      "metadata": {
        "id": "HW9395TyYSD_"
      },
      "execution_count": 212,
      "outputs": []
    },
    {
      "cell_type": "code",
      "source": [
        "sortDictbyVal()"
      ],
      "metadata": {
        "colab": {
          "base_uri": "https://localhost:8080/"
        },
        "id": "IG7KSHRlYSAl",
        "outputId": "2c2a4e86-3418-4f42-b9a9-46cbf1aee464"
      },
      "execution_count": 213,
      "outputs": [
        {
          "output_type": "stream",
          "name": "stdout",
          "text": [
            "Dict =  {2: 56, 1: 2, 5: 12, 4: 24, 6: 18, 3: 323}\n",
            "\n",
            "Key Sorted dict =  [(1, 2), (2, 56), (3, 323), (4, 24), (5, 12), (6, 18)]\n",
            "------------------------------\n",
            "Value Sorted dict =  [(1, 2), (5, 12), (6, 18), (4, 24), (2, 56), (3, 323)]\n"
          ]
        }
      ]
    },
    {
      "cell_type": "markdown",
      "source": [
        "####For Notes:"
      ],
      "metadata": {
        "id": "8al5MGEhcq9d"
      }
    },
    {
      "cell_type": "code",
      "source": [
        "l1=[1,2,3]\n",
        "l2=[7,8,9]\n",
        "\n",
        "list(zip(l1,l2))"
      ],
      "metadata": {
        "colab": {
          "base_uri": "https://localhost:8080/"
        },
        "id": "iA6DhKbPa5Ti",
        "outputId": "317a4883-6a97-4b59-dbd9-102e0c552b16"
      },
      "execution_count": 224,
      "outputs": [
        {
          "output_type": "execute_result",
          "data": {
            "text/plain": [
              "[(1, 7), (2, 8), (3, 9)]"
            ]
          },
          "metadata": {},
          "execution_count": 224
        }
      ]
    },
    {
      "cell_type": "code",
      "source": [
        "d=dict(zip(l1,l2))\n",
        "d"
      ],
      "metadata": {
        "colab": {
          "base_uri": "https://localhost:8080/"
        },
        "id": "Zr0Fj73Qcymn",
        "outputId": "f5e008bd-9f35-4b5f-ef08-c698e4f9a26c"
      },
      "execution_count": 225,
      "outputs": [
        {
          "output_type": "execute_result",
          "data": {
            "text/plain": [
              "{1: 7, 2: 8, 3: 9}"
            ]
          },
          "metadata": {},
          "execution_count": 225
        }
      ]
    },
    {
      "cell_type": "code",
      "source": [
        "l3=((1, 7),)\n",
        "d=dict(l3)\n",
        "d"
      ],
      "metadata": {
        "colab": {
          "base_uri": "https://localhost:8080/"
        },
        "id": "lptLCjsJbPNX",
        "outputId": "1de07699-9543-49a4-a090-db6aea1808a5"
      },
      "execution_count": 226,
      "outputs": [
        {
          "output_type": "execute_result",
          "data": {
            "text/plain": [
              "{1: 7}"
            ]
          },
          "metadata": {},
          "execution_count": 226
        }
      ]
    },
    {
      "cell_type": "code",
      "source": [
        "l3=[(1, 7),(2,10)]\n",
        "d=dict(l3)\n",
        "d"
      ],
      "metadata": {
        "colab": {
          "base_uri": "https://localhost:8080/"
        },
        "id": "oHR64-LTc5qs",
        "outputId": "288a4c48-9789-4d32-f32b-c9a3ecbc4631"
      },
      "execution_count": 227,
      "outputs": [
        {
          "output_type": "execute_result",
          "data": {
            "text/plain": [
              "{1: 7, 2: 10}"
            ]
          },
          "metadata": {},
          "execution_count": 227
        }
      ]
    },
    {
      "cell_type": "code",
      "source": [
        "l3=[[1, 7],[2,10]]\n",
        "d=dict(l3)\n",
        "d"
      ],
      "metadata": {
        "colab": {
          "base_uri": "https://localhost:8080/"
        },
        "id": "Ot_MWtghc-nX",
        "outputId": "76bf47db-6fd7-4879-c278-489b6c6317b4"
      },
      "execution_count": 228,
      "outputs": [
        {
          "output_type": "execute_result",
          "data": {
            "text/plain": [
              "{1: 7, 2: 10}"
            ]
          },
          "metadata": {},
          "execution_count": 228
        }
      ]
    }
  ]
}