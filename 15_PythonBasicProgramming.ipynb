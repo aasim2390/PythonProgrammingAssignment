{
  "nbformat": 4,
  "nbformat_minor": 0,
  "metadata": {
    "colab": {
      "name": "15_PythonBasicProgramming.ipynb",
      "provenance": [],
      "collapsed_sections": []
    },
    "kernelspec": {
      "name": "python3",
      "display_name": "Python 3"
    },
    "language_info": {
      "name": "python"
    }
  },
  "cells": [
    {
      "cell_type": "markdown",
      "source": [
        "###Python Basic Programming Assignment 15"
      ],
      "metadata": {
        "id": "1Io9jTFIeJds"
      }
    },
    {
      "cell_type": "markdown",
      "source": [
        "**Question 1:**\n",
        "Please write a program using generator to print the numbers which can be divisible by 5 and 7 between 0 and n in comma separated form while n is input by console.\n"
      ],
      "metadata": {
        "id": "Np9AZtXvfDjP"
      }
    },
    {
      "cell_type": "markdown",
      "source": [
        "**Example:**\n",
        "If the following n is given as input to the program:\n",
        "100\n",
        "Then, the output of the program should be:\n",
        "0,35,70\n"
      ],
      "metadata": {
        "id": "lyD1UED4fGwH"
      }
    },
    {
      "cell_type": "code",
      "source": [
        "num = input(\"Enter the integer numbers separated by comma \")\n",
        "lst=num.split(\",\")\n",
        "lst"
      ],
      "metadata": {
        "colab": {
          "base_uri": "https://localhost:8080/"
        },
        "id": "1WpQBLl8fKLr",
        "outputId": "432873aa-e4aa-4208-e15b-f4fdf06be130"
      },
      "execution_count": 77,
      "outputs": [
        {
          "name": "stdout",
          "output_type": "stream",
          "text": [
            "Enter the integer numbers separated by comma 2,5,4,9,7,75,35,70,55\n"
          ]
        },
        {
          "output_type": "execute_result",
          "data": {
            "text/plain": [
              "['2', '5', '4', '9', '7', '75', '35', '70', '55']"
            ]
          },
          "metadata": {},
          "execution_count": 77
        }
      ]
    },
    {
      "cell_type": "code",
      "source": [
        "def gen(lst):\n",
        "  for n in lst:\n",
        "    n=int(n)\n",
        "    if n%5==0  and n%7==0:\n",
        "      yield n"
      ],
      "metadata": {
        "id": "EQc7POmjfhyq"
      },
      "execution_count": 78,
      "outputs": []
    },
    {
      "cell_type": "code",
      "source": [
        "x=gen(lst)"
      ],
      "metadata": {
        "id": "CT1giLlPf0YH"
      },
      "execution_count": 79,
      "outputs": []
    },
    {
      "cell_type": "code",
      "source": [
        "next(x)"
      ],
      "metadata": {
        "colab": {
          "base_uri": "https://localhost:8080/"
        },
        "id": "sB-MDtiBf3WJ",
        "outputId": "c5e2c401-06ab-4f3c-92e7-52648dc2bc27"
      },
      "execution_count": 80,
      "outputs": [
        {
          "output_type": "execute_result",
          "data": {
            "text/plain": [
              "35"
            ]
          },
          "metadata": {},
          "execution_count": 80
        }
      ]
    },
    {
      "cell_type": "code",
      "source": [
        "next(x)"
      ],
      "metadata": {
        "colab": {
          "base_uri": "https://localhost:8080/"
        },
        "id": "RjRpNdckgKVG",
        "outputId": "edd6c1df-8be6-4eb3-be63-53a7eb4b136a"
      },
      "execution_count": 81,
      "outputs": [
        {
          "output_type": "execute_result",
          "data": {
            "text/plain": [
              "70"
            ]
          },
          "metadata": {},
          "execution_count": 81
        }
      ]
    },
    {
      "cell_type": "code",
      "source": [
        "###Method 2\n",
        "lst=[2,5,4,9,7,75,35,70,55]\n",
        "x = (n for n in lst if (n%5==0 and n%7==0))"
      ],
      "metadata": {
        "id": "yq2jN1aBgRoU"
      },
      "execution_count": 83,
      "outputs": []
    },
    {
      "cell_type": "code",
      "source": [
        "next(x)"
      ],
      "metadata": {
        "colab": {
          "base_uri": "https://localhost:8080/"
        },
        "id": "3JwtjhjRgqMs",
        "outputId": "c7aa3b65-1b01-4dfa-9f34-1002b99a95cc"
      },
      "execution_count": 84,
      "outputs": [
        {
          "output_type": "execute_result",
          "data": {
            "text/plain": [
              "35"
            ]
          },
          "metadata": {},
          "execution_count": 84
        }
      ]
    },
    {
      "cell_type": "code",
      "source": [
        "next(x)"
      ],
      "metadata": {
        "colab": {
          "base_uri": "https://localhost:8080/"
        },
        "id": "Z-zTSCM2gr2n",
        "outputId": "bd68fa00-4893-42df-de25-bfa8666c494d"
      },
      "execution_count": 85,
      "outputs": [
        {
          "output_type": "execute_result",
          "data": {
            "text/plain": [
              "70"
            ]
          },
          "metadata": {},
          "execution_count": 85
        }
      ]
    },
    {
      "cell_type": "markdown",
      "source": [
        "**Question 2:**\n",
        "Please write a program using generator to print the even numbers between 0 and n in comma separated form while n is input by console.\n",
        "**Example:**\n",
        "If the following n is given as input to the program:\n",
        "10\n",
        "Then, the output of the program should be:\n",
        "0,2,4,6,8,10\n"
      ],
      "metadata": {
        "id": "FkuD2a7Cgufz"
      }
    },
    {
      "cell_type": "code",
      "source": [
        "num = int(input(\"Enter the number\"))\n"
      ],
      "metadata": {
        "colab": {
          "base_uri": "https://localhost:8080/"
        },
        "id": "JR8kobBDgySz",
        "outputId": "5e9c1c21-4197-4212-d77a-23054a198732"
      },
      "execution_count": 168,
      "outputs": [
        {
          "name": "stdout",
          "output_type": "stream",
          "text": [
            "Enter the number7\n"
          ]
        }
      ]
    },
    {
      "cell_type": "code",
      "source": [
        "def gen(num):\n",
        "  n=1\n",
        "  while(n<=num*2):\n",
        "    #print(n,num)\n",
        "    if n%2==0:\n",
        "      yield n\n",
        "    n+=1"
      ],
      "metadata": {
        "id": "SwdWCeRQg5A0"
      },
      "execution_count": 169,
      "outputs": []
    },
    {
      "cell_type": "code",
      "source": [
        "x=gen(num)"
      ],
      "metadata": {
        "id": "kU05Xd-Sg8hd"
      },
      "execution_count": 170,
      "outputs": []
    },
    {
      "cell_type": "code",
      "source": [
        "for _ in range(num):\n",
        "  print(next(x),end=\" \")"
      ],
      "metadata": {
        "colab": {
          "base_uri": "https://localhost:8080/"
        },
        "id": "Tc3Vnx3ojCvG",
        "outputId": "4e0d0a99-1d94-4641-d418-47580b92f20e"
      },
      "execution_count": 171,
      "outputs": [
        {
          "output_type": "stream",
          "name": "stdout",
          "text": [
            "2 4 6 8 10 12 14 "
          ]
        }
      ]
    },
    {
      "cell_type": "markdown",
      "source": [
        "**Question 3:**\n",
        "The Fibonacci Sequence is computed based on the following formula:\n",
        "f(n)=0 if n=0\n",
        "f(n)=1 if n=1\n",
        "f(n)=f(n-1)+f(n-2) if n>1\n",
        "Please write a program using list comprehension to print the Fibonacci Sequence in comma separated form with a given n input by console.\n"
      ],
      "metadata": {
        "id": "zrSX_j_UhO2x"
      }
    },
    {
      "cell_type": "markdown",
      "source": [
        "**Example:**\n",
        "If the following n is given as input to the program:\n",
        "7\n",
        "\n",
        "Then, the output of the program should be:\n",
        "0,1,1,2,3,5,8,13\n"
      ],
      "metadata": {
        "id": "CH7pORWFhTUz"
      }
    },
    {
      "cell_type": "code",
      "source": [
        "num = int(input(\"Enter the number\"))"
      ],
      "metadata": {
        "colab": {
          "base_uri": "https://localhost:8080/"
        },
        "id": "T6LczqNKhXNW",
        "outputId": "1e469636-eaa9-403c-a6f0-b5ff6bf4aafa"
      },
      "execution_count": 266,
      "outputs": [
        {
          "name": "stdout",
          "output_type": "stream",
          "text": [
            "Enter the number7\n"
          ]
        }
      ]
    },
    {
      "cell_type": "code",
      "source": [
        "def fib(num):\n",
        "  a=0\n",
        "  b=1\n",
        " \n",
        "\n",
        "  while True:\n",
        "    \n",
        "    a,b = b,a+b\n",
        "    yield a\n"
      ],
      "metadata": {
        "id": "UGFgc7dtmrzR"
      },
      "execution_count": 268,
      "outputs": []
    },
    {
      "cell_type": "code",
      "source": [
        "x=fib(num)"
      ],
      "metadata": {
        "id": "D6Wkyjc1pGYD"
      },
      "execution_count": 269,
      "outputs": []
    },
    {
      "cell_type": "code",
      "source": [
        "\n",
        "for i in range(num):\n",
        "  print(next(x),end=\" \")"
      ],
      "metadata": {
        "colab": {
          "base_uri": "https://localhost:8080/"
        },
        "id": "If9gVorUpJL2",
        "outputId": "9c069112-aeae-4994-942f-e0c0a19ca960"
      },
      "execution_count": 270,
      "outputs": [
        {
          "output_type": "stream",
          "name": "stdout",
          "text": [
            "1 1 2 3 5 8 13 "
          ]
        }
      ]
    },
    {
      "cell_type": "markdown",
      "source": [
        "**Question 4:**\n",
        "Assuming that we have some email addresses in the \"username@companyname.com\" format, please write program to print the user name of a given email address. Both user names and company names are composed of letters only.\n",
        "\n"
      ],
      "metadata": {
        "id": "P-mhgURd0J6s"
      }
    },
    {
      "cell_type": "markdown",
      "source": [
        "**Example:**\n",
        "If the following email address is given as input to the program:\n",
        "john@google.com\n",
        "Then, the output of the program should be:\n",
        "john"
      ],
      "metadata": {
        "id": "lU6cMdzP0PgG"
      }
    },
    {
      "cell_type": "code",
      "source": [
        "s=\"john@google.com \"\n",
        "s.strip()"
      ],
      "metadata": {
        "colab": {
          "base_uri": "https://localhost:8080/",
          "height": 35
        },
        "id": "remgKPSV0Q3I",
        "outputId": "aa71b4fc-99a1-4f9e-eabe-829071d84205"
      },
      "execution_count": 272,
      "outputs": [
        {
          "output_type": "execute_result",
          "data": {
            "application/vnd.google.colaboratory.intrinsic+json": {
              "type": "string"
            },
            "text/plain": [
              "'john@google.com'"
            ]
          },
          "metadata": {},
          "execution_count": 272
        }
      ]
    },
    {
      "cell_type": "code",
      "source": [
        "s.split(\"@\")[0]"
      ],
      "metadata": {
        "colab": {
          "base_uri": "https://localhost:8080/",
          "height": 35
        },
        "id": "_uxUXiv80l2f",
        "outputId": "54586bc6-3a36-434b-b06f-0e3dd01356e5"
      },
      "execution_count": 273,
      "outputs": [
        {
          "output_type": "execute_result",
          "data": {
            "application/vnd.google.colaboratory.intrinsic+json": {
              "type": "string"
            },
            "text/plain": [
              "'john'"
            ]
          },
          "metadata": {},
          "execution_count": 273
        }
      ]
    },
    {
      "cell_type": "code",
      "source": [
        "###Method2\n",
        "\n",
        "import re\n",
        "\n",
        "email = \"john@google.com Asim@google.com abc@xyz.com\"\n",
        "pattern = \"(\\w+)@\\w+.com\"\n",
        "ans = re.findall(pattern,email)\n",
        "print(ans)"
      ],
      "metadata": {
        "colab": {
          "base_uri": "https://localhost:8080/"
        },
        "id": "JfxFtp4b043E",
        "outputId": "ac3423bc-6ae2-44cb-8bae-f57fd6fa7fa9"
      },
      "execution_count": 286,
      "outputs": [
        {
          "output_type": "stream",
          "name": "stdout",
          "text": [
            "['john', 'Asim', 'abc']\n"
          ]
        }
      ]
    },
    {
      "cell_type": "markdown",
      "source": [
        "**Question 5:**\n",
        "Define a class named Shape and its subclass Square. The Square class has an init function which takes a length as argument. Both classes have a area function which can print the area of the shape where Shape's area is 0 by default.\n"
      ],
      "metadata": {
        "id": "JdF1fCch32Z8"
      }
    },
    {
      "cell_type": "code",
      "source": [
        "class Shape:\n",
        "  def __init__(self):\n",
        "    self.area = 0\n",
        "\n",
        "  def getArea(self):\n",
        "    return self.area\n",
        "\n",
        "\n",
        "class Square(Shape):\n",
        "  def __init__(self,l):\n",
        "    self.l =l\n",
        "    self.area=0\n",
        "\n",
        "  def getArea(self):\n",
        "    area=self.l**2\n",
        "    return area"
      ],
      "metadata": {
        "id": "DtUKOwkL333b"
      },
      "execution_count": 287,
      "outputs": []
    },
    {
      "cell_type": "code",
      "source": [
        "sh = Shape()\n",
        "sh.getArea()"
      ],
      "metadata": {
        "colab": {
          "base_uri": "https://localhost:8080/"
        },
        "id": "yfj0iv0H4wh0",
        "outputId": "04b914f4-7e07-47cc-9d26-51779a61b454"
      },
      "execution_count": 294,
      "outputs": [
        {
          "output_type": "execute_result",
          "data": {
            "text/plain": [
              "0"
            ]
          },
          "metadata": {},
          "execution_count": 294
        }
      ]
    },
    {
      "cell_type": "code",
      "source": [
        "sq=Square(5)"
      ],
      "metadata": {
        "id": "NTT6hlO541vv"
      },
      "execution_count": 295,
      "outputs": []
    },
    {
      "cell_type": "code",
      "source": [
        "sq.getArea()"
      ],
      "metadata": {
        "colab": {
          "base_uri": "https://localhost:8080/"
        },
        "id": "bZFLSORy442O",
        "outputId": "23003faf-5423-489b-efd0-761be9356167"
      },
      "execution_count": 296,
      "outputs": [
        {
          "output_type": "execute_result",
          "data": {
            "text/plain": [
              "25"
            ]
          },
          "metadata": {},
          "execution_count": 296
        }
      ]
    }
  ]
}