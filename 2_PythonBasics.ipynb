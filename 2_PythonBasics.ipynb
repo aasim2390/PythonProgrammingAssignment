{
  "nbformat": 4,
  "nbformat_minor": 0,
  "metadata": {
    "colab": {
      "provenance": [],
      "authorship_tag": "ABX9TyNP6xmh4NX3mV6w6725ugG4"
    },
    "kernelspec": {
      "name": "python3",
      "display_name": "Python 3"
    },
    "language_info": {
      "name": "python"
    }
  },
  "cells": [
    {
      "cell_type": "markdown",
      "source": [
        "Ques1: Write a python script to add comments and print “Learning Python” on screen."
      ],
      "metadata": {
        "id": "7_CYxu6ZcAeX"
      }
    },
    {
      "cell_type": "code",
      "source": [
        "#This line is comment\n",
        "print(\"Learning Python\")"
      ],
      "metadata": {
        "id": "5kYSZESVcGB0"
      },
      "execution_count": null,
      "outputs": []
    },
    {
      "cell_type": "markdown",
      "source": [
        "Ques2: Write a python script to add multi line comments and print values of four variables,\n",
        "each in a new line. Variable contains any values."
      ],
      "metadata": {
        "id": "d6sIbQqzcO_z"
      }
    },
    {
      "cell_type": "code",
      "source": [
        "\"\"\"This is\n",
        "multi line comments\n",
        "example\"\"\"\n",
        "a =12\n",
        "b=\"test\"\n",
        "c=78.66\n",
        "d=a+2j\n",
        "\n",
        "print(a,b,c,d,sep=\"\\n\")"
      ],
      "metadata": {
        "colab": {
          "base_uri": "https://localhost:8080/"
        },
        "id": "zZ68xUo8cVd8",
        "outputId": "b82579d6-19ab-4dfa-8ad5-cc3112e1c0ff"
      },
      "execution_count": 14,
      "outputs": [
        {
          "output_type": "stream",
          "name": "stdout",
          "text": [
            "12\n",
            "test\n",
            "78.66\n",
            "(12+2j)\n"
          ]
        }
      ]
    },
    {
      "cell_type": "markdown",
      "source": [
        "Ques:3 Write a python script to print types of variables. Create 5 variables each of them\n",
        "containing different types of data. (like 35, True, “MySirG”,5.46, 3+4j, etc)"
      ],
      "metadata": {
        "id": "kAGrJ3d8cpRI"
      }
    },
    {
      "cell_type": "code",
      "source": [
        "a =35\n",
        "b=True\n",
        "c=\"MySirG\"\n",
        "d=5.46\n",
        "e=3+4j\n",
        "\n",
        "print(a,type(a))\n",
        "print(b,type(b))\n",
        "print(c,type(c))\n",
        "print(d,type(d))\n",
        "print(e,type(e))\n"
      ],
      "metadata": {
        "colab": {
          "base_uri": "https://localhost:8080/"
        },
        "id": "2fGFnSdhcwQ3",
        "outputId": "26b19067-e0bb-47ea-a57c-15fd33550483"
      },
      "execution_count": 15,
      "outputs": [
        {
          "output_type": "stream",
          "name": "stdout",
          "text": [
            "35 <class 'int'>\n",
            "True <class 'bool'>\n",
            "MySirG <class 'str'>\n",
            "5.46 <class 'float'>\n",
            "(3+4j) <class 'complex'>\n"
          ]
        }
      ]
    },
    {
      "cell_type": "markdown",
      "source": [
        "Ques4: Write a python script to print the id of two variables containing the same integer\n",
        "values."
      ],
      "metadata": {
        "id": "rzJVSpmzfi80"
      }
    },
    {
      "cell_type": "code",
      "source": [
        "x=15\n",
        "y=15\n",
        "print(\"id of x is \",id(x))\n",
        "print(\"id of y is \",id(y))"
      ],
      "metadata": {
        "colab": {
          "base_uri": "https://localhost:8080/"
        },
        "id": "RuS9dN6TfldR",
        "outputId": "98c06330-4d28-4fae-b4c2-e495eda13e17"
      },
      "execution_count": 16,
      "outputs": [
        {
          "output_type": "stream",
          "name": "stdout",
          "text": [
            "id of x is  140633588941488\n",
            "id of y is  140633588941488\n"
          ]
        }
      ]
    },
    {
      "cell_type": "markdown",
      "source": [
        "Ques5: Create four variables in a Python script and assign values of different data types to\n",
        "them. Write a Python script to print value, its type and id of each variable"
      ],
      "metadata": {
        "id": "hjyDwQwvfvc5"
      }
    },
    {
      "cell_type": "code",
      "source": [
        "a=5\n",
        "b=\"test\"\n",
        "c=25.36\n",
        "d=True\n",
        "\n",
        "print(f\"Value of a is {a}, type is {type(a)}, id is {id(a)}\")\n",
        "print(f\"Value of b is {b}, type is {type(b)}, id is {id(b)}\")\n",
        "print(f\"Value of c is {c}, type is {type(c)}, id is {id(c)}\")\n",
        "print(f\"Value of d is {d}, type is {type(d)}, id is {id(d)}\")"
      ],
      "metadata": {
        "colab": {
          "base_uri": "https://localhost:8080/"
        },
        "id": "lov4UCmlf1U9",
        "outputId": "d66dc548-6dbd-495b-e2f4-d3f0b4f6275d"
      },
      "execution_count": 17,
      "outputs": [
        {
          "output_type": "stream",
          "name": "stdout",
          "text": [
            "Value of a is 5, type is <class 'int'>, id is 140633588941168\n",
            "Value of b is test, type is <class 'str'>, id is 140633587201968\n",
            "Value of c is 25.36, type is <class 'float'>, id is 140632340724912\n",
            "Value of d is True, type is <class 'bool'>, id is 9748864\n"
          ]
        }
      ]
    },
    {
      "cell_type": "markdown",
      "source": [
        "Ques6: Write a python script to print all the keywords"
      ],
      "metadata": {
        "id": "av3ZmhgNgVoG"
      }
    },
    {
      "cell_type": "code",
      "source": [
        "import keyword as kw\n",
        "print(kw.kwlist)\n",
        "print(\"Total:\",len(kw.kwlist))"
      ],
      "metadata": {
        "colab": {
          "base_uri": "https://localhost:8080/"
        },
        "id": "AhHNC-7xgZBU",
        "outputId": "10965301-f9a0-4c74-85f8-2e7b67dfde4c"
      },
      "execution_count": 23,
      "outputs": [
        {
          "output_type": "stream",
          "name": "stdout",
          "text": [
            "['False', 'None', 'True', 'and', 'as', 'assert', 'async', 'await', 'break', 'class', 'continue', 'def', 'del', 'elif', 'else', 'except', 'finally', 'for', 'from', 'global', 'if', 'import', 'in', 'is', 'lambda', 'nonlocal', 'not', 'or', 'pass', 'raise', 'return', 'try', 'while', 'with', 'yield']\n",
            "Total: 35\n"
          ]
        }
      ]
    },
    {
      "cell_type": "markdown",
      "source": [
        "Ques7: On Python shell use help() function and display the list of keywords"
      ],
      "metadata": {
        "id": "jIigoFwVg4v7"
      }
    },
    {
      "cell_type": "code",
      "source": [
        "help(kw)"
      ],
      "metadata": {
        "colab": {
          "base_uri": "https://localhost:8080/"
        },
        "id": "PYLmbu4_g8kt",
        "outputId": "5520aa0e-dcbe-435e-9fdf-c09ab30aff6d"
      },
      "execution_count": 26,
      "outputs": [
        {
          "output_type": "stream",
          "name": "stdout",
          "text": [
            "Help on module keyword:\n",
            "\n",
            "NAME\n",
            "    keyword - Keywords (from \"Grammar/python.gram\")\n",
            "\n",
            "MODULE REFERENCE\n",
            "    https://docs.python.org/3.10/library/keyword.html\n",
            "    \n",
            "    The following documentation is automatically generated from the Python\n",
            "    source files.  It may be incomplete, incorrect or include features that\n",
            "    are considered implementation detail and may vary between Python\n",
            "    implementations.  When in doubt, consult the module reference at the\n",
            "    location listed above.\n",
            "\n",
            "DESCRIPTION\n",
            "    This file is automatically generated; please don't muck it up!\n",
            "    \n",
            "    To update the symbols in this file, 'cd' to the top directory of\n",
            "    the python source tree and run:\n",
            "    \n",
            "        PYTHONPATH=Tools/peg_generator python3 -m pegen.keywordgen         Grammar/python.gram         Grammar/Tokens         Lib/keyword.py\n",
            "    \n",
            "    Alternatively, you can run 'make regen-keyword'.\n",
            "\n",
            "FUNCTIONS\n",
            "    iskeyword = __contains__(...) method of builtins.frozenset instance\n",
            "        x.__contains__(y) <==> y in x.\n",
            "    \n",
            "    issoftkeyword = __contains__(...) method of builtins.frozenset instance\n",
            "        x.__contains__(y) <==> y in x.\n",
            "\n",
            "DATA\n",
            "    __all__ = ['iskeyword', 'issoftkeyword', 'kwlist', 'softkwlist']\n",
            "    kwlist = ['False', 'None', 'True', 'and', 'as', 'assert', 'async', 'aw...\n",
            "    softkwlist = ['_', 'case', 'match']\n",
            "\n",
            "FILE\n",
            "    /usr/lib/python3.10/keyword.py\n",
            "\n",
            "\n"
          ]
        }
      ]
    },
    {
      "cell_type": "markdown",
      "source": [
        "Ques10: Write a python script to display the current date and time. First create variables to\n",
        "store date and time, then display date and time in proper format (like: 13-8-2022 and\n",
        "9:00 PM)"
      ],
      "metadata": {
        "id": "a4EJBBjKhB_c"
      }
    },
    {
      "cell_type": "code",
      "source": [
        "import datetime"
      ],
      "metadata": {
        "id": "X7AgYVEmhONY"
      },
      "execution_count": 39,
      "outputs": []
    },
    {
      "cell_type": "code",
      "source": [
        "datetime.datetime.now()"
      ],
      "metadata": {
        "colab": {
          "base_uri": "https://localhost:8080/"
        },
        "id": "MTknV1enkzxT",
        "outputId": "753362e6-7fd0-471c-abfe-fd01b7342520"
      },
      "execution_count": 61,
      "outputs": [
        {
          "output_type": "execute_result",
          "data": {
            "text/plain": [
              "datetime.datetime(2023, 6, 5, 17, 21, 54, 85941)"
            ]
          },
          "metadata": {},
          "execution_count": 61
        }
      ]
    },
    {
      "cell_type": "code",
      "source": [
        "datetime.datetime.now().strftime(\"%d-%m-%Y and %I:%M %p\")"
      ],
      "metadata": {
        "colab": {
          "base_uri": "https://localhost:8080/",
          "height": 36
        },
        "id": "Sy7R5lKAj386",
        "outputId": "4895eb50-774e-424e-dd15-97093ea099eb"
      },
      "execution_count": 64,
      "outputs": [
        {
          "output_type": "execute_result",
          "data": {
            "text/plain": [
              "'05-06-2023 and 05:23 PM'"
            ],
            "application/vnd.google.colaboratory.intrinsic+json": {
              "type": "string"
            }
          },
          "metadata": {},
          "execution_count": 64
        }
      ]
    }
  ]
}