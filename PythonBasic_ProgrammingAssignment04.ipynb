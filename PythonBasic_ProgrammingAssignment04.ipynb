{
  "nbformat": 4,
  "nbformat_minor": 0,
  "metadata": {
    "colab": {
      "name": "PythonBasic_ProgrammingAssignment04.ipynb",
      "provenance": []
    },
    "kernelspec": {
      "name": "python3",
      "display_name": "Python 3"
    },
    "language_info": {
      "name": "python"
    }
  },
  "cells": [
    {
      "cell_type": "markdown",
      "source": [
        "###Python Programming Basic Assignment 04\n"
      ],
      "metadata": {
        "id": "Fm-fPIC_uEjQ"
      }
    },
    {
      "cell_type": "markdown",
      "source": [
        "**1.\tWrite a Python Program to Find the Factorial of a Number?**"
      ],
      "metadata": {
        "id": "aG5jvJWEuNQm"
      }
    },
    {
      "cell_type": "code",
      "execution_count": 67,
      "metadata": {
        "id": "plYUCtzot8br"
      },
      "outputs": [],
      "source": [
        "def factorial(num):\n",
        "  f=1\n",
        "  while(num>0):\n",
        "    f=num*f\n",
        "    num-=1\n",
        "    #print(f,num)\n",
        "  return f  \n"
      ]
    },
    {
      "cell_type": "code",
      "source": [
        "print(factorial(5))"
      ],
      "metadata": {
        "colab": {
          "base_uri": "https://localhost:8080/"
        },
        "id": "j_6Stai4uoJE",
        "outputId": "d29bc4b8-fe37-477a-fe1e-03b813dd581a"
      },
      "execution_count": 68,
      "outputs": [
        {
          "output_type": "stream",
          "name": "stdout",
          "text": [
            "120\n"
          ]
        }
      ]
    },
    {
      "cell_type": "markdown",
      "source": [
        "**2.\tWrite a Python Program to Display the multiplication Table?**"
      ],
      "metadata": {
        "id": "2R4UlnZ4HjLN"
      }
    },
    {
      "cell_type": "code",
      "source": [
        "def mult(num):\n",
        "  for i in range(1,11):\n",
        "    print(f\"{num} X {i} = {num*i}\")\n"
      ],
      "metadata": {
        "id": "gUMRY-LZHnuW"
      },
      "execution_count": 70,
      "outputs": []
    },
    {
      "cell_type": "code",
      "source": [
        "mult(5)"
      ],
      "metadata": {
        "colab": {
          "base_uri": "https://localhost:8080/"
        },
        "id": "ySi7YH0CakXF",
        "outputId": "75fb0e22-9d07-4d6f-88f6-5a295c9414b9"
      },
      "execution_count": 71,
      "outputs": [
        {
          "output_type": "stream",
          "name": "stdout",
          "text": [
            "5 X 1 = 5\n",
            "5 X 2 = 10\n",
            "5 X 3 = 15\n",
            "5 X 4 = 20\n",
            "5 X 5 = 25\n",
            "5 X 6 = 30\n",
            "5 X 7 = 35\n",
            "5 X 8 = 40\n",
            "5 X 9 = 45\n",
            "5 X 10 = 50\n"
          ]
        }
      ]
    },
    {
      "cell_type": "code",
      "source": [
        "mult(18)"
      ],
      "metadata": {
        "colab": {
          "base_uri": "https://localhost:8080/"
        },
        "id": "fe5xpg4lalsh",
        "outputId": "2fb5943c-fabc-4412-84ea-cd7a3d881d79"
      },
      "execution_count": 72,
      "outputs": [
        {
          "output_type": "stream",
          "name": "stdout",
          "text": [
            "18 X 1 = 18\n",
            "18 X 2 = 36\n",
            "18 X 3 = 54\n",
            "18 X 4 = 72\n",
            "18 X 5 = 90\n",
            "18 X 6 = 108\n",
            "18 X 7 = 126\n",
            "18 X 8 = 144\n",
            "18 X 9 = 162\n",
            "18 X 10 = 180\n"
          ]
        }
      ]
    },
    {
      "cell_type": "markdown",
      "source": [
        "**3.\tWrite a Python Program to Print the Fibonacci sequence?**"
      ],
      "metadata": {
        "id": "0NYEaCBiIKBj"
      }
    },
    {
      "cell_type": "code",
      "source": [
        "def fib(num):\n",
        "  a=1\n",
        "  b=0\n",
        "  for i in range(num):\n",
        "    print(a,end=\", \")\n",
        "    a,b = a+b,a\n",
        "    "
      ],
      "metadata": {
        "id": "ZPqsoRSAIoMO"
      },
      "execution_count": 84,
      "outputs": []
    },
    {
      "cell_type": "code",
      "source": [
        "fib(10)"
      ],
      "metadata": {
        "colab": {
          "base_uri": "https://localhost:8080/"
        },
        "id": "WTKxLp5vbEsm",
        "outputId": "b2276014-f688-4c6e-e678-a6d48ac93243"
      },
      "execution_count": 85,
      "outputs": [
        {
          "output_type": "stream",
          "name": "stdout",
          "text": [
            "1, 1, 2, 3, 5, 8, 13, 21, 34, 55, "
          ]
        }
      ]
    },
    {
      "cell_type": "markdown",
      "source": [
        "**4.\tWrite a Python Program to Check Armstrong Number?**"
      ],
      "metadata": {
        "id": "pL4PXxkQJ-VL"
      }
    },
    {
      "cell_type": "code",
      "source": [
        "def ArmstrongNo(num):\n",
        "  if type(num)!=int:\n",
        "    return \"Error: Please enter interger type only\"\n",
        "\n",
        "  l =list(str(num))\n",
        "  arm_no = 0\n",
        "  for i in l:\n",
        "    arm_no = arm_no + int(i)**3\n",
        "  if num == arm_no:\n",
        "    return \"This is Armstrong Number\"\n",
        "  else:\n",
        "    return \"This is not Armstrong Number\"\n",
        "\n"
      ],
      "metadata": {
        "id": "rVOB5a2NKfNn"
      },
      "execution_count": 95,
      "outputs": []
    },
    {
      "cell_type": "code",
      "source": [
        "ArmstrongNo(153)"
      ],
      "metadata": {
        "colab": {
          "base_uri": "https://localhost:8080/",
          "height": 35
        },
        "id": "q8WRAyrfcVVT",
        "outputId": "82870ef9-ec46-43bd-b5f4-c0d4582478d2"
      },
      "execution_count": 99,
      "outputs": [
        {
          "output_type": "execute_result",
          "data": {
            "application/vnd.google.colaboratory.intrinsic+json": {
              "type": "string"
            },
            "text/plain": [
              "'This is Armstrong Number'"
            ]
          },
          "metadata": {},
          "execution_count": 99
        }
      ]
    },
    {
      "cell_type": "code",
      "source": [
        "ArmstrongNo(662)"
      ],
      "metadata": {
        "colab": {
          "base_uri": "https://localhost:8080/",
          "height": 35
        },
        "id": "8GOAkW1jc5he",
        "outputId": "ed7993a0-f9ae-4951-e8a2-724f64d5e790"
      },
      "execution_count": 97,
      "outputs": [
        {
          "output_type": "execute_result",
          "data": {
            "application/vnd.google.colaboratory.intrinsic+json": {
              "type": "string"
            },
            "text/plain": [
              "'This is not Armstrong Number'"
            ]
          },
          "metadata": {},
          "execution_count": 97
        }
      ]
    },
    {
      "cell_type": "markdown",
      "source": [
        "**5.\tWrite a Python Program to Find Armstrong Number in an Interval?**"
      ],
      "metadata": {
        "id": "VIMdL_ZLNKl3"
      }
    },
    {
      "cell_type": "code",
      "source": [
        "for i in range(1,1000):\n",
        "  if ArmstrongNo(i) ==\"This is Armstrong Number\":\n",
        "    print(i,end=\" , \")"
      ],
      "metadata": {
        "colab": {
          "base_uri": "https://localhost:8080/"
        },
        "id": "lVrBH6ifMiE-",
        "outputId": "8b968641-8a2a-48dd-eb86-f9f1e4421135"
      },
      "execution_count": 100,
      "outputs": [
        {
          "output_type": "stream",
          "name": "stdout",
          "text": [
            "1 , 153 , 370 , 371 , 407 , "
          ]
        }
      ]
    },
    {
      "cell_type": "markdown",
      "source": [
        "**6.\tWrite a Python Program to Find the Sum of Natural Numbers?**"
      ],
      "metadata": {
        "id": "rU5F0Jk0drvm"
      }
    },
    {
      "cell_type": "code",
      "source": [
        "def summation(num):\n",
        "  sum=0\n",
        "  for i in range(1,num+1):\n",
        "    sum = sum +i\n",
        "  return sum"
      ],
      "metadata": {
        "id": "XT8K-ZymdrDd"
      },
      "execution_count": 107,
      "outputs": []
    },
    {
      "cell_type": "code",
      "source": [
        "summation(10)"
      ],
      "metadata": {
        "colab": {
          "base_uri": "https://localhost:8080/"
        },
        "id": "XujGacCieBl9",
        "outputId": "858037d4-7465-42a9-f4d3-a50fa9501f67"
      },
      "execution_count": 109,
      "outputs": [
        {
          "output_type": "execute_result",
          "data": {
            "text/plain": [
              "55"
            ]
          },
          "metadata": {},
          "execution_count": 109
        }
      ]
    }
  ]
}