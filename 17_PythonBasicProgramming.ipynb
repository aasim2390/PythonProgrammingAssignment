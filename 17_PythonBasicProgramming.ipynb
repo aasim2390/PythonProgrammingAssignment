{
  "nbformat": 4,
  "nbformat_minor": 0,
  "metadata": {
    "colab": {
      "name": "17_PythonBasicProgramming.ipynb",
      "provenance": [],
      "collapsed_sections": []
    },
    "kernelspec": {
      "name": "python3",
      "display_name": "Python 3"
    },
    "language_info": {
      "name": "python"
    }
  },
  "cells": [
    {
      "cell_type": "markdown",
      "source": [
        "###Python Basic Programming Assignment 17"
      ],
      "metadata": {
        "id": "1Io9jTFIeJds"
      }
    },
    {
      "cell_type": "markdown",
      "source": [
        "**Question1** Create a function that takes three arguments a, b, c and returns the sum of the numbers that are evenly divided by c from the range a, b inclusive."
      ],
      "metadata": {
        "id": "wqZle8taCyP_"
      }
    },
    {
      "cell_type": "markdown",
      "source": [
        "**Examples**\n",
        "\n",
        "```\n",
        "evenly_divisible(1, 10, 20) ➞ 0\n",
        "# No number between 1 and 10 can be evenly divided by 20.\n",
        "\n",
        "evenly_divisible(1, 10, 2) ➞ 30\n",
        "# 2 + 4 + 6 + 8 + 10 = 30\n",
        "\n",
        "evenly_divisible(1, 10, 3) ➞ 18\n",
        "# 3 + 6 + 9 = 18\n",
        "```\n",
        "\n"
      ],
      "metadata": {
        "id": "fXhLNV-0C1af"
      }
    },
    {
      "cell_type": "code",
      "source": [
        "def evenly_divisible(a,b,c):\n",
        "  try:\n",
        "    min=a\n",
        "    max=b\n",
        "    i=1\n",
        "    sum=0\n",
        "    flag=True\n",
        "    while(flag):\n",
        "      if min<=(c*i)<=max:\n",
        "        sum=sum+(c*i)\n",
        "        i+=1\n",
        "      else:\n",
        "        flag=False\n",
        "    return sum\n",
        "  except Exception as e:\n",
        "    return \"Error:\",e\n",
        "\n"
      ],
      "metadata": {
        "id": "oukVyNofC_eV"
      },
      "execution_count": 98,
      "outputs": []
    },
    {
      "cell_type": "code",
      "source": [
        "evenly_divisible(1,10,2)"
      ],
      "metadata": {
        "colab": {
          "base_uri": "https://localhost:8080/"
        },
        "id": "wg-e_nVaD6gp",
        "outputId": "b8e6a8e2-53e5-49a3-8745-b3969b5ff7b8"
      },
      "execution_count": 99,
      "outputs": [
        {
          "output_type": "execute_result",
          "data": {
            "text/plain": [
              "30"
            ]
          },
          "metadata": {},
          "execution_count": 99
        }
      ]
    },
    {
      "cell_type": "code",
      "source": [
        "evenly_divisible(1,10,20)"
      ],
      "metadata": {
        "colab": {
          "base_uri": "https://localhost:8080/"
        },
        "id": "tjRXl1H7Ew1G",
        "outputId": "4409058c-b5d0-4725-e1f7-0b87330b2f2f"
      },
      "execution_count": 100,
      "outputs": [
        {
          "output_type": "execute_result",
          "data": {
            "text/plain": [
              "0"
            ]
          },
          "metadata": {},
          "execution_count": 100
        }
      ]
    },
    {
      "cell_type": "code",
      "source": [
        "evenly_divisible(1,10,3)"
      ],
      "metadata": {
        "colab": {
          "base_uri": "https://localhost:8080/"
        },
        "id": "W-LPt8fcE1ek",
        "outputId": "15d916f1-661f-4082-89d8-89ef78e6f1d8"
      },
      "execution_count": 101,
      "outputs": [
        {
          "output_type": "execute_result",
          "data": {
            "text/plain": [
              "18"
            ]
          },
          "metadata": {},
          "execution_count": 101
        }
      ]
    },
    {
      "cell_type": "code",
      "source": [
        "evenly_divisible(1,10,'a')"
      ],
      "metadata": {
        "colab": {
          "base_uri": "https://localhost:8080/"
        },
        "id": "BEIW9fgOFEMS",
        "outputId": "a9ede0f0-6da3-45ed-ab17-910ce17f4363"
      },
      "execution_count": 102,
      "outputs": [
        {
          "output_type": "execute_result",
          "data": {
            "text/plain": [
              "('Error:',\n",
              " TypeError(\"'<=' not supported between instances of 'int' and 'str'\"))"
            ]
          },
          "metadata": {},
          "execution_count": 102
        }
      ]
    },
    {
      "cell_type": "markdown",
      "source": [
        "**Question2**. Create a function that returns True if a given inequality expression is correct and False otherwise."
      ],
      "metadata": {
        "id": "YUGvelf5FiEj"
      }
    },
    {
      "cell_type": "markdown",
      "source": [
        "**Examples**\n",
        "\n",
        "```\n",
        "\n",
        "correct_signs(\"3 < 7 < 11\") ➞ True\n",
        "\n",
        "correct_signs(\"13 > 44 > 33 > 1\") ➞ False\n",
        "\n",
        "correct_signs(\"1 < 2 < 6 < 9 > 3\") ➞ True\n",
        "\n",
        "```\n",
        "\n",
        "\n"
      ],
      "metadata": {
        "id": "pJqwd6a3FlHh"
      }
    },
    {
      "cell_type": "code",
      "source": [
        "def correct_signs(s):\n",
        "  try:\n",
        "    exp = eval(s)\n",
        "    if exp:\n",
        "      return True\n",
        "    else:\n",
        "      return False\n",
        "  except Exception as e:\n",
        "    return \"Error : \"+str(e)"
      ],
      "metadata": {
        "id": "Hvc7y5c5Fqkf"
      },
      "execution_count": 107,
      "outputs": []
    },
    {
      "cell_type": "code",
      "source": [
        "correct_signs(\"3 < 7 < 11\") "
      ],
      "metadata": {
        "colab": {
          "base_uri": "https://localhost:8080/"
        },
        "id": "xaVzNUVrGUPN",
        "outputId": "571ee188-5fb1-4566-f364-2ff389850581"
      },
      "execution_count": 108,
      "outputs": [
        {
          "output_type": "execute_result",
          "data": {
            "text/plain": [
              "True"
            ]
          },
          "metadata": {},
          "execution_count": 108
        }
      ]
    },
    {
      "cell_type": "code",
      "source": [
        "correct_signs(\"13 > 44 > 33 > 1\") "
      ],
      "metadata": {
        "colab": {
          "base_uri": "https://localhost:8080/"
        },
        "id": "s4Rz1pKEGWuA",
        "outputId": "8f146568-4ee7-47c3-b247-9dd22f714212"
      },
      "execution_count": 109,
      "outputs": [
        {
          "output_type": "execute_result",
          "data": {
            "text/plain": [
              "False"
            ]
          },
          "metadata": {},
          "execution_count": 109
        }
      ]
    },
    {
      "cell_type": "code",
      "source": [
        "correct_signs(\"1 < 2 < 6 < 9 > 3\")"
      ],
      "metadata": {
        "colab": {
          "base_uri": "https://localhost:8080/"
        },
        "id": "9mDz1oUjGZNp",
        "outputId": "45622dd2-13e4-49c3-bbcf-1982d4fa5e54"
      },
      "execution_count": 110,
      "outputs": [
        {
          "output_type": "execute_result",
          "data": {
            "text/plain": [
              "True"
            ]
          },
          "metadata": {},
          "execution_count": 110
        }
      ]
    },
    {
      "cell_type": "code",
      "source": [
        "correct_signs(\"1 < 2 < 6 < 9 pp 3\")"
      ],
      "metadata": {
        "colab": {
          "base_uri": "https://localhost:8080/",
          "height": 35
        },
        "id": "YqHneZNMGaQn",
        "outputId": "e5413393-1f4c-4322-ed2b-e56f53ca1a80"
      },
      "execution_count": 111,
      "outputs": [
        {
          "output_type": "execute_result",
          "data": {
            "application/vnd.google.colaboratory.intrinsic+json": {
              "type": "string"
            },
            "text/plain": [
              "'Error : invalid syntax (<string>, line 1)'"
            ]
          },
          "metadata": {},
          "execution_count": 111
        }
      ]
    },
    {
      "cell_type": "markdown",
      "source": [
        "**Question3**. Create a function that replaces all the vowels in a string with a specified character."
      ],
      "metadata": {
        "id": "SaZzfCDlGe_3"
      }
    },
    {
      "cell_type": "markdown",
      "source": [
        "**Examples**\n",
        "\n",
        "```\n",
        "replace_vowels(\"the aardvark\", \"#\") ➞ \"th# ##rdv#rk\"\n",
        "\n",
        "replace_vowels(\"minnie mouse\", \"?\") ➞ \"m?nn?? m??s?\"\n",
        "\n",
        "replace_vowels(\"shakespeare\", \"*\") ➞ \"sh*k*sp**r*\"\n",
        "```\n",
        "\n"
      ],
      "metadata": {
        "id": "i9OmrC6zGind"
      }
    },
    {
      "cell_type": "code",
      "source": [
        "def replace_vowels(s,ch):\n",
        "  try:\n",
        "    temp=[]\n",
        "    vowel=['a','e','i','o','u']\n",
        "    for elem in s:\n",
        "      if elem in vowel:\n",
        "        temp.append(ch)\n",
        "      else:\n",
        "        temp.append(elem)\n",
        "    return \"\".join(temp)\n",
        "  except Exception as e:\n",
        "    return \"Error : \"+str(e)\n",
        "\n",
        "\n"
      ],
      "metadata": {
        "id": "5Oa69jAXGqaz"
      },
      "execution_count": 112,
      "outputs": []
    },
    {
      "cell_type": "code",
      "source": [
        "replace_vowels(\"the aardvark\", \"#\")"
      ],
      "metadata": {
        "colab": {
          "base_uri": "https://localhost:8080/",
          "height": 35
        },
        "id": "zaS5qan3HdHF",
        "outputId": "fe77d1bf-449d-4aa2-9e05-9f70f882413e"
      },
      "execution_count": 113,
      "outputs": [
        {
          "output_type": "execute_result",
          "data": {
            "application/vnd.google.colaboratory.intrinsic+json": {
              "type": "string"
            },
            "text/plain": [
              "'th# ##rdv#rk'"
            ]
          },
          "metadata": {},
          "execution_count": 113
        }
      ]
    },
    {
      "cell_type": "code",
      "source": [
        "replace_vowels(\"minnie mouse\", \"?\")"
      ],
      "metadata": {
        "colab": {
          "base_uri": "https://localhost:8080/",
          "height": 35
        },
        "id": "m9HH3yDcHffe",
        "outputId": "1e2432ba-f449-4744-fb63-239e4307e40e"
      },
      "execution_count": 114,
      "outputs": [
        {
          "output_type": "execute_result",
          "data": {
            "application/vnd.google.colaboratory.intrinsic+json": {
              "type": "string"
            },
            "text/plain": [
              "'m?nn?? m??s?'"
            ]
          },
          "metadata": {},
          "execution_count": 114
        }
      ]
    },
    {
      "cell_type": "code",
      "source": [
        "replace_vowels(\"shakespeare\", \"*\") "
      ],
      "metadata": {
        "colab": {
          "base_uri": "https://localhost:8080/",
          "height": 35
        },
        "id": "Gfh4SDBcHh2k",
        "outputId": "bc6c42da-331d-4ccf-c8bb-4681601435c6"
      },
      "execution_count": 115,
      "outputs": [
        {
          "output_type": "execute_result",
          "data": {
            "application/vnd.google.colaboratory.intrinsic+json": {
              "type": "string"
            },
            "text/plain": [
              "'sh*k*sp**r*'"
            ]
          },
          "metadata": {},
          "execution_count": 115
        }
      ]
    },
    {
      "cell_type": "markdown",
      "source": [
        "**Question4**. Write a function that calculates the factorial of a number recursively."
      ],
      "metadata": {
        "id": "04bZid_WHrik"
      }
    },
    {
      "cell_type": "markdown",
      "source": [
        "**Examples**\n",
        "\n",
        "\n",
        "```\n",
        "factorial(5) ➞ 120\n",
        "\n",
        "factorial(3) ➞ 6\n",
        "\n",
        "factorial(1) ➞ 1\n",
        "\n",
        "factorial(0) ➞ 1\n",
        "```\n",
        "\n",
        "\n",
        "\n"
      ],
      "metadata": {
        "id": "oA7jx6GHHvai"
      }
    },
    {
      "cell_type": "code",
      "source": [
        "def factorial(num):\n",
        "  try:\n",
        "    if num>=1:\n",
        "      return num * factorial(num-1)\n",
        "    else:\n",
        "      return 1\n",
        "  except Exception as e:\n",
        "    return \"error : \"+str(e)"
      ],
      "metadata": {
        "id": "dluKNDRjH0sr"
      },
      "execution_count": 120,
      "outputs": []
    },
    {
      "cell_type": "code",
      "source": [
        "factorial(5)"
      ],
      "metadata": {
        "colab": {
          "base_uri": "https://localhost:8080/"
        },
        "id": "qXZM772rIHph",
        "outputId": "2e111a23-e9a3-4b15-fedf-38d884b3decd"
      },
      "execution_count": 121,
      "outputs": [
        {
          "output_type": "execute_result",
          "data": {
            "text/plain": [
              "120"
            ]
          },
          "metadata": {},
          "execution_count": 121
        }
      ]
    },
    {
      "cell_type": "code",
      "source": [
        "factorial(3)"
      ],
      "metadata": {
        "colab": {
          "base_uri": "https://localhost:8080/"
        },
        "id": "_I6tf4kVIsR-",
        "outputId": "5b739806-a2c9-4cf6-ed16-af504e933a82"
      },
      "execution_count": 122,
      "outputs": [
        {
          "output_type": "execute_result",
          "data": {
            "text/plain": [
              "6"
            ]
          },
          "metadata": {},
          "execution_count": 122
        }
      ]
    },
    {
      "cell_type": "code",
      "source": [
        "factorial(1)"
      ],
      "metadata": {
        "colab": {
          "base_uri": "https://localhost:8080/"
        },
        "id": "2a4uEu7EIvFe",
        "outputId": "39db4a77-dfec-4762-9316-07916010a84c"
      },
      "execution_count": 123,
      "outputs": [
        {
          "output_type": "execute_result",
          "data": {
            "text/plain": [
              "1"
            ]
          },
          "metadata": {},
          "execution_count": 123
        }
      ]
    },
    {
      "cell_type": "code",
      "source": [
        "factorial(0)"
      ],
      "metadata": {
        "colab": {
          "base_uri": "https://localhost:8080/"
        },
        "id": "FgztBy3FIxT-",
        "outputId": "6be6e211-7c9d-4957-b47b-70b1663d1d44"
      },
      "execution_count": 124,
      "outputs": [
        {
          "output_type": "execute_result",
          "data": {
            "text/plain": [
              "1"
            ]
          },
          "metadata": {},
          "execution_count": 124
        }
      ]
    },
    {
      "cell_type": "markdown",
      "source": [
        "**Question 5**\n",
        "Hamming distance is the number of characters that differ between two strings.\n"
      ],
      "metadata": {
        "id": "rlTxX60dI0Mm"
      }
    },
    {
      "cell_type": "markdown",
      "source": [
        "To illustrate:\n",
        "String1: \"abcbba\"\n",
        "String2: \"abcbda\"\n",
        "\n",
        "Hamming Distance: 1 - \"b\" vs. \"d\" is the only difference.\n",
        "Create a function that computes the hamming distance between two strings.\n"
      ],
      "metadata": {
        "id": "L9gy9ZfcI4Zn"
      }
    },
    {
      "cell_type": "markdown",
      "source": [
        "**Examples**\n",
        "\n",
        "\n",
        "```\n",
        "hamming_distance(\"abcde\", \"bcdef\") ➞ 5\n",
        "\n",
        "hamming_distance(\"abcde\", \"abcde\") ➞ 0\n",
        "\n",
        "hamming_distance(\"strong\", \"strung\") ➞ 1\n",
        "```\n",
        "\n",
        "\n"
      ],
      "metadata": {
        "id": "w_myhEdnI7Nx"
      }
    },
    {
      "cell_type": "code",
      "source": [
        "def hamming_distance(a,b):\n",
        "  try:\n",
        "    if len(a) != len(b):\n",
        "      return \"Length Mismatch\"\n",
        "    ctr=0\n",
        "    for i in range(len(a)):\n",
        "      if a[i] !=b[i]:\n",
        "        ctr+=1\n",
        "    return ctr\n",
        "  except Exception as e:\n",
        "    return \"error : \"+ str(e)\n",
        "\n",
        "\n",
        "\n"
      ],
      "metadata": {
        "id": "N0QVGuEIJCGj"
      },
      "execution_count": 125,
      "outputs": []
    },
    {
      "cell_type": "code",
      "source": [
        "hamming_distance(\"abcde\", \"bcdef\") "
      ],
      "metadata": {
        "colab": {
          "base_uri": "https://localhost:8080/"
        },
        "id": "2ZrdJEIPKOmu",
        "outputId": "c10236fb-8549-4bca-c74d-24844eb3912e"
      },
      "execution_count": 126,
      "outputs": [
        {
          "output_type": "execute_result",
          "data": {
            "text/plain": [
              "5"
            ]
          },
          "metadata": {},
          "execution_count": 126
        }
      ]
    },
    {
      "cell_type": "code",
      "source": [
        "hamming_distance(\"abcde\", \"abcde\")"
      ],
      "metadata": {
        "colab": {
          "base_uri": "https://localhost:8080/"
        },
        "id": "f2ppBvDaKQ9F",
        "outputId": "f9e2374d-e8fe-4005-f00d-8569eccaf1d4"
      },
      "execution_count": 127,
      "outputs": [
        {
          "output_type": "execute_result",
          "data": {
            "text/plain": [
              "0"
            ]
          },
          "metadata": {},
          "execution_count": 127
        }
      ]
    },
    {
      "cell_type": "code",
      "source": [
        "hamming_distance(\"strong\", \"strung\")"
      ],
      "metadata": {
        "colab": {
          "base_uri": "https://localhost:8080/"
        },
        "id": "DjN0dlTNKTJV",
        "outputId": "f35fee1a-2081-4256-ff01-8e38faa1c829"
      },
      "execution_count": 128,
      "outputs": [
        {
          "output_type": "execute_result",
          "data": {
            "text/plain": [
              "1"
            ]
          },
          "metadata": {},
          "execution_count": 128
        }
      ]
    },
    {
      "cell_type": "code",
      "source": [
        "hamming_distance(\"strong\", \"stru\")"
      ],
      "metadata": {
        "colab": {
          "base_uri": "https://localhost:8080/",
          "height": 35
        },
        "id": "pN2qUHQ4KUKt",
        "outputId": "13e37e48-8ada-4ea9-c92f-4fa6318be7ed"
      },
      "execution_count": 129,
      "outputs": [
        {
          "output_type": "execute_result",
          "data": {
            "application/vnd.google.colaboratory.intrinsic+json": {
              "type": "string"
            },
            "text/plain": [
              "'Length Mismatch'"
            ]
          },
          "metadata": {},
          "execution_count": 129
        }
      ]
    },
    {
      "cell_type": "code",
      "source": [
        "hamming_distance(\"strong\",123456)"
      ],
      "metadata": {
        "colab": {
          "base_uri": "https://localhost:8080/",
          "height": 35
        },
        "id": "alxKk9R9KV38",
        "outputId": "f0e3afd9-30f8-4279-ee3e-ed60b6319c08"
      },
      "execution_count": 130,
      "outputs": [
        {
          "output_type": "execute_result",
          "data": {
            "application/vnd.google.colaboratory.intrinsic+json": {
              "type": "string"
            },
            "text/plain": [
              "\"error : object of type 'int' has no len()\""
            ]
          },
          "metadata": {},
          "execution_count": 130
        }
      ]
    }
  ]
}